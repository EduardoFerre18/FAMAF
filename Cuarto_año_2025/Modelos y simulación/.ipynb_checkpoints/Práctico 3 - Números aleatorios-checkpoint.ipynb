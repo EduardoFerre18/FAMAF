{
 "cells": [
  {
   "cell_type": "code",
   "execution_count": 1,
   "id": "0af9b830",
   "metadata": {},
   "outputs": [],
   "source": [
    "import random\n",
    "import math\n",
    "import numpy as np\n",
    "from scipy.stats import expon"
   ]
  },
  {
   "cell_type": "markdown",
   "id": "494a0165",
   "metadata": {},
   "source": [
    "## Ejercicio 1"
   ]
  },
  {
   "cell_type": "code",
   "execution_count": 2,
   "id": "6cdd9134",
   "metadata": {},
   "outputs": [],
   "source": [
    "def vonNeumann(u):\n",
    "    u= ((u**2 // 100) % 10000)\n",
    "    return u"
   ]
  },
  {
   "cell_type": "code",
   "execution_count": 3,
   "id": "6e1feb4e",
   "metadata": {},
   "outputs": [
    {
     "name": "stdout",
     "output_type": "stream",
     "text": [
      "1º numero: 5227\n",
      "2º numero: 3215\n",
      "3º numero: 3362\n",
      "4º numero: 3030\n",
      "5º numero: 1809\n",
      "6º numero: 2724\n",
      "7º numero: 4201\n",
      "8º numero: 6484\n",
      "9º numero: 422\n",
      "10º numero: 1780\n"
     ]
    }
   ],
   "source": [
    "i = 1234\n",
    "for u in range(1, 11):\n",
    "    i = vonNeumann(i)\n",
    "    print(str(u) + \"º numero: \" + str(i))"
   ]
  },
  {
   "cell_type": "code",
   "execution_count": 4,
   "id": "79bed45a",
   "metadata": {},
   "outputs": [],
   "source": [
    "def randMixto(a,c,M,u):\n",
    "    return (a*u+c) % M"
   ]
  },
  {
   "cell_type": "code",
   "execution_count": 5,
   "id": "be478532",
   "metadata": {},
   "outputs": [
    {
     "name": "stdout",
     "output_type": "stream",
     "text": [
      "0º numero: 2\n",
      "1º numero: 13\n",
      "2º numero: 0\n",
      "3º numero: 3\n",
      "4º numero: 1\n",
      "5º numero: 8\n",
      "6º numero: 9\n",
      "7º numero: 14\n",
      "8º numero: 5\n",
      "9º numero: 11\n",
      "10º numero: 7\n",
      "11º numero: 4\n",
      "12º numero: 6\n",
      "13º numero: 16\n",
      "14º numero: 15\n",
      "15º numero: 10\n",
      "16º numero: 2\n",
      "17º numero: 13\n",
      "18º numero: 0\n",
      "19º numero: 3\n",
      "20º numero: 1\n",
      "21º numero: 8\n",
      "22º numero: 9\n",
      "23º numero: 14\n",
      "24º numero: 5\n",
      "25º numero: 11\n",
      "26º numero: 7\n",
      "27º numero: 4\n",
      "28º numero: 6\n",
      "29º numero: 16\n",
      "30º numero: 15\n",
      "31º numero: 10\n",
      "32º numero: 2\n",
      "33º numero: 13\n",
      "34º numero: 0\n",
      "35º numero: 3\n",
      "36º numero: 1\n",
      "37º numero: 8\n",
      "38º numero: 9\n",
      "39º numero: 14\n",
      "40º numero: 5\n",
      "41º numero: 11\n",
      "42º numero: 7\n",
      "43º numero: 4\n",
      "44º numero: 6\n",
      "45º numero: 16\n",
      "46º numero: 15\n",
      "47º numero: 10\n",
      "48º numero: 2\n",
      "49º numero: 13\n",
      "50º numero: 0\n",
      "51º numero: 3\n",
      "52º numero: 1\n",
      "53º numero: 8\n",
      "54º numero: 9\n",
      "55º numero: 14\n",
      "56º numero: 5\n",
      "57º numero: 11\n",
      "58º numero: 7\n",
      "59º numero: 4\n",
      "60º numero: 6\n",
      "61º numero: 16\n",
      "62º numero: 15\n",
      "63º numero: 10\n",
      "64º numero: 2\n",
      "65º numero: 13\n",
      "66º numero: 0\n",
      "67º numero: 3\n",
      "68º numero: 1\n",
      "69º numero: 8\n",
      "70º numero: 9\n",
      "71º numero: 14\n",
      "72º numero: 5\n",
      "73º numero: 11\n",
      "74º numero: 7\n",
      "75º numero: 4\n",
      "76º numero: 6\n",
      "77º numero: 16\n",
      "78º numero: 15\n",
      "79º numero: 10\n",
      "80º numero: 2\n",
      "81º numero: 13\n",
      "82º numero: 0\n",
      "83º numero: 3\n",
      "84º numero: 1\n",
      "85º numero: 8\n",
      "86º numero: 9\n",
      "87º numero: 14\n",
      "88º numero: 5\n",
      "89º numero: 11\n",
      "90º numero: 7\n",
      "91º numero: 4\n",
      "92º numero: 6\n",
      "93º numero: 16\n",
      "94º numero: 15\n",
      "95º numero: 10\n",
      "96º numero: 2\n",
      "97º numero: 13\n",
      "98º numero: 0\n",
      "99º numero: 3\n",
      "100º numero: 1\n",
      "101º numero: 8\n",
      "102º numero: 9\n",
      "103º numero: 14\n",
      "104º numero: 5\n",
      "105º numero: 11\n",
      "106º numero: 7\n",
      "107º numero: 4\n",
      "108º numero: 6\n",
      "109º numero: 16\n",
      "110º numero: 15\n",
      "111º numero: 10\n",
      "112º numero: 2\n",
      "113º numero: 13\n",
      "114º numero: 0\n",
      "115º numero: 3\n",
      "116º numero: 1\n",
      "117º numero: 8\n",
      "118º numero: 9\n",
      "119º numero: 14\n",
      "120º numero: 5\n",
      "121º numero: 11\n",
      "122º numero: 7\n",
      "123º numero: 4\n",
      "124º numero: 6\n",
      "125º numero: 16\n",
      "126º numero: 15\n",
      "127º numero: 10\n",
      "128º numero: 2\n",
      "129º numero: 13\n",
      "130º numero: 0\n",
      "131º numero: 3\n",
      "132º numero: 1\n",
      "133º numero: 8\n",
      "134º numero: 9\n",
      "135º numero: 14\n",
      "136º numero: 5\n",
      "137º numero: 11\n",
      "138º numero: 7\n",
      "139º numero: 4\n",
      "140º numero: 6\n",
      "141º numero: 16\n",
      "142º numero: 15\n",
      "143º numero: 10\n",
      "144º numero: 2\n",
      "145º numero: 13\n",
      "146º numero: 0\n",
      "147º numero: 3\n",
      "148º numero: 1\n",
      "149º numero: 8\n",
      "150º numero: 9\n",
      "151º numero: 14\n",
      "152º numero: 5\n",
      "153º numero: 11\n",
      "154º numero: 7\n",
      "155º numero: 4\n",
      "156º numero: 6\n",
      "157º numero: 16\n",
      "158º numero: 15\n",
      "159º numero: 10\n",
      "160º numero: 2\n",
      "161º numero: 13\n",
      "162º numero: 0\n",
      "163º numero: 3\n",
      "164º numero: 1\n",
      "165º numero: 8\n",
      "166º numero: 9\n",
      "167º numero: 14\n",
      "168º numero: 5\n",
      "169º numero: 11\n",
      "170º numero: 7\n",
      "171º numero: 4\n",
      "172º numero: 6\n",
      "173º numero: 16\n",
      "174º numero: 15\n",
      "175º numero: 10\n",
      "176º numero: 2\n",
      "177º numero: 13\n",
      "178º numero: 0\n",
      "179º numero: 3\n",
      "180º numero: 1\n",
      "181º numero: 8\n",
      "182º numero: 9\n",
      "183º numero: 14\n",
      "184º numero: 5\n",
      "185º numero: 11\n",
      "186º numero: 7\n",
      "187º numero: 4\n",
      "188º numero: 6\n",
      "189º numero: 16\n",
      "190º numero: 15\n",
      "191º numero: 10\n",
      "192º numero: 2\n",
      "193º numero: 13\n",
      "194º numero: 0\n",
      "195º numero: 3\n",
      "196º numero: 1\n",
      "197º numero: 8\n",
      "198º numero: 9\n",
      "199º numero: 14\n",
      "200º numero: 5\n",
      "201º numero: 11\n",
      "202º numero: 7\n",
      "203º numero: 4\n",
      "204º numero: 6\n",
      "205º numero: 16\n",
      "206º numero: 15\n",
      "207º numero: 10\n",
      "208º numero: 2\n",
      "209º numero: 13\n",
      "210º numero: 0\n",
      "211º numero: 3\n",
      "212º numero: 1\n",
      "213º numero: 8\n",
      "214º numero: 9\n",
      "215º numero: 14\n",
      "216º numero: 5\n",
      "217º numero: 11\n",
      "218º numero: 7\n",
      "219º numero: 4\n",
      "220º numero: 6\n",
      "221º numero: 16\n",
      "222º numero: 15\n",
      "223º numero: 10\n",
      "224º numero: 2\n",
      "225º numero: 13\n",
      "226º numero: 0\n",
      "227º numero: 3\n",
      "228º numero: 1\n",
      "229º numero: 8\n",
      "230º numero: 9\n",
      "231º numero: 14\n",
      "232º numero: 5\n",
      "233º numero: 11\n",
      "234º numero: 7\n",
      "235º numero: 4\n",
      "236º numero: 6\n",
      "237º numero: 16\n",
      "238º numero: 15\n",
      "239º numero: 10\n",
      "240º numero: 2\n",
      "241º numero: 13\n",
      "242º numero: 0\n",
      "243º numero: 3\n",
      "244º numero: 1\n",
      "245º numero: 8\n",
      "246º numero: 9\n",
      "247º numero: 14\n",
      "248º numero: 5\n",
      "249º numero: 11\n",
      "250º numero: 7\n",
      "251º numero: 4\n",
      "252º numero: 6\n",
      "253º numero: 16\n",
      "254º numero: 15\n",
      "255º numero: 10\n",
      "256º numero: 2\n",
      "257º numero: 13\n",
      "258º numero: 0\n",
      "259º numero: 3\n",
      "260º numero: 1\n",
      "261º numero: 8\n",
      "262º numero: 9\n",
      "263º numero: 14\n",
      "264º numero: 5\n",
      "265º numero: 11\n",
      "266º numero: 7\n",
      "267º numero: 4\n",
      "268º numero: 6\n",
      "269º numero: 16\n",
      "270º numero: 15\n",
      "271º numero: 10\n",
      "272º numero: 2\n",
      "273º numero: 13\n",
      "274º numero: 0\n",
      "275º numero: 3\n",
      "276º numero: 1\n",
      "277º numero: 8\n",
      "278º numero: 9\n",
      "279º numero: 14\n",
      "280º numero: 5\n",
      "281º numero: 11\n",
      "282º numero: 7\n",
      "283º numero: 4\n",
      "284º numero: 6\n",
      "285º numero: 16\n",
      "286º numero: 15\n",
      "287º numero: 10\n",
      "288º numero: 2\n",
      "289º numero: 13\n",
      "290º numero: 0\n",
      "291º numero: 3\n",
      "292º numero: 1\n",
      "293º numero: 8\n",
      "294º numero: 9\n",
      "295º numero: 14\n",
      "296º numero: 5\n",
      "297º numero: 11\n",
      "298º numero: 7\n",
      "299º numero: 4\n",
      "300º numero: 6\n",
      "301º numero: 16\n",
      "302º numero: 15\n",
      "303º numero: 10\n",
      "304º numero: 2\n",
      "305º numero: 13\n",
      "306º numero: 0\n",
      "307º numero: 3\n",
      "308º numero: 1\n",
      "309º numero: 8\n",
      "310º numero: 9\n",
      "311º numero: 14\n",
      "312º numero: 5\n",
      "313º numero: 11\n",
      "314º numero: 7\n",
      "315º numero: 4\n",
      "316º numero: 6\n",
      "317º numero: 16\n",
      "318º numero: 15\n",
      "319º numero: 10\n",
      "320º numero: 2\n",
      "321º numero: 13\n",
      "322º numero: 0\n",
      "323º numero: 3\n",
      "324º numero: 1\n",
      "325º numero: 8\n",
      "326º numero: 9\n",
      "327º numero: 14\n",
      "328º numero: 5\n",
      "329º numero: 11\n",
      "330º numero: 7\n",
      "331º numero: 4\n",
      "332º numero: 6\n",
      "333º numero: 16\n",
      "334º numero: 15\n",
      "335º numero: 10\n",
      "336º numero: 2\n",
      "337º numero: 13\n",
      "338º numero: 0\n",
      "339º numero: 3\n",
      "340º numero: 1\n",
      "341º numero: 8\n",
      "342º numero: 9\n",
      "343º numero: 14\n",
      "344º numero: 5\n",
      "345º numero: 11\n",
      "346º numero: 7\n",
      "347º numero: 4\n",
      "348º numero: 6\n",
      "349º numero: 16\n",
      "350º numero: 15\n",
      "351º numero: 10\n",
      "352º numero: 2\n",
      "353º numero: 13\n",
      "354º numero: 0\n",
      "355º numero: 3\n",
      "356º numero: 1\n",
      "357º numero: 8\n",
      "358º numero: 9\n",
      "359º numero: 14\n",
      "360º numero: 5\n",
      "361º numero: 11\n",
      "362º numero: 7\n",
      "363º numero: 4\n",
      "364º numero: 6\n",
      "365º numero: 16\n",
      "366º numero: 15\n",
      "367º numero: 10\n",
      "368º numero: 2\n",
      "369º numero: 13\n",
      "370º numero: 0\n",
      "371º numero: 3\n",
      "372º numero: 1\n",
      "373º numero: 8\n",
      "374º numero: 9\n",
      "375º numero: 14\n",
      "376º numero: 5\n",
      "377º numero: 11\n",
      "378º numero: 7\n",
      "379º numero: 4\n",
      "380º numero: 6\n",
      "381º numero: 16\n",
      "382º numero: 15\n",
      "383º numero: 10\n",
      "384º numero: 2\n",
      "385º numero: 13\n",
      "386º numero: 0\n",
      "387º numero: 3\n",
      "388º numero: 1\n",
      "389º numero: 8\n",
      "390º numero: 9\n",
      "391º numero: 14\n",
      "392º numero: 5\n",
      "393º numero: 11\n",
      "394º numero: 7\n",
      "395º numero: 4\n",
      "396º numero: 6\n",
      "397º numero: 16\n",
      "398º numero: 15\n",
      "399º numero: 10\n",
      "400º numero: 2\n",
      "401º numero: 13\n",
      "402º numero: 0\n",
      "403º numero: 3\n",
      "404º numero: 1\n",
      "405º numero: 8\n",
      "406º numero: 9\n",
      "407º numero: 14\n",
      "408º numero: 5\n",
      "409º numero: 11\n",
      "410º numero: 7\n",
      "411º numero: 4\n",
      "412º numero: 6\n",
      "413º numero: 16\n",
      "414º numero: 15\n",
      "415º numero: 10\n",
      "416º numero: 2\n",
      "417º numero: 13\n",
      "418º numero: 0\n",
      "419º numero: 3\n",
      "420º numero: 1\n",
      "421º numero: 8\n",
      "422º numero: 9\n",
      "423º numero: 14\n",
      "424º numero: 5\n",
      "425º numero: 11\n",
      "426º numero: 7\n",
      "427º numero: 4\n",
      "428º numero: 6\n",
      "429º numero: 16\n",
      "430º numero: 15\n",
      "431º numero: 10\n",
      "432º numero: 2\n",
      "433º numero: 13\n",
      "434º numero: 0\n",
      "435º numero: 3\n",
      "436º numero: 1\n",
      "437º numero: 8\n",
      "438º numero: 9\n",
      "439º numero: 14\n",
      "440º numero: 5\n",
      "441º numero: 11\n",
      "442º numero: 7\n",
      "443º numero: 4\n",
      "444º numero: 6\n",
      "445º numero: 16\n",
      "446º numero: 15\n",
      "447º numero: 10\n",
      "448º numero: 2\n",
      "449º numero: 13\n",
      "450º numero: 0\n",
      "451º numero: 3\n",
      "452º numero: 1\n",
      "453º numero: 8\n",
      "454º numero: 9\n",
      "455º numero: 14\n",
      "456º numero: 5\n",
      "457º numero: 11\n",
      "458º numero: 7\n",
      "459º numero: 4\n",
      "460º numero: 6\n",
      "461º numero: 16\n",
      "462º numero: 15\n",
      "463º numero: 10\n",
      "464º numero: 2\n",
      "465º numero: 13\n",
      "466º numero: 0\n",
      "467º numero: 3\n",
      "468º numero: 1\n",
      "469º numero: 8\n",
      "470º numero: 9\n",
      "471º numero: 14\n",
      "472º numero: 5\n",
      "473º numero: 11\n",
      "474º numero: 7\n",
      "475º numero: 4\n",
      "476º numero: 6\n",
      "477º numero: 16\n",
      "478º numero: 15\n",
      "479º numero: 10\n",
      "480º numero: 2\n",
      "481º numero: 13\n",
      "482º numero: 0\n",
      "483º numero: 3\n",
      "484º numero: 1\n",
      "485º numero: 8\n",
      "486º numero: 9\n",
      "487º numero: 14\n",
      "488º numero: 5\n",
      "489º numero: 11\n",
      "490º numero: 7\n",
      "491º numero: 4\n",
      "492º numero: 6\n",
      "493º numero: 16\n",
      "494º numero: 15\n",
      "495º numero: 10\n",
      "496º numero: 2\n",
      "497º numero: 13\n",
      "498º numero: 0\n",
      "499º numero: 3\n",
      "500º numero: 1\n",
      "501º numero: 8\n",
      "502º numero: 9\n",
      "503º numero: 14\n",
      "504º numero: 5\n",
      "505º numero: 11\n",
      "506º numero: 7\n",
      "507º numero: 4\n",
      "508º numero: 6\n",
      "509º numero: 16\n",
      "510º numero: 15\n",
      "511º numero: 10\n",
      "512º numero: 2\n",
      "513º numero: 13\n",
      "514º numero: 0\n",
      "515º numero: 3\n",
      "516º numero: 1\n",
      "517º numero: 8\n",
      "518º numero: 9\n",
      "519º numero: 14\n",
      "520º numero: 5\n",
      "521º numero: 11\n"
     ]
    }
   ],
   "source": [
    "a = 5\n",
    "c = 3\n",
    "M = 17\n",
    "y0 = 2\n",
    "print(str(0) + \"º numero: \" + str(y0))\n",
    "for n in range(1, pow(2, 9) + 10):\n",
    "    y_n = randMixto(a, c, M, y0)\n",
    "    y0 = y_n\n",
    "    print(str(n) + \"º numero: \" + str(y_n))"
   ]
  },
  {
   "cell_type": "markdown",
   "id": "b578adf6",
   "metadata": {},
   "source": [
    "## Ejercicio 2"
   ]
  },
  {
   "cell_type": "code",
   "execution_count": 6,
   "id": "d43e17a1",
   "metadata": {},
   "outputs": [],
   "source": [
    "def juego_azar():\n",
    "    u = random.random()\n",
    "    if u < 1/2:\n",
    "        w1 = random.random()\n",
    "        w2 = random.random()\n",
    "        x = w1 + w2\n",
    "    else:\n",
    "        w1 = random.random()\n",
    "        w2 = random.random()\n",
    "        w3 = random.random()\n",
    "        x = w1 + w2 + w3\n",
    "    return x"
   ]
  },
  {
   "cell_type": "code",
   "execution_count": 7,
   "id": "acf4d2e3",
   "metadata": {},
   "outputs": [
    {
     "name": "stdout",
     "output_type": "stream",
     "text": [
      "0.666786\n"
     ]
    }
   ],
   "source": [
    "nsim = 1000000\n",
    "prob = 0\n",
    "for i in range(0, nsim):\n",
    "    x = juego_azar()\n",
    "    if x >= 1:\n",
    "        prob += 1\n",
    "prob /= nsim\n",
    "print(prob)"
   ]
  },
  {
   "cell_type": "markdown",
   "id": "c1dbf4c2",
   "metadata": {},
   "source": [
    "## Ejercicio 3"
   ]
  },
  {
   "cell_type": "code",
   "execution_count": 8,
   "id": "04ccefdd",
   "metadata": {},
   "outputs": [],
   "source": [
    "def juego_tragamonedas():\n",
    "    u = random.random()\n",
    "    w1 = random.random()\n",
    "    w2 = random.random()\n",
    "    if u < 1/3:\n",
    "        x = w1 + w2\n",
    "    else:\n",
    "        w3 = random.random()\n",
    "        x = w1 + w2 + w3\n",
    "    return x"
   ]
  },
  {
   "cell_type": "code",
   "execution_count": 9,
   "id": "90015850",
   "metadata": {},
   "outputs": [
    {
     "name": "stdout",
     "output_type": "stream",
     "text": [
      "0.874\n"
     ]
    }
   ],
   "source": [
    "nsim = 1000\n",
    "prob = 0\n",
    "for i in range(0, nsim):\n",
    "    x = juego_tragamonedas()\n",
    "    if x <= 2:\n",
    "        prob += 1\n",
    "prob /= nsim\n",
    "print(prob)"
   ]
  },
  {
   "cell_type": "markdown",
   "id": "9f16dc99",
   "metadata": {},
   "source": [
    "## Ejercicio 4"
   ]
  },
  {
   "cell_type": "code",
   "execution_count": 10,
   "id": "00918805",
   "metadata": {},
   "outputs": [],
   "source": [
    "def tiempo_espera():\n",
    "    c = random.random()\n",
    "    t = 0\n",
    "    if c < 0.40:\n",
    "        y_1 = expon.rvs(scale=3)\n",
    "        t = y_1\n",
    "    elif c < 0.72:\n",
    "        y_2 = expon.rvs(scale=4)\n",
    "        t = y_2\n",
    "    else:\n",
    "        y_3 = expon.rvs(scale=5)\n",
    "        t = y_3\n",
    "    return t"
   ]
  },
  {
   "cell_type": "code",
   "execution_count": 11,
   "id": "0b96f434",
   "metadata": {},
   "outputs": [
    {
     "name": "stdout",
     "output_type": "stream",
     "text": [
      "0.65089\n"
     ]
    }
   ],
   "source": [
    "nsim = 100000\n",
    "sum_t = 0\n",
    "for i in range(0, nsim):\n",
    "    t = tiempo_espera()\n",
    "    if t < 4:\n",
    "        sum_t += 1\n",
    "print(sum_t/nsim)"
   ]
  },
  {
   "cell_type": "code",
   "execution_count": 12,
   "id": "3943718f",
   "metadata": {},
   "outputs": [],
   "source": [
    "def prob_caja_1():\n",
    "    p = 0\n",
    "    tiempo_caja = expon.rvs(scale=3, size=1)[0]\n",
    "    if tiempo_caja >= 4:\n",
    "        prob_caja = random.random()\n",
    "        if prob_caja < 0.40:\n",
    "            p = 1\n",
    "    return p/(1-0.65102)"
   ]
  },
  {
   "cell_type": "code",
   "execution_count": 13,
   "id": "f63e3307",
   "metadata": {},
   "outputs": [
    {
     "name": "stdout",
     "output_type": "stream",
     "text": [
      "0.3123388159779936\n"
     ]
    }
   ],
   "source": [
    "nsim = 1000\n",
    "sum_probs = 0\n",
    "for i in range(0, nsim):\n",
    "    prob = prob_caja_1()\n",
    "    sum_probs += prob\n",
    "print(sum_probs/nsim)"
   ]
  },
  {
   "cell_type": "code",
   "execution_count": 14,
   "id": "fe88d235",
   "metadata": {},
   "outputs": [],
   "source": [
    "def prob_caja_2():\n",
    "    p = 0\n",
    "    tiempo_caja = expon.rvs(scale=4, size=1)[0]\n",
    "    if tiempo_caja >= 4:\n",
    "        prob_caja = random.random()\n",
    "        if prob_caja < 0.32:\n",
    "            p = 1\n",
    "    return p/(1-0.65102)"
   ]
  },
  {
   "cell_type": "code",
   "execution_count": 15,
   "id": "291601b1",
   "metadata": {},
   "outputs": [
    {
     "name": "stdout",
     "output_type": "stream",
     "text": [
      "0.3381282594991124\n"
     ]
    }
   ],
   "source": [
    "nsim = 1000\n",
    "sum_probs = 0\n",
    "for i in range(0, nsim):\n",
    "    prob = prob_caja_2()\n",
    "    sum_probs += prob\n",
    "print(sum_probs/nsim)"
   ]
  },
  {
   "cell_type": "code",
   "execution_count": 16,
   "id": "80ee2380",
   "metadata": {},
   "outputs": [],
   "source": [
    "def prob_caja_3():\n",
    "    p = 0\n",
    "    tiempo_caja = expon.rvs(scale=5, size=1)[0]\n",
    "    if tiempo_caja >= 4:\n",
    "        prob_caja = random.random()\n",
    "        if prob_caja < 0.28:\n",
    "            p = 1\n",
    "    return p/(1-0.65102)"
   ]
  },
  {
   "cell_type": "code",
   "execution_count": 17,
   "id": "e3c918c8",
   "metadata": {},
   "outputs": [
    {
     "name": "stdout",
     "output_type": "stream",
     "text": [
      "0.3782451716430749\n"
     ]
    }
   ],
   "source": [
    "nsim = 1000\n",
    "sum_probs = 0\n",
    "for i in range(0, nsim):\n",
    "    prob = prob_caja_3()\n",
    "    sum_probs += prob\n",
    "print(sum_probs/nsim)"
   ]
  },
  {
   "cell_type": "markdown",
   "id": "dcd8f4a0",
   "metadata": {},
   "source": [
    "## Ejercicio 5"
   ]
  },
  {
   "cell_type": "code",
   "execution_count": 18,
   "id": "dca34365",
   "metadata": {},
   "outputs": [],
   "source": [
    "def IntegralMonteCarlo(funciong, a, b, Nsim):\n",
    "    if a != -np.inf and b != np.inf:\n",
    "        Integral = 0\n",
    "        for _ in range(Nsim):\n",
    "            Integral += funciong(a + (b-a) * random.random())\n",
    "        result = Integral * (b-a)/Nsim\n",
    "    elif b == np.inf and a != -np.inf:\n",
    "        Integral = 0\n",
    "        if a == 0:\n",
    "            for _ in range(Nsim):\n",
    "                x = random.random()\n",
    "                Integral += (1/pow(x, 2))*funciong(((1/x) - 1))\n",
    "            result = Integral / Nsim\n",
    "        else:\n",
    "            result1 = IntegralMonteCarlo(funciong, 0, b, Nsim)\n",
    "            result2 = IntegralMonteCarlo(funciong, a, 0, Nsim)\n",
    "            result = result1 + result2\n",
    "    elif b != np.inf and a == -np.inf:\n",
    "        Integral = 0\n",
    "        if b == 0:\n",
    "            for _ in range(Nsim):\n",
    "                x = random.random()\n",
    "                Integral += (1/pow(x, 2))*funciong(-(1/(x)) + 1)\n",
    "            result = Integral / Nsim\n",
    "        else:\n",
    "            result1 = IntegralMonteCarlo(funciong, 0, b, Nsim)\n",
    "            result2 = IntegralMonteCarlo(funciong, a, 0, Nsim)\n",
    "            result = result1 + result2\n",
    "    elif a == -np.inf and b == np.inf:\n",
    "        result1 = IntegralMonteCarlo(funciong, 0, b, Nsim)\n",
    "        result2 = IntegralMonteCarlo(funciong, a, 0, Nsim)\n",
    "        result = result1 + result2\n",
    "    return result"
   ]
  },
  {
   "cell_type": "markdown",
   "id": "494f6b3c",
   "metadata": {},
   "source": [
    "$$\\int_{0}^1 (1-x^2)^{3/2}dx $$"
   ]
  },
  {
   "cell_type": "code",
   "execution_count": 19,
   "id": "9c04676a",
   "metadata": {},
   "outputs": [
    {
     "name": "stdout",
     "output_type": "stream",
     "text": [
      "0.5886878075357264\n"
     ]
    }
   ],
   "source": [
    "result = IntegralMonteCarlo((lambda x: pow((1-pow(x, 2)), 3/2)), 0, 1, 1000000)\n",
    "print(result)"
   ]
  },
  {
   "cell_type": "markdown",
   "id": "54c44b27",
   "metadata": {},
   "source": [
    "$$\\int_{2}^3 \\frac{x}{x^2 - 1}dx $$"
   ]
  },
  {
   "cell_type": "code",
   "execution_count": 20,
   "id": "26426fc3",
   "metadata": {},
   "outputs": [
    {
     "name": "stdout",
     "output_type": "stream",
     "text": [
      "0.49048974061512424\n"
     ]
    }
   ],
   "source": [
    "result = IntegralMonteCarlo((lambda x: x/(pow(x, 2) - 1)), 2, 3, 1000000)\n",
    "print(result)"
   ]
  },
  {
   "cell_type": "markdown",
   "id": "444dff38",
   "metadata": {},
   "source": [
    "$$\\int_{0}^\\infty x (1 + x^2)^{-2}dx $$"
   ]
  },
  {
   "cell_type": "code",
   "execution_count": 21,
   "id": "4cba9742",
   "metadata": {},
   "outputs": [
    {
     "name": "stdout",
     "output_type": "stream",
     "text": [
      "0.49994335557218933\n"
     ]
    }
   ],
   "source": [
    "result = IntegralMonteCarlo((lambda x: x*pow((1+pow(x, 2)), -2)), 0, np.inf, 1000000)\n",
    "print(result)"
   ]
  },
  {
   "cell_type": "markdown",
   "id": "254e29f2",
   "metadata": {},
   "source": [
    "$$\\int_{-\\infty}^\\infty e^{-x^2}dx $$"
   ]
  },
  {
   "cell_type": "code",
   "execution_count": 22,
   "id": "39213531",
   "metadata": {},
   "outputs": [
    {
     "name": "stdout",
     "output_type": "stream",
     "text": [
      "1.7716482255831445\n"
     ]
    }
   ],
   "source": [
    "result = IntegralMonteCarlo(lambda x: math.exp(-pow(x, 2)), -np.inf, np.inf, 1000000)\n",
    "print(result)"
   ]
  },
  {
   "cell_type": "markdown",
   "id": "c6dc9644",
   "metadata": {},
   "source": [
    "$$\\int_{0}^1 \\int_{0}^1 e^{(x+y)^2}dy dx $$"
   ]
  },
  {
   "cell_type": "code",
   "execution_count": 23,
   "id": "aeda0445",
   "metadata": {},
   "outputs": [
    {
     "name": "stdout",
     "output_type": "stream",
     "text": [
      "4.901231553831911\n"
     ]
    }
   ],
   "source": [
    "Integral = 0\n",
    "Nsim = 1000000\n",
    "funciong = (lambda x, y: math.exp(pow(x+y, 2)))\n",
    "a = 0\n",
    "b = 1\n",
    "for _ in range(Nsim):\n",
    "    Integral += funciong(a + (b-a) * random.random(), a + (b-a) * random.random())\n",
    "result = Integral * (b-a)/Nsim\n",
    "print(result)"
   ]
  },
  {
   "cell_type": "markdown",
   "id": "822f964f",
   "metadata": {},
   "source": [
    "$$\\int_{0}^\\infty \\int_{0}^x e^{-(x+y)^2}dy dx $$"
   ]
  },
  {
   "cell_type": "code",
   "execution_count": 24,
   "id": "59d0471a",
   "metadata": {},
   "outputs": [
    {
     "name": "stdout",
     "output_type": "stream",
     "text": [
      "0.24925043391734633\n"
     ]
    }
   ],
   "source": [
    "Integral = 0\n",
    "Nsim = 1000000\n",
    "funciong = (lambda x, y: (1/x - 1) * math.exp(-pow(1/x-1+y*(1/x-1), 2)) * pow(1/x, 2))\n",
    "a = 0\n",
    "b = 1\n",
    "for _ in range(Nsim):\n",
    "    Integral += funciong(a + (b-a) * random.random(), a + (b-a) * random.random())\n",
    "result = Integral * (b-a)/Nsim\n",
    "print(result)"
   ]
  },
  {
   "cell_type": "markdown",
   "id": "326db781",
   "metadata": {},
   "source": [
    "## Ejercicio 6"
   ]
  },
  {
   "cell_type": "code",
   "execution_count": 25,
   "id": "96b766ac",
   "metadata": {},
   "outputs": [],
   "source": [
    "def N():\n",
    "    n = 0\n",
    "    sum_t = 0\n",
    "    while sum_t <= 1:\n",
    "        sum_t += random.random()\n",
    "        n += 1\n",
    "    return n\n",
    "\n",
    "def min_n_sum(Nsim):\n",
    "    p = 0\n",
    "    for _ in range (Nsim):\n",
    "        p += N()\n",
    "    return p/Nsim"
   ]
  },
  {
   "cell_type": "code",
   "execution_count": 26,
   "id": "a7104f61",
   "metadata": {},
   "outputs": [
    {
     "data": {
      "text/plain": [
       "2.71909"
      ]
     },
     "execution_count": 26,
     "metadata": {},
     "output_type": "execute_result"
    }
   ],
   "source": [
    "min_n_sum(1000000)"
   ]
  },
  {
   "cell_type": "markdown",
   "id": "4c6cb729",
   "metadata": {},
   "source": [
    "## Ejercicio 7"
   ]
  },
  {
   "cell_type": "code",
   "execution_count": 27,
   "id": "855979d5",
   "metadata": {},
   "outputs": [],
   "source": [
    "def N2():\n",
    "    p = 1\n",
    "    n = 0\n",
    "    while p >= math.exp(-3):\n",
    "        p *= random.random()\n",
    "        n += 1\n",
    "    return n - 1\n",
    "\n",
    "def max_n_product(Nsim):\n",
    "    p = 0\n",
    "    for _ in range(Nsim):\n",
    "        p += N2()\n",
    "    return p/Nsim"
   ]
  },
  {
   "cell_type": "code",
   "execution_count": 36,
   "id": "a5c8676c",
   "metadata": {},
   "outputs": [
    {
     "name": "stdout",
     "output_type": "stream",
     "text": [
      "Nro de simulaciones: 100, esperanza: 2.94\n",
      "Nro de simulaciones: 1000, esperanza: 2.989\n",
      "Nro de simulaciones: 10000, esperanza: 3.0144\n",
      "Nro de simulaciones: 100000, esperanza: 2.99305\n",
      "Nro de simulaciones: 1000000, esperanza: 3.001088\n"
     ]
    }
   ],
   "source": [
    "nsims =  [100, 1000, 10000, 100000, 1000000]\n",
    "for i in range(len(nsims)):\n",
    "    print(f\"Nro de simulaciones: {nsims[i]}, esperanza: {max_n_product(nsims[i])}\")"
   ]
  },
  {
   "cell_type": "code",
   "execution_count": 29,
   "id": "153b7027",
   "metadata": {},
   "outputs": [],
   "source": [
    "def p_n_i(i, Nsim):\n",
    "    p = 0\n",
    "    for _ in range(Nsim):\n",
    "        x = N2()\n",
    "        if x == i:\n",
    "            p += 1\n",
    "    return p/Nsim\n",
    "    "
   ]
  },
  {
   "cell_type": "code",
   "execution_count": 30,
   "id": "ca94b7c8",
   "metadata": {},
   "outputs": [
    {
     "name": "stdout",
     "output_type": "stream",
     "text": [
      "P(N=0) = 0.049877\n",
      "P(N=1) = 0.148828\n",
      "P(N=2) = 0.223513\n",
      "P(N=3) = 0.223996\n",
      "P(N=4) = 0.168129\n",
      "P(N=5) = 0.101128\n",
      "P(N=6) = 0.050502\n"
     ]
    }
   ],
   "source": [
    "for i in range(7):\n",
    "    result = p_n_i(i, 1000000)\n",
    "    print(f\"P(N={i}) = {result}\")"
   ]
  },
  {
   "cell_type": "markdown",
   "id": "e06bd148",
   "metadata": {},
   "source": [
    "## Ejercicio 8"
   ]
  },
  {
   "cell_type": "code",
   "execution_count": 120,
   "id": "edae1baa",
   "metadata": {},
   "outputs": [],
   "source": [
    "def juego_ej_8(Nsim):\n",
    "    vict = 0\n",
    "    for i in range (Nsim):\n",
    "        dado = random.randint(1, 6)\n",
    "        if dado == 6 or dado == 1:\n",
    "            result = 2 * random.randint(1, 6)\n",
    "        else:\n",
    "            result = random.randint(1, 6) + random.randint(1, 6)\n",
    "        if result > 6:\n",
    "            vict += 1\n",
    "    return vict/Nsim"
   ]
  },
  {
   "cell_type": "code",
   "execution_count": 124,
   "id": "a5515a0e",
   "metadata": {},
   "outputs": [
    {
     "data": {
      "text/plain": [
       "0.55485"
      ]
     },
     "execution_count": 124,
     "metadata": {},
     "output_type": "execute_result"
    }
   ],
   "source": [
    "juego_ej_8(100000)"
   ]
  }
 ],
 "metadata": {
  "kernelspec": {
   "display_name": "Python 3 (ipykernel)",
   "language": "python",
   "name": "python3"
  },
  "language_info": {
   "codemirror_mode": {
    "name": "ipython",
    "version": 3
   },
   "file_extension": ".py",
   "mimetype": "text/x-python",
   "name": "python",
   "nbconvert_exporter": "python",
   "pygments_lexer": "ipython3",
   "version": "3.9.13"
  }
 },
 "nbformat": 4,
 "nbformat_minor": 5
}
