{
  "cells": [
    {
      "cell_type": "markdown",
      "metadata": {
        "id": "NRYEofSD0xoF"
      },
      "source": [
        "# Algebra lineal con **SciPy**\n",
        "\n",
        "Referencias:\n",
        "\n",
        "- https://docs.scipy.org/doc/scipy/reference/linalg.html\n",
        "- https://www.datacamp.com/cheat-sheet/scipy-cheat-sheet-linear-algebra-in-python\n",
        "\n",
        "## **Ejercicio 1)** Importando librerías\n",
        "\n",
        "Importe las librerías `numpy` para operar con arrays, `scipy` para utilizar rutinas de algebra lineal y `matplotlib.pyplot` para graficar.\n"
      ]
    },
    {
      "cell_type": "code",
      "execution_count": 1,
      "metadata": {
        "id": "I8N3D_nU1_oT"
      },
      "outputs": [],
      "source": [
        "import numpy as np\n",
        "import scipy as sp\n",
        "import scipy.linalg as linalg\n",
        "import matplotlib.pyplot as plt"
      ]
    },
    {
      "cell_type": "markdown",
      "metadata": {
        "id": "NcaGEHAd10sb"
      },
      "source": [
        "## **Ejercicio 2)** Inversa de una matriz\n",
        "\n",
        "Referencias:\n",
        "\n",
        "- https://docs.scipy.org/doc/scipy/reference/generated/scipy.linalg.inv.html#scipy.linalg.inv\n",
        "\n",
        "**1)** Use `linalg.inv()` para calcular la inversa $A^{-1}$ de la matriz\n",
        "\n",
        "\\begin{equation}\n",
        "A = \\bigg(\n",
        "\\begin{array}{cc}\n",
        "1 & 2 \\\\\n",
        "3 & 4\n",
        "\\end{array}\n",
        "\\bigg)\n",
        "\\end{equation}\n",
        "\n",
        "**2)** Use `np.dot()` para chequear que $A^{-1}A \\approx \\mathbb{I}$, donde $\\mathbb{I}$ es la matriz identidad.\n",
        "\n",
        "**3)** Chequee que $AA^{-1} \\approx \\mathbb{I}$.\n"
      ]
    },
    {
      "cell_type": "code",
      "execution_count": 2,
      "metadata": {
        "id": "tntEwNvE4SZC"
      },
      "outputs": [
        {
          "name": "stdout",
          "output_type": "stream",
          "text": [
            "Inversa de A:\n",
            "[[-2.   1. ]\n",
            " [ 1.5 -0.5]]\n",
            "\n",
            "Producto A_inv * A (debería ser la identidad):\n",
            "[[1.00000000e+00 0.00000000e+00]\n",
            " [1.11022302e-16 1.00000000e+00]]\n",
            "\n",
            "Producto A * A_inv (debería ser la identidad):\n",
            "[[1.0000000e+00 0.0000000e+00]\n",
            " [8.8817842e-16 1.0000000e+00]]\n"
          ]
        }
      ],
      "source": [
        "A = np.array([[1, 2], [3, 4]])\n",
        "A_inv = linalg.inv(A)\n",
        "print(\"Inversa de A:\")\n",
        "print(A_inv)\n",
        "\n",
        "\n",
        "# 2.2)\n",
        "\n",
        "I_approx1 = np.dot(A_inv, A)\n",
        "print(\"\\nProducto A_inv * A (debería ser la identidad):\")\n",
        "print(I_approx1)\n",
        "\n",
        "# 2.3)\n",
        "I_approx2 = np.dot(A, A_inv)\n",
        "print(\"\\nProducto A * A_inv (debería ser la identidad):\")\n",
        "print(I_approx2)"
      ]
    },
    {
      "cell_type": "markdown",
      "metadata": {
        "id": "4pp5DryY2azA"
      },
      "source": [
        "## **Ejercicio 3)** Sistema de ecuaciones lineales\n",
        "\n",
        "Referencias:\n",
        "\n",
        "- https://docs.scipy.org/doc/scipy/reference/generated/scipy.linalg.solve.html#scipy.linalg.solve\n",
        "\n",
        "**1)** Use `linalg.solve()` para resolver el sistema $Ax=b$ donde, $x$ es la incógnita,\n",
        "\n",
        "\\begin{equation}\n",
        "A = \\left(\n",
        "\\begin{array}{cc}\n",
        "3 & 2 & 0 \\\\\n",
        "1 & -1 & 0 \\\\\n",
        "0 & 5 & 1\n",
        "\\end{array}\n",
        "\\right)\n",
        "\\end{equation}\n",
        "\n",
        "y\n",
        "\n",
        "\\begin{equation}\n",
        "b = \\left(\n",
        "\\begin{array}{cc}\n",
        "2 \\\\\n",
        "4 \\\\\n",
        "1\n",
        "\\end{array}\n",
        "\\right)\n",
        "\\end{equation}\n",
        "\n",
        "**2)** Chequee que $Ax=b$.\n"
      ]
    },
    {
      "cell_type": "code",
      "execution_count": null,
      "metadata": {
        "id": "PshUolMT2ZtI"
      },
      "outputs": [
        {
          "name": "stdout",
          "output_type": "stream",
          "text": [
            "\n",
            "Solución del sistema Ax = b:\n",
            "[ 2. -2. 11.]\n",
            "Chequeo de la solución: \n",
            "True\n"
          ]
        }
      ],
      "source": [
        "# 3.1)\n",
        "\n",
        "A = np.array([[3, 2, 0], [1, -1 , 0], [0, 5, 1]])\n",
        "b = np.array([2, 4, 1]) # b = np.array([[2], [4], [1]])  # Alternativa como vector columna\n",
        "\n",
        "x = linalg.solve(A, b)\n",
        "print(\"\\nSolución del sistema Ax = b:\")\n",
        "print(x)\n",
        "\n",
        "# 3.2)\n",
        "print(\"Chequeo de la solución: \")\n",
        "print(np.allclose(np.dot(A, x), b))  # Debería ser True"
      ]
    },
    {
      "cell_type": "markdown",
      "metadata": {
        "id": "YS7bf2SJ2nws"
      },
      "source": [
        "## **Ejercicio 4)** Cuadrados mínimos\n",
        "\n",
        "Dada una matriz $X$ de dimensiones $n\\times m$ y un vector $y$ de dimensión $n$, la función `linalg.lstsq(X,y,...)` se usa para encontrar el vector $y$ de dimensión $m$ que minimize la norma L2 dada por $|y-Xc|$ con respecto al vector $c$ de dimensión $m$. Notar que minimizar esta cantidad no necesariamente implica que $Xc=y$. Minimizar $|y-Xc|$ es útil para infinidad de problemas. En particular, es útil para ajustar polinomios a curvas obtenidas de datos.\n",
        "\n",
        "Referencias:\n",
        "\n",
        "- https://docs.scipy.org/doc/scipy/reference/generated/scipy.linalg.lstsq.html#scipy.linalg.lstsq\n",
        "\n",
        "**1)** Use `linalg.lstsq(X,y)` para encontrar los coeficientes $c_0$, $c_1$ y $c_2$ del polinomio $p(x)=c_0+c_1x+c_2x^2$ que ajuste lo mejor posible los siguientes datos\n",
        "\n",
        "    x = np.array([1.0, 2.5, 3.5, 4.0, 5.0, 7.0, 8.5])\n",
        "    y = np.array([0.3, 1.1, 1.5, 2.0, 3.2, 6.6, 8.6])\n",
        "\n",
        "de acuerdo al método de cuadrados mínimos\n",
        "\n",
        "\\begin{eqnarray}\n",
        "\\min\\_{c_0,c_1,c_2} \\sum_i (y_i-p(x_i))^2\n",
        "\\end{eqnarray}\n",
        "\n",
        "**Ayuda:** Utilizar la matriz $X$ de entradas $X_{ij}=x_i^j$, i.e. la $j$-ésima potencia de $x_i$.\n",
        "\n",
        "**2)** Con el fin de evaluar la bondad del ajuste, grafique en una misma figura:\n",
        "\n",
        "- con símbolos los puntos $(x_i,y_i)$, y\n",
        "- con una curva el polinomio ajustado $p(x)$ vs $x$.\n"
      ]
    },
    {
      "cell_type": "code",
      "execution_count": 4,
      "metadata": {
        "id": "EQXxlhEM2k8s"
      },
      "outputs": [
        {
          "name": "stdout",
          "output_type": "stream",
          "text": [
            "Coeficientes del polinomio ajustado:\n",
            "[0.0578403  0.07701453 0.11262261]\n"
          ]
        },
        {
          "data": {
            "image/png": "[encoded data removed]",
            "text/plain": [
              "<Figure size 640x480 with 1 Axes>"
            ]
          },
          "metadata": {},
          "output_type": "display_data"
        }
      ],
      "source": [
        "# 4.1)\n",
        "\n",
        "x = np.array([1.0, 2.5, 3.5, 4.0, 5.0, 7.0, 8.5])\n",
        "y = np.array([0.3, 1.1, 1.5, 2.0, 3.2, 6.6, 8.6])\n",
        "\n",
        "X = np.column_stack([np.ones_like(x), x, x**2])\n",
        "\n",
        "c, residuals, rank, s = linalg.lstsq(X, y)\n",
        "print(\"Coeficientes del polinomio ajustado:\")\n",
        "print(c)\n",
        "\n",
        "# 4.2)\n",
        "\n",
        "x_fit = np.linspace(min(x), max(x), 100)\n",
        "y_fit = c[0] + c[1]*x_fit + c[2]*x_fit**2\n",
        "plt.scatter(x, y, color='red', label='Datos') \n",
        "plt.plot(x_fit, y_fit, label='Ajuste polinomial')\n",
        "plt.xlabel('x')\n",
        "plt.ylabel('y')\n",
        "plt.legend()\n",
        "plt.title('Ajuste de polinomio por mínimos cuadrados')\n",
        "plt.show()\n"
      ]
    },
    {
      "cell_type": "markdown",
      "metadata": {
        "id": "Siuu1AyTP_cF"
      },
      "source": [
        "## **Ejercicio 5)** pseudo-inversa de Moore-Penrose de una matriz\n",
        "\n",
        "La pseudo-inversa de Moore-Penrose es una generalización de la noción de inversa, que resulta útil porque existe para cualquier matriz de dimensiones y entradas arbitrarias sobre los números reales o complejos.\n",
        "\n",
        "Si una matriz $A$ es invertible (y por ende cuadrada), existe una matriz $B$ tal $AB=BA=\\mathbb{I}$. Dicha matríz $B$ es única (para la $A$ dada) y, por ende, se la denota por $A^{-1}$ y se la denomina inversa de $A$.\n",
        "\n",
        "Si $A$ no es invertible, luego no existe una matriz $B$ para la cual se cumpla la primera condición $AB=BA=\\mathbb{I}$. Sin embargo, se puede ver que siempre existe una matriz $B$ para la cual se cumple:\n",
        "\n",
        "- $ABA = A$,\n",
        "- $BAB=B$,\n",
        "- $AB$ es hermitiana, y\n",
        "- $BA$ es hermitiana.\n",
        "\n",
        "Dicha matriz $B$ es única (para la $A$ dada) y, por ende, se la denota por $A^+$ y se la denomina matríz pseudo-inversa de Moore-Penrose de $A$.\n",
        "\n",
        "Referencias:\n",
        "\n",
        "- https://en.wikipedia.org/wiki/Moore%E2%80%93Penrose_inverse\n",
        "- https://docs.scipy.org/doc/scipy/reference/generated/scipy.linalg.pinv.html#scipy.linalg.pinv\n",
        "\n",
        "**1)** Cree una matriz $A$ de dimensiones $n\\times m$ con $n=9$ y $m=6$ de números aleatorios generados a partir de la distribución normal de media 0 y varianza 1.\n",
        "\n",
        "**2)** Use `linalg.pinv()` para computar la psuedo-inversa de Moore-Penrose $A^+$ de $A$.\n",
        "\n",
        "**3)** Que dimensiones tiene $A^+$?\n",
        "\n",
        "**4)** Use `np.allclose()` para verifique que $AA^+A\\approx A$.\n",
        "\n",
        "**5)** Verifique que $A^+AA^+\\approx A^+$.\n"
      ]
    },
    {
      "cell_type": "code",
      "execution_count": 7,
      "metadata": {
        "colab": {
          "base_uri": "https://localhost:8080/"
        },
        "id": "j139zRcL44_O",
        "outputId": "1d492b56-757f-48e7-85f0-0ed340ad9efe"
      },
      "outputs": [
        {
          "name": "stdout",
          "output_type": "stream",
          "text": [
            "Inciso 5.1)\n",
            "Matriz A:\n",
            "[[-1.54930086 -1.30123011  0.6383766   1.00658435  1.42075949  0.408305  ]\n",
            " [ 1.31380765 -1.27159337 -0.37240786  0.14170791 -0.47986062 -1.26781638]\n",
            " [ 1.04156231  0.59169922  1.33181038  1.08031223 -0.14518437  1.01064568]\n",
            " [-0.31494836 -0.28480297 -0.87903606 -0.92893553  1.14296043 -0.3933169 ]\n",
            " [-0.22107579 -0.02243469  0.17068375  0.80952673 -0.31896858  0.98099564]\n",
            " [ 0.08853524 -1.97662954 -1.62176564  0.7506178  -0.23523957 -1.2778023 ]\n",
            " [-0.42708417  0.99667931  0.51383634  0.16964484 -0.58986225  0.43635267]\n",
            " [-1.31646063 -1.0797888   0.92067438 -1.15057069  1.0140382   0.16243957]\n",
            " [-0.98191508  0.50187973 -0.89128361  1.60940297  1.5533572  -0.04584372]]\n"
          ]
        }
      ],
      "source": [
        "# 5.1)\n",
        "print(\"Inciso 5.1)\")\n",
        "n, m = 9, 6\n",
        "A = np.random.normal(0, 1, (n, m))\n",
        "print(\"Matriz A:\")\n",
        "print(A)"
      ]
    },
    {
      "cell_type": "code",
      "execution_count": 8,
      "metadata": {},
      "outputs": [
        {
          "name": "stdout",
          "output_type": "stream",
          "text": [
            "\n",
            "Inciso 5.2)\n",
            "\n",
            "Pseudo-inversa de A (A^+):\n",
            "[[-1.28385198e-01  1.43485693e-01  3.50412337e-01  2.58379816e-01\n",
            "   5.91528264e-02 -7.18259419e-02 -3.50161672e-01 -1.09344591e-01\n",
            "  -5.59316668e-02]\n",
            " [-1.25262127e-01 -2.26002304e-02 -6.77260596e-02 -7.15176388e-02\n",
            "  -2.61745107e-01 -2.03108522e-01  1.99514536e-01 -1.05822121e-01\n",
            "   2.14218340e-01]\n",
            " [ 1.84094899e-01  2.57119116e-01  1.18615504e-01 -3.13910294e-01\n",
            "  -3.78309990e-01 -2.00466287e-01  2.09395861e-01  1.91164184e-01\n",
            "  -2.09063079e-04]\n",
            " [ 1.40756048e-01  1.00035966e-01  9.30270217e-02 -2.27418839e-01\n",
            "  -3.12081017e-02  8.30634110e-02  1.18912540e-01 -1.21153087e-01\n",
            "   2.08606821e-01]\n",
            " [ 5.29192082e-02  7.12191350e-02  2.22866562e-01  3.20076584e-01\n",
            "  -1.32801401e-01 -1.73301158e-01 -2.76618043e-01  5.23259198e-02\n",
            "   2.09969657e-01]\n",
            " [-6.96170215e-02 -4.12093090e-01  1.96241447e-01  3.75212281e-01\n",
            "   7.44636733e-01  8.53394474e-02 -3.83015111e-01 -6.70262971e-02\n",
            "  -2.57228533e-01]]\n"
          ]
        }
      ],
      "source": [
        "# 5.2)\n",
        "print(\"\\nInciso 5.2)\")\n",
        "A_pinv = linalg.pinv(A)\n",
        "print(\"\\nPseudo-inversa de A (A^+):\")\n",
        "print(A_pinv)"
      ]
    },
    {
      "cell_type": "code",
      "execution_count": 9,
      "metadata": {},
      "outputs": [
        {
          "name": "stdout",
          "output_type": "stream",
          "text": [
            "\n",
            "Inciso 5.3)\n",
            "\n",
            "Dimensiones de A^+:\n",
            "(6, 9)\n",
            "\n",
            "Inciso 5.4)\n",
            "\n",
            "Verificación de AA^+A ≈ A:\n",
            "True\n",
            "\n",
            "Inciso 5.5)\n",
            "\n",
            "Verificación de A^+AA^+ ≈ A^+:\n",
            "True\n"
          ]
        }
      ],
      "source": [
        "# 5.3)\n",
        "print(\"\\nInciso 5.3)\")\n",
        "print(\"\\nDimensiones de A^+:\")\n",
        "print(A_pinv.shape)\n",
        "\n",
        "# 5.4)\n",
        "print(\"\\nInciso 5.4)\")\n",
        "I_approx3 = np.dot(A, np.dot(A_pinv, A))\n",
        "print(\"\\nVerificación de AA^+A ≈ A:\")\n",
        "print(np.allclose(I_approx3, A))  # Debería ser True    \n",
        "\n",
        "# 5.5)\n",
        "print(\"\\nInciso 5.5)\")\n",
        "I_approx4 = np.dot(A_pinv, np.dot(A, A_pinv))\n",
        "print(\"\\nVerificación de A^+AA^+ ≈ A^+:\")\n",
        "print(np.allclose(I_approx4, A_pinv))  # Debería ser True"
      ]
    },
    {
      "cell_type": "markdown",
      "metadata": {
        "id": "lmq42jPWWvY0"
      },
      "source": [
        "## **Ejercicio 6)** Producto de Kronecker\n",
        "\n",
        "Considere las matrices\n",
        "\n",
        "\\begin{equation}\n",
        "A = \\left(\n",
        "\\begin{array}{cc}\n",
        "A*{11} & \\dots & A*{1m} \\\\\n",
        "\\vdots & \\ddots & \\vdots \\\\\n",
        "A*{nm} & \\dots & A*{nm}\n",
        "\\end{array}\n",
        "\\right)\n",
        "\\end{equation}\n",
        "\n",
        "y\n",
        "\n",
        "\\begin{equation}\n",
        "B = \\left(\n",
        "\\begin{array}{cc}\n",
        "B*{11} & \\dots & B*{1s} \\\\\n",
        "\\vdots & \\ddots & \\vdots \\\\\n",
        "B*{r1} & \\dots & B*{rs}\n",
        "\\end{array}\n",
        "\\right)\n",
        "\\end{equation}\n",
        "\n",
        "El producto de Kronecker es la matriz de dimensiones $nr\\times ms$ dada por\n",
        "\n",
        "\\begin{equation}\n",
        "A\\otimes B\n",
        "=\n",
        "\\left(\n",
        "\\begin{array}{cc}\n",
        "A*{11}B & \\dots & A*{1m}B \\\\\n",
        "\\vdots & \\ddots & \\vdots \\\\\n",
        "A*{n1}B & \\dots & A*{nm}B\n",
        "\\end{array}\n",
        "\\right)\n",
        "=\n",
        "\\left(\n",
        "\\begin{array}{cc}\n",
        "B*{11}A & \\dots & B*{1s}A \\\\\n",
        "\\vdots & \\ddots & \\vdots \\\\\n",
        "B*{r1}A & \\dots & B*{rs}A\n",
        "\\end{array}\n",
        "\\right)\n",
        "\\end{equation}\n",
        "\n",
        "donde $A_{ij}B$ es un bloque de la matriz $A\\otimes B$ igual al producto del escalar $A_{ij}$ por la matriz $B$.\n",
        "Idem para $B_{ij}A$.\n",
        "\n",
        "Referencias:\n",
        "\n",
        "- https://docs.scipy.org/doc/scipy/reference/generated/scipy.linalg.kron.html#scipy.linalg.kron\n",
        "\n",
        "**1)** Use `linalg.kron()` para calcular el producto de Kronecker de las matrices\n",
        "\n",
        "\\begin{equation}\n",
        "A = \\left(\n",
        "\\begin{array}{cc}\n",
        "1 & 2 \\\\\n",
        "3 & 4 \\\\\n",
        "\\end{array}\n",
        "\\right)\n",
        "\\end{equation}\n",
        "\n",
        "y\n",
        "\n",
        "\\begin{equation}\n",
        "B = \\left(\n",
        "\\begin{array}{cc}\n",
        "1 \\\\\n",
        "1 \\\\\n",
        "1 \\\\\n",
        "\\end{array}\n",
        "\\right)\n",
        "\\end{equation}\n",
        "\n",
        "Que dimensiones tiene $A\\otimes B$ en este caso?\n",
        "\n",
        "**2)** Repita para las matrices\n",
        "\n",
        "\\begin{equation}\n",
        "A = \\left(\n",
        "\\begin{array}{cc}\n",
        "1 & 2 \\\\\n",
        "3 & 4 \\\\\n",
        "\\end{array}\n",
        "\\right)\n",
        "\\end{equation}\n",
        "\n",
        "y\n",
        "\n",
        "\\begin{equation}\n",
        "B = \\left(\n",
        "\\begin{array}{cc}\n",
        "1 & 1 & 1\n",
        "\\end{array}\n",
        "\\right)\n",
        "\\end{equation}\n",
        "\n",
        "Que dimensiones tiene $A\\otimes B$ en este otro caso?\n"
      ]
    },
    {
      "cell_type": "code",
      "execution_count": 12,
      "metadata": {
        "colab": {
          "base_uri": "https://localhost:8080/"
        },
        "id": "HMSSVY0-IMx_",
        "outputId": "98ce83eb-5ac2-4347-ebde-e49d020b5cbf"
      },
      "outputs": [
        {
          "name": "stdout",
          "output_type": "stream",
          "text": [
            "\n",
            "Inciso 6.1)\n",
            "\n",
            "Matriz Kronecker de A y B:\n",
            "[[1 2]\n",
            " [1 2]\n",
            " [1 2]\n",
            " [3 4]\n",
            " [3 4]\n",
            " [3 4]]\n",
            "\n",
            "Dimensiones de la matriz Kronecker:\n",
            "(6, 2)\n"
          ]
        },
        {
          "name": "stderr",
          "output_type": "stream",
          "text": [
            "C:\\Users\\Freddy\\AppData\\Local\\Temp\\ipykernel_15748\\2416882782.py:7: DeprecationWarning: `kron` has been deprecated in favour of `numpy.kron` in SciPy 1.15.0 and will be removed in SciPy 1.17.0.\n",
            "  K = linalg.kron(A, B)\n"
          ]
        }
      ],
      "source": [
        "#6.1)\n",
        "print(\"\\nInciso 6.1)\")\n",
        "A = np.array([[1, 2], [3, 4]])\n",
        "B = np.array([[1], [1], [1]])\n",
        "\n",
        "#Kronecker\n",
        "K = linalg.kron(A, B)\n",
        "print(\"\\nMatriz Kronecker de A y B:\")\n",
        "print(K)\n",
        "print(\"\\nDimensiones de la matriz Kronecker:\")\n",
        "print(K.shape)  # Debería ser (6, 2)"
      ]
    },
    {
      "cell_type": "code",
      "execution_count": 13,
      "metadata": {},
      "outputs": [
        {
          "name": "stdout",
          "output_type": "stream",
          "text": [
            "\n",
            "Inciso 6.2)\n",
            "\n",
            "Matriz Kronecker de A y B:\n",
            "[[1 1 1 2 2 2]\n",
            " [3 3 3 4 4 4]]\n",
            "\n",
            "Dimensiones de la matriz Kronecker:\n",
            "(2, 6)\n"
          ]
        },
        {
          "name": "stderr",
          "output_type": "stream",
          "text": [
            "C:\\Users\\Freddy\\AppData\\Local\\Temp\\ipykernel_15748\\830716754.py:7: DeprecationWarning: `kron` has been deprecated in favour of `numpy.kron` in SciPy 1.15.0 and will be removed in SciPy 1.17.0.\n",
            "  K = linalg.kron(A, B)\n"
          ]
        }
      ],
      "source": [
        "#6.2)\n",
        "print(\"\\nInciso 6.2)\")\n",
        "A = np.array([[1, 2], [3, 4]])\n",
        "B = np.array([[1, 1, 1]])\n",
        "\n",
        "#Kronecker\n",
        "K = linalg.kron(A, B)\n",
        "print(\"\\nMatriz Kronecker de A y B:\")\n",
        "print(K)\n",
        "print(\"\\nDimensiones de la matriz Kronecker:\")\n",
        "print(K.shape)  # Debería ser (2, 6)"
      ]
    },
    {
      "cell_type": "markdown",
      "metadata": {
        "id": "2OsaX5tGJ3QD"
      },
      "source": [
        "## **Ejercicio 7)** Autovalores y autovectores\n",
        "\n",
        "Considere una matriz $A$ de $n\\times m$. Luego, existen un conjunto de escalares $\\{\\lambda_1,...,\\lambda_n\\}$ y un correspondiente conjunto de vectores distintos $\\{v_1,...,v_n\\}$ tales que\n",
        "\n",
        "$$\n",
        "Av_i = \\lambda_i v_i \\quad (1)\n",
        "$$\n",
        "\n",
        "para todo $i\\in\\{1,...,n\\}$. Estos $\\lambda_i$ y $v_i$ se denominan autovalores y autovectores a derecha de $A$, respectivamente. Los autovalores pueden repetirse, pueden ser nulos y se los suele ordenar de mayor a menor en orden descendiente de sus valores absolutos: $|\\lambda_1|\\geq |\\lambda_2|\\geq ...\\geq |\\lambda_n|\\geq 0$. Los autovectores pueden normalizarse, ya que si $v_i$ es autovector, luego $v_i/|v_i|$ también lo es.\n",
        "\n",
        "Los autovectores constituyen una base del dominio de $A$. Esto es muy útil porque permite escribir cualquier vector $v$ en el dominio de $A$ como una combinación lineal de sus autovectores:\n",
        "\n",
        "$$\n",
        "v = \\sum_i c_i v_i\n",
        "$$\n",
        "\n",
        "Luego, calcular el producto de $A$ con $v$ resulta muy simple:\n",
        "\n",
        "$$\n",
        "Av = A\\left(\\sum_i c_i v_i\\right) = \\sum_i c_iAv_i = \\sum_i c_i\\lambda_i v_i\n",
        "$$\n",
        "\n",
        "Análogamente, existen un conjunto de escalares $\\{\\mu_1,...,\\mu_m\\}$ y un correspondiente conjunto de vectores diferentes $\\{u_1,...,u_m\\}$ de $A$, llamados autovalores y autovectores a izquierda de $A$, respectivamente, y son tales que\n",
        "\n",
        "$$\n",
        "u_jA = \\mu_j u_j \\quad (2)\n",
        "$$\n",
        "\n",
        "para todo $j\\in\\{1,...,m\\}$.\n",
        "\n",
        "---\n",
        "\n",
        "**1)** Use `linalg.eigvals()` para calcular los autovalores a derecha de la matriz:\n",
        "\n",
        "$$\n",
        "A = \\begin{pmatrix}\n",
        "0 & -1 \\\\\n",
        "1 & 0\n",
        "\\end{pmatrix}\n",
        "$$\n",
        "\n",
        "**2)** Use `linalg.eig()` para calcular los autovalores y los correspondientes autovectores a derecha de $A$.\n",
        "\n",
        "**3)** Verifique que la ecuación $(1)$ se cumple.\n",
        "\n",
        "**4)** Use `linalg.eig()` para calcular los autovalores y los correspondientes autovectores a izquierda de $A$.\n",
        "\n",
        "**5)** Verifique que la ecuación $(2)$ se cumple.\n",
        "\n",
        "---\n",
        "\n",
        "**Referencia**:\n",
        "\n",
        "- https://docs.scipy.org/doc/scipy/reference/generated/scipy.linalg.eig.html#scipy.linalg.eig\n"
      ]
    },
    {
      "cell_type": "code",
      "execution_count": 14,
      "metadata": {
        "colab": {
          "base_uri": "https://localhost:8080/"
        },
        "id": "MmZ790fmKNQP",
        "outputId": "10d21c13-77c8-426a-ea8a-555dbe42e575"
      },
      "outputs": [
        {
          "name": "stdout",
          "output_type": "stream",
          "text": [
            "\n",
            "Inciso 7.1)\n",
            "\n",
            "Autovalores de A (a derecha):\n",
            "[0.+1.j 0.-1.j]\n",
            "Autovalores de A:\n",
            "[0.+1.j 0.-1.j]\n",
            "Autovectores de A:\n",
            "[[0.70710678+0.j         0.70710678-0.j        ]\n",
            " [0.        -0.70710678j 0.        +0.70710678j]]\n",
            "\n",
            "Inciso 7.3)\n",
            "\n",
            "Verificación para autovalor 1j y autovector [0.70710678+0.j         0.        -0.70710678j]:\n",
            "Av = [0.        +0.70710678j 0.70710678+0.j        ]\n",
            "λv = [0.        +0.70710678j 0.70710678+0.j        ]\n",
            "¿Son iguales? True\n",
            "\n",
            "Verificación para autovalor -1j y autovector [0.70710678-0.j         0.        +0.70710678j]:\n",
            "Av = [0.        -0.70710678j 0.70710678+0.j        ]\n",
            "λv = [0.        -0.70710678j 0.70710678+0.j        ]\n",
            "¿Son iguales? True\n"
          ]
        }
      ],
      "source": [
        "#7.1)\n",
        "print(\"\\nInciso 7.1)\")\n",
        "A = np.array([[0, -1], [1, 0]])\n",
        "#Autovalores a derecha de A\n",
        "eigenvalues_r= linalg.eigvals(A)\n",
        "print(\"\\nAutovalores de A (a derecha):\")\n",
        "print(eigenvalues_r)\n",
        "\n",
        "# 7.2)\n",
        "eigenvalues, eigenvectors = linalg.eig(A)\n",
        "print(\"Autovalores de A:\")\n",
        "print(eigenvalues)\n",
        "print(\"Autovectores de A:\")\n",
        "print(eigenvectors)\n",
        "\n",
        "# 7.3)\n",
        "print(\"\\nInciso 7.3)\")\n",
        "# Verificación de la ecuación (1)\n",
        "for i in range(len(eigenvalues)):\n",
        "    Av = np.dot(A, eigenvectors[:, i])\n",
        "    lambda_v = eigenvalues[i] * eigenvectors[:, i]\n",
        "    print(f\"\\nVerificación para autovalor {eigenvalues[i]} y autovector {eigenvectors[:, i]}:\")\n",
        "    print(\"Av =\", Av)\n",
        "    print(\"λv =\", lambda_v)\n",
        "    print(\"¿Son iguales?\", np.allclose(Av, lambda_v))  # Debería ser True"
      ]
    },
    {
      "cell_type": "code",
      "execution_count": 16,
      "metadata": {},
      "outputs": [
        {
          "name": "stdout",
          "output_type": "stream",
          "text": [
            "\n",
            "Inciso 7.4)\n",
            "\n",
            "Autovalores de A (a izquierda):\n",
            "[0.+1.j 0.-1.j]\n",
            "Autovectores de A (a izquierda):\n",
            "[[-0.70710678+0.j         -0.70710678-0.j        ]\n",
            " [ 0.        +0.70710678j  0.        -0.70710678j]]\n",
            "\n",
            "Inciso 7.5)\n",
            "\n",
            "Verificación para autovalor 1j y autovector [-0.70710678+0.j -0.70710678-0.j]:\n",
            "uA = [0.        -0.70710678j 0.70710678+0.j        ]\n",
            "μu = [0.        -0.70710678j 0.70710678+0.j        ]\n",
            "¿Son iguales? True\n",
            "\n",
            "Verificación para autovalor -1j y autovector [0.+0.70710678j 0.-0.70710678j]:\n",
            "uA = [0.        +0.70710678j 0.70710678+0.j        ]\n",
            "μu = [0.        +0.70710678j 0.70710678+0.j        ]\n",
            "¿Son iguales? True\n"
          ]
        }
      ],
      "source": [
        "#7.4)\n",
        "print(\"\\nInciso 7.4)\")\n",
        "eigenvalues_l, left_eigenvectors = linalg.eig(A, left=True, right=False)\n",
        "print(\"\\nAutovalores de A (a izquierda):\")\n",
        "print(eigenvalues_l)\n",
        "print(\"Autovectores de A (a izquierda):\")\n",
        "print(left_eigenvectors)\n",
        "\n",
        "# 7.5)\n",
        "print(\"\\nInciso 7.5)\")\n",
        "# Verificación de la ecuación (2)\n",
        "for j in range(len(eigenvalues_l)):\n",
        "    u = left_eigenvectors[:, j]   \n",
        "    uA = np.dot(u.conj().T, A)   \n",
        "    mu_u = eigenvalues_l[j] * u.conj().T\n",
        "    print(f\"\\nVerificación para autovalor {eigenvalues_l[j]} y autovector {left_eigenvectors[j, :]}:\")\n",
        "    print(\"uA =\", uA)\n",
        "    print(\"μu =\", mu_u)\n",
        "    print(\"¿Son iguales?\", np.allclose(uA, mu_u))  # Debería ser True"
      ]
    },
    {
      "cell_type": "markdown",
      "metadata": {
        "id": "hJq6cMug_8WP"
      },
      "source": [
        "## **Ejercicio 8)** Singular Value Decomposition (SVD)\n",
        "\n",
        "Una matriz compleja $A$ de dimensiones $n\\times m$ se la puede pensar como una transformación lineal $A:V\\to W$ desde un espacio vectorial $V$ de dimensión $m$ a un espacio vectorial $W$ de dimensión $n$.\n",
        "A $V$ se lo suele llamar espacio de salida y a $W$ espacio de llegada.\n",
        "\n",
        "Cualquiera sea $A$, siempre existen matrices $L$, $D$ y $R$, de dimensiones $n\\times n$, $n\\times m$ y $m\\times m$, respectivamente, tales que $L$ y $R$ son unitarias, $D$ es diagonal y\n",
        "\n",
        "$$\n",
        "A = LDR^{\\dagger} \\quad (1)\n",
        "$$\n",
        "\n",
        "Los valores diagonales\n",
        "\n",
        "$$\n",
        "\\sigma_i := D_{ii}\n",
        "$$\n",
        "\n",
        "están definidos para todo $i\\in \\{1,...,k\\}$, donde $k=\\min(n,m)$.\n",
        "Se los denomina **valores singulares** de $A$, son todos reales y no-negativos.\n",
        "La descomposición siempre puede realizarse de manera tal que $\\sigma_1\\geq \\sigma_2 \\geq ... \\geq \\sigma_k\\geq 0$.\n",
        "El número de valores singulares no nulos es el rango de $A$.\n",
        "\n",
        "Los vectores columna $l_1,...,l_n$ de $L$ forman una base ortonormal del espacio vectorial de llegada $W$.\n",
        "Los vectores columna $r_1,...,r_m$ de $R$ forman una base ortonormal del espacio vectorial de salida $V$.\n",
        "Usando estas propiedades, la ecuación $(1)$ puede reescribirse como\n",
        "\n",
        "$$\n",
        "A = \\sum_{i=1}^k \\sigma_i \\, (l_i \\otimes r_i^{\\dagger}) \\quad (2)\n",
        "$$\n",
        "\n",
        "donde $l_i \\otimes r_i^{\\dagger}$ es la matriz de dimensiones $n\\times m$ resultante del [producto exterior](https://en.wikipedia.org/wiki/Outer_product#Connection_with_the_Kronecker_product) entre la matriz $l_i$ de dimensiones $n\\times 1$ y la matriz $r_i^{\\dagger}$ de dimensiones $1\\times m$.\n",
        "En otras palabras, la $jk$-ésima entrada de la matriz $l_i \\otimes r_i^{\\dagger}$ es\n",
        "\n",
        "$$\n",
        "(l_i \\otimes r_i^{\\dagger})_{jk} =\n",
        "(l_i)_{j1} \\, (r_i^{\\dagger})_{1k}\n",
        "$$\n",
        "\n",
        "para cada $j\\in \\{1,...,n\\}$ y $k \\in \\{1,...,m\\}$, donde\n",
        "\n",
        "$$\n",
        "(r_i^{\\dagger})_{1k} = (r_i)_{k1}^{*}\n",
        "$$\n",
        "\n",
        "i.e. es el complejo conjugado de la $k1$-ésima entrada de la traspuesta de la matriz $r_i$.\n",
        "\n",
        "---\n",
        "\n",
        "**Referencias**:\n",
        "\n",
        "- https://en.wikipedia.org/wiki/Singular_value_decomposition\n",
        "- https://docs.scipy.org/doc/scipy/reference/generated/scipy.linalg.svd.html#scipy.linalg.svd\n",
        "\n",
        "---\n",
        "\n",
        "**1)** Cree una matriz compleja $A$ de dimensiones $n\\times m$ con $n=9$ y $m=6$, cuyas entradas $a_{ij} = x_{ij} + i y_{ij}$ se computen generando números aleatorios $x_{ij}$ e $y_{ij}$ a partir de una distribución normal de media 0 y varianza 1.\n",
        "\n",
        "**2)** Use `linalg.svd()` para calcular la SVD de $A$.  \n",
        "Dicha función retorna 3 arrays, digamos `L`, `s` y `Rc`, donde `L` denota a la matriz $L$, `s` denota al vector de valores singulares $(\\sigma_1,\\sigma_2,...,\\sigma_k)$ y `Rc` denota a la matriz compleja conjugada $R^{\\dagger}$.  \n",
        "Inspeccione las dimensiones de los arrays retornados.\n",
        "\n",
        "**3)** Use el vector `s` para crear la matriz diagonal $D$ de dimensiones $n\\times m$.\n",
        "\n",
        "**4)** Use `np.allclose()` para verificar numéricamente la ecuación $(1)`.\n"
      ]
    },
    {
      "cell_type": "code",
      "execution_count": 19,
      "metadata": {
        "id": "0pUK7GdhAQBy"
      },
      "outputs": [
        {
          "name": "stdout",
          "output_type": "stream",
          "text": [
            "\n",
            "Inciso 8.1)\n",
            "Matriz A:\n",
            "[[-0.9557032 +2.23207082j -1.87935454-0.553022j   -0.04672746+0.62568647j\n",
            "   0.17743334+0.58186686j -0.58960539-0.79253905j  0.21040814-0.80873629j]\n",
            " [ 0.18590982-0.84901831j  0.30789022-1.79184643j -0.41911245-1.56734261j\n",
            "  -0.02350266+0.46393151j  0.59498422-0.15018202j -0.09771849+1.07268478j]\n",
            " [-0.69677685-1.63218601j -0.08185313-1.77869831j -0.96233282-1.49464967j\n",
            "  -0.23194392-0.91272483j  0.04365581+0.74245086j -1.56989879-0.47750983j]\n",
            " [-0.88898819+0.94246508j  0.65672678+0.46477079j -0.21829175+1.19954353j\n",
            "   0.0881744 +0.78161152j -1.61221698+0.45653832j  0.60432053+0.75358324j]\n",
            " [-0.08815263-1.1259129j   0.15745141+0.87707924j  2.06349425-0.62852548j\n",
            "   0.99709203+0.78324379j  0.90466589+0.88204302j  1.00664415-0.24388676j]\n",
            " [ 0.75323719+1.83977938j  1.92088592-0.16066087j -0.05713764+0.21492691j\n",
            "  -1.00277632-0.29370072j  0.52277118-0.53024798j -0.05437412+0.12700268j]\n",
            " [-0.0596325 +0.22815587j  0.35401069-0.51675032j -0.54021844+0.46009539j\n",
            "   0.25527794+0.28994891j  0.86101846+0.5114423j   0.34664051-0.15288287j]\n",
            " [ 0.67788705-1.03844382j -0.64148289-0.78133287j -0.61259933+1.37035623j\n",
            "  -0.24425258-0.27075091j  1.05978346-1.343314j   -0.00254299-1.04198914j]\n",
            " [-0.51683993-0.77972145j  0.76590642-0.80865392j -0.97551098-0.89351451j\n",
            "   1.312116  +0.618644j    1.7381174 -0.24970323j -1.55455823+0.46909622j]]\n"
          ]
        }
      ],
      "source": [
        "# 8.1)\n",
        "\n",
        "print(\"\\nInciso 8.1)\")\n",
        "n, m = 9, 6\n",
        "A = np.random.normal(0, 1, (n, m)) + 1j * np.random.normal(0, 1, (n, m))\n",
        "print(\"Matriz A:\")\n",
        "print(A)"
      ]
    },
    {
      "cell_type": "code",
      "execution_count": 20,
      "metadata": {},
      "outputs": [
        {
          "name": "stdout",
          "output_type": "stream",
          "text": [
            "\n",
            "Inciso 8.2)\n",
            "\n",
            "Matriz U (L):\n",
            "[[-0.24349371+0.32586134j -0.05782667-0.03775109j  0.12920614-0.32715206j\n",
            "   0.1725151 -0.55391747j  0.18024126-0.42475122j -0.09748911+0.01180556j\n",
            "   0.01588865+0.14022319j  0.18638941+0.25506342j -0.14691124-0.07488079j]\n",
            " [-0.09585934-0.36280616j -0.14824205-0.02865511j  0.11557126+0.2940947j\n",
            "   0.1336511 -0.06449621j -0.26499786-0.26106239j -0.21823638-0.25937777j\n",
            "  -0.00694763+0.02567678j  0.02700468-0.21629717j -0.60608434+0.21371516j]\n",
            " [-0.16308121-0.46562112j  0.07377734+0.16260805j -0.23453224+0.14840802j\n",
            "  -0.05879662-0.45680573j  0.16094963+0.22631987j  0.37330037-0.05479528j\n",
            "   0.11484598-0.08274584j  0.34236227+0.15175791j  0.09537405+0.21610639j]\n",
            " [-0.01719064+0.30321401j  0.1540659 -0.16483226j  0.10034522+0.39251892j\n",
            "   0.27498921+0.00377051j  0.01073887+0.03206728j  0.13653979+0.54236363j\n",
            "  -0.14478713-0.2759514j   0.37319387-0.20928008j -0.12974195+0.07825526j]\n",
            " [ 0.32857103-0.08015599j  0.23302592+0.3088905j   0.49638196-0.12944397j\n",
            "   0.10856114+0.24983976j -0.03490454-0.14125373j -0.05979514-0.20183921j\n",
            "   0.11412427-0.00635123j  0.50134273+0.11791849j  0.17216982+0.15844099j]\n",
            " [ 0.10645718+0.0416117j  -0.19792572-0.62587099j -0.24142395-0.01161851j\n",
            "   0.12617304+0.1800459j   0.21288238-0.10273432j -0.09803184-0.18038279j\n",
            "   0.09079576+0.06588444j  0.16007729+0.08747008j  0.21421312+0.50943153j]\n",
            " [-0.02258776-0.05397409j -0.0888651 -0.17267371j  0.283741  -0.01283451j\n",
            "  -0.11296544+0.02316255j  0.17787486+0.04422597j  0.11041595+0.19612862j\n",
            "   0.84867173+0.02207236j -0.0780186 -0.1627396j  -0.12612148-0.1069106j ]\n",
            " [-0.17416253-0.06325138j -0.45772087+0.19423133j -0.02610362-0.35349412j\n",
            "  -0.13715797+0.30866175j  0.31233826+0.20169387j  0.02298268+0.1807524j\n",
            "  -0.20844125+0.18548959j  0.3387002 -0.20176009j -0.26907659+0.03990044j]\n",
            " [-0.13075609-0.4192525j   0.11177755-0.10769635j  0.08132106-0.02758135j\n",
            "  -0.2551416 +0.19649147j -0.01466376-0.56688863j  0.16641868+0.47146559j\n",
            "  -0.15909325+0.11262087j -0.11403121+0.17277007j  0.12513032+0.06245331j]]\n",
            "\n",
            "Vector de valores singulares (s):\n",
            "[6.18453448 4.10447702 3.46823072 2.94170185 2.49493988 1.91776824]\n",
            "\n",
            "Matriz Rc (R†):\n",
            "[[ 0.48089064+0.j          0.39911221+0.29626716j  0.53119982-0.14919032j\n",
            "   0.06981979+0.09767351j -0.05061409+0.3843472j   0.06872938-0.21868975j]\n",
            " [-0.6895166 +0.j          0.0645297 +0.55270507j  0.05032003-0.32454398j\n",
            "   0.14624578-0.06964967j -0.04813367+0.23021439j -0.1368911 +0.08225194j]\n",
            " [-0.19382285+0.j         -0.16215324-0.18510345j  0.048251  +0.10996368j\n",
            "   0.31727205+0.33329578j  0.39589761+0.37278828j  0.61183114+0.07526344j]\n",
            " [-0.36149474+0.j          0.34970054-0.36121447j  0.3823482 -0.1157613j\n",
            "  -0.00947404+0.02008065j -0.40987058-0.3830433j   0.36396379-0.0963622j ]\n",
            " [-0.3302681 +0.j          0.12584425-0.09938871j  0.12091351+0.34736978j\n",
            "  -0.52878726+0.26053448j  0.25883945+0.16611268j -0.25142685-0.47394233j]\n",
            " [-0.12644477+0.j          0.08609911-0.31118639j  0.26295781+0.45745432j\n",
            "   0.38996153-0.49753531j -0.04116605+0.29612823j -0.3138096 +0.11779649j]]\n",
            "\n",
            "Dimensiones de U: (9, 9)\n",
            "Dimensiones de s: (6,)\n",
            "Dimensiones de Rc: (6, 6)\n"
          ]
        }
      ],
      "source": [
        "# 8.2)\n",
        "print(\"\\nInciso 8.2)\")\n",
        "U, s, Rc = linalg.svd(A, full_matrices=True)\n",
        "print(\"\\nMatriz U (L):\")\n",
        "print(U)\n",
        "print(\"\\nVector de valores singulares (s):\")\n",
        "print(s)\n",
        "print(\"\\nMatriz Rc (R†):\")\n",
        "print(Rc)\n",
        "print(\"\\nDimensiones de U:\", U.shape)\n",
        "print(\"Dimensiones de s:\", s.shape)\n",
        "print(\"Dimensiones de Rc:\", Rc.shape)"
      ]
    },
    {
      "cell_type": "code",
      "execution_count": 21,
      "metadata": {},
      "outputs": [
        {
          "name": "stdout",
          "output_type": "stream",
          "text": [
            "\n",
            "Inciso 8.3)\n",
            "\n",
            "Matriz diagonal D:\n",
            "[[6.18453448+0.j 0.        +0.j 0.        +0.j 0.        +0.j\n",
            "  0.        +0.j 0.        +0.j]\n",
            " [0.        +0.j 4.10447702+0.j 0.        +0.j 0.        +0.j\n",
            "  0.        +0.j 0.        +0.j]\n",
            " [0.        +0.j 0.        +0.j 3.46823072+0.j 0.        +0.j\n",
            "  0.        +0.j 0.        +0.j]\n",
            " [0.        +0.j 0.        +0.j 0.        +0.j 2.94170185+0.j\n",
            "  0.        +0.j 0.        +0.j]\n",
            " [0.        +0.j 0.        +0.j 0.        +0.j 0.        +0.j\n",
            "  2.49493988+0.j 0.        +0.j]\n",
            " [0.        +0.j 0.        +0.j 0.        +0.j 0.        +0.j\n",
            "  0.        +0.j 1.91776824+0.j]\n",
            " [0.        +0.j 0.        +0.j 0.        +0.j 0.        +0.j\n",
            "  0.        +0.j 0.        +0.j]\n",
            " [0.        +0.j 0.        +0.j 0.        +0.j 0.        +0.j\n",
            "  0.        +0.j 0.        +0.j]\n",
            " [0.        +0.j 0.        +0.j 0.        +0.j 0.        +0.j\n",
            "  0.        +0.j 0.        +0.j]]\n",
            "\n",
            "Inciso 8.4)\n",
            "\n",
            "Verificación de A = LDR†:\n",
            "True\n"
          ]
        }
      ],
      "source": [
        "# 8.3)\n",
        "print(\"\\nInciso 8.3)\")\n",
        "D = np.zeros((n, m), dtype=complex)\n",
        "for i in range(min(n, m)):\n",
        "    D[i, i] = s[i]\n",
        "print(\"\\nMatriz diagonal D:\")\n",
        "print(D)\n",
        "\n",
        "# 8.4)\n",
        "print(\"\\nInciso 8.4)\")\n",
        "A_reconstructed = np.dot(U, np.dot(D, Rc))\n",
        "print(\"\\nVerificación de A = LDR†:\")\n",
        "print(np.allclose(A, A_reconstructed))  # Debería ser True"
      ]
    }
  ],
  "metadata": {
    "colab": {
      "provenance": []
    },
    "kernelspec": {
      "display_name": "Python 3",
      "name": "python3"
    },
    "language_info": {
      "codemirror_mode": {
        "name": "ipython",
        "version": 3
      },
      "file_extension": ".py",
      "mimetype": "text/x-python",
      "name": "python",
      "nbconvert_exporter": "python",
      "pygments_lexer": "ipython3",
      "version": "3.12.6"
    }
  },
  "nbformat": 4,
  "nbformat_minor": 0
}
