{
  "cells": [
    {
      "cell_type": "markdown",
      "metadata": {
        "id": "NRYEofSD0xoF"
      },
      "source": [
        "# Algebra lineal con **SciPy**\n",
        "\n",
        "Referencias:\n",
        "\n",
        "- https://docs.scipy.org/doc/scipy/reference/linalg.html\n",
        "- https://www.datacamp.com/cheat-sheet/scipy-cheat-sheet-linear-algebra-in-python\n",
        "\n",
        "## **Ejercicio 1)** Importando librerías\n",
        "\n",
        "Importe las librerías `numpy` para operar con arrays, `scipy` para utilizar rutinas de algebra lineal y `matplotlib.pyplot` para graficar.\n"
      ]
    },
    {
      "cell_type": "code",
      "execution_count": 1,
      "metadata": {
        "id": "I8N3D_nU1_oT"
      },
      "outputs": [],
      "source": [
        "import numpy as np\n",
        "import scipy as sp\n",
        "import scipy.linalg as linalg\n",
        "import matplotlib.pyplot as plt"
      ]
    },
    {
      "cell_type": "markdown",
      "metadata": {
        "id": "NcaGEHAd10sb"
      },
      "source": [
        "## **Ejercicio 2)** Inversa de una matriz\n",
        "\n",
        "Referencias:\n",
        "\n",
        "- https://docs.scipy.org/doc/scipy/reference/generated/scipy.linalg.inv.html#scipy.linalg.inv\n",
        "\n",
        "**1)** Use `linalg.inv()` para calcular la inversa $A^{-1}$ de la matriz\n",
        "\n",
        "\\begin{equation}\n",
        "A = \\bigg(\n",
        "\\begin{array}{cc}\n",
        "1 & 2 \\\\\n",
        "3 & 4\n",
        "\\end{array}\n",
        "\\bigg)\n",
        "\\end{equation}\n",
        "\n",
        "**2)** Use `np.dot()` para chequear que $A^{-1}A \\approx \\mathbb{I}$, donde $\\mathbb{I}$ es la matriz identidad.\n",
        "\n",
        "**3)** Chequee que $AA^{-1} \\approx \\mathbb{I}$.\n"
      ]
    },
    {
      "cell_type": "code",
      "execution_count": 2,
      "metadata": {
        "id": "tntEwNvE4SZC"
      },
      "outputs": [
        {
          "name": "stdout",
          "output_type": "stream",
          "text": [
            "Inversa de A:\n",
            "[[-2.   1. ]\n",
            " [ 1.5 -0.5]]\n",
            "\n",
            "Producto A_inv * A (debería ser la identidad):\n",
            "[[1.00000000e+00 0.00000000e+00]\n",
            " [1.11022302e-16 1.00000000e+00]]\n",
            "\n",
            "Producto A * A_inv (debería ser la identidad):\n",
            "[[1.0000000e+00 0.0000000e+00]\n",
            " [8.8817842e-16 1.0000000e+00]]\n"
          ]
        }
      ],
      "source": [
        "A = np.array([[1, 2], [3, 4]])\n",
        "A_inv = linalg.inv(A)\n",
        "print(\"Inversa de A:\")\n",
        "print(A_inv)\n",
        "\n",
        "\n",
        "# 2.2)\n",
        "\n",
        "I_approx1 = np.dot(A_inv, A)\n",
        "print(\"\\nProducto A_inv * A (debería ser la identidad):\")\n",
        "print(I_approx1)\n",
        "\n",
        "# 2.3)\n",
        "I_approx2 = np.dot(A, A_inv)\n",
        "print(\"\\nProducto A * A_inv (debería ser la identidad):\")\n",
        "print(I_approx2)"
      ]
    },
    {
      "cell_type": "markdown",
      "metadata": {
        "id": "4pp5DryY2azA"
      },
      "source": [
        "## **Ejercicio 3)** Sistema de ecuaciones lineales\n",
        "\n",
        "Referencias:\n",
        "\n",
        "- https://docs.scipy.org/doc/scipy/reference/generated/scipy.linalg.solve.html#scipy.linalg.solve\n",
        "\n",
        "**1)** Use `linalg.solve()` para resolver el sistema $Ax=b$ donde, $x$ es la incógnita,\n",
        "\n",
        "\\begin{equation}\n",
        "A = \\left(\n",
        "\\begin{array}{cc}\n",
        "3 & 2 & 0 \\\\\n",
        "1 & -1 & 0 \\\\\n",
        "0 & 5 & 1\n",
        "\\end{array}\n",
        "\\right)\n",
        "\\end{equation}\n",
        "\n",
        "y\n",
        "\n",
        "\\begin{equation}\n",
        "b = \\left(\n",
        "\\begin{array}{cc}\n",
        "2 \\\\\n",
        "4 \\\\\n",
        "1\n",
        "\\end{array}\n",
        "\\right)\n",
        "\\end{equation}\n",
        "\n",
        "**2)** Chequee que $Ax=b$.\n"
      ]
    },
    {
      "cell_type": "code",
      "execution_count": 7,
      "metadata": {
        "id": "PshUolMT2ZtI"
      },
      "outputs": [
        {
          "name": "stdout",
          "output_type": "stream",
          "text": [
            "\n",
            "Solución del sistema Ax = b:\n",
            "[ 2. -2. 11.]\n",
            "Chequeo de la solución: \n",
            "True\n"
          ]
        }
      ],
      "source": [
        "# 3.1)\n",
        "\n",
        "A = np.array([[3, 2, 0], [1, -1 , 0], [0, 5, 1]])\n",
        "b = np.array([2, 4, 1])\n",
        "\n",
        "x = linalg.solve(A, b)\n",
        "print(\"\\nSolución del sistema Ax = b:\")\n",
        "print(x)\n",
        "\n",
        "# 3.2)\n",
        "print(\"Chequeo de la solución: \")\n",
        "print(np.allclose(np.dot(A, x), b))  # Debería ser True"
      ]
    },
    {
      "cell_type": "markdown",
      "metadata": {
        "id": "YS7bf2SJ2nws"
      },
      "source": [
        "## **Ejercicio 4)** Cuadrados mínimos\n",
        "\n",
        "Dada una matriz $X$ de dimensiones $n\\times m$ y un vector $y$ de dimensión $n$, la función `linalg.lstsq(X,y,...)` se usa para encontrar el vector $y$ de dimensión $m$ que minimize la norma L2 dada por $|y-Xc|$ con respecto al vector $c$ de dimensión $m$. Notar que minimizar esta cantidad no necesariamente implica que $Xc=y$. Minimizar $|y-Xc|$ es útil para infinidad de problemas. En particular, es útil para ajustar polinomios a curvas obtenidas de datos.\n",
        "\n",
        "Referencias:\n",
        "\n",
        "- https://docs.scipy.org/doc/scipy/reference/generated/scipy.linalg.lstsq.html#scipy.linalg.lstsq\n",
        "\n",
        "**1)** Use `linalg.lstsq(X,y)` para encontrar los coeficientes $c_0$, $c_1$ y $c_2$ del polinomio $p(x)=c_0+c_1x+c_2x^2$ que ajuste lo mejor posible los siguientes datos\n",
        "\n",
        "    x = np.array([1.0, 2.5, 3.5, 4.0, 5.0, 7.0, 8.5])\n",
        "    y = np.array([0.3, 1.1, 1.5, 2.0, 3.2, 6.6, 8.6])\n",
        "\n",
        "de acuerdo al método de cuadrados mínimos\n",
        "\n",
        "\\begin{eqnarray}\n",
        "\\min\\_{c_0,c_1,c_2} \\sum_i (y_i-p(x_i))^2\n",
        "\\end{eqnarray}\n",
        "\n",
        "**Ayuda:** Utilizar la matriz $X$ de entradas $X_{ij}=x_i^j$, i.e. la $j$-ésima potencia de $x_i$.\n",
        "\n",
        "**2)** Con el fin de evaluar la bondad del ajuste, grafique en una misma figura:\n",
        "\n",
        "- con símbolos los puntos $(x_i,y_i)$, y\n",
        "- con una curva el polinomio ajustado $p(x)$ vs $x$.\n"
      ]
    },
    {
      "cell_type": "code",
      "execution_count": 8,
      "metadata": {
        "id": "EQXxlhEM2k8s"
      },
      "outputs": [
        {
          "name": "stdout",
          "output_type": "stream",
          "text": [
            "Coeficientes del polinomio ajustado:\n",
            "[0.0578403  0.07701453 0.11262261]\n"
          ]
        },
        {
          "data": {
            "image/png": "[encoded data removed]",
            "text/plain": [
              "<Figure size 640x480 with 1 Axes>"
            ]
          },
          "metadata": {},
          "output_type": "display_data"
        }
      ],
      "source": [
        "# 4.1)\n",
        "\n",
        "x = np.array([1.0, 2.5, 3.5, 4.0, 5.0, 7.0, 8.5])\n",
        "y = np.array([0.3, 1.1, 1.5, 2.0, 3.2, 6.6, 8.6])\n",
        "\n",
        "X = np.column_stack([np.ones_like(x), x, x**2])\n",
        "\n",
        "c, residuals, rank, s = linalg.lstsq(X, y)\n",
        "print(\"Coeficientes del polinomio ajustado:\")\n",
        "print(c)\n",
        "\n",
        "# 4.2)\n",
        "\n",
        "x_fit = np.linspace(min(x), max(x), 100)\n",
        "y_fit = c[0] + c[1]*x_fit + c[2]*x_fit**2\n",
        "plt.scatter(x, y, color='red', label='Datos') \n",
        "plt.plot(x_fit, y_fit, label='Ajuste polinomial')\n",
        "plt.xlabel('x')\n",
        "plt.ylabel('y')\n",
        "plt.legend()\n",
        "plt.title('Ajuste de polinomio por mínimos cuadrados')\n",
        "plt.show()\n"
      ]
    },
    {
      "cell_type": "markdown",
      "metadata": {
        "id": "Siuu1AyTP_cF"
      },
      "source": [
        "## **Ejercicio 5)** pseudo-inversa de Moore-Penrose de una matriz\n",
        "\n",
        "La pseudo-inversa de Moore-Penrose es una generalización de la noción de inversa, que resulta útil porque existe para cualquier matriz de dimensiones y entradas arbitrarias sobre los números reales o complejos.\n",
        "\n",
        "Si una matriz $A$ es invertible (y por ende cuadrada), existe una matriz $B$ tal $AB=BA=\\mathbb{I}$. Dicha matríz $B$ es única (para la $A$ dada) y, por ende, se la denota por $A^{-1}$ y se la denomina inversa de $A$.\n",
        "\n",
        "Si $A$ no es invertible, luego no existe una matriz $B$ para la cual se cumpla la primera condición $AB=BA=\\mathbb{I}$. Sin embargo, se puede ver que siempre existe una matriz $B$ para la cual se cumple:\n",
        "\n",
        "- $ABA = A$,\n",
        "- $BAB=B$,\n",
        "- $AB$ es hermitiana, y\n",
        "- $BA$ es hermitiana.\n",
        "\n",
        "Dicha matriz $B$ es única (para la $A$ dada) y, por ende, se la denota por $A^+$ y se la denomina matríz pseudo-inversa de Moore-Penrose de $A$.\n",
        "\n",
        "Referencias:\n",
        "\n",
        "- https://en.wikipedia.org/wiki/Moore%E2%80%93Penrose_inverse\n",
        "- https://docs.scipy.org/doc/scipy/reference/generated/scipy.linalg.pinv.html#scipy.linalg.pinv\n",
        "\n",
        "**1)** Cree una matriz $A$ de dimensiones $n\\times m$ con $n=9$ y $m=6$ de números aleatorios generados a partir de la distribución normal de media 0 y varianza 1.\n",
        "\n",
        "**2)** Use `linalg.pinv()` para computar la psuedo-inversa de Moore-Penrose $A^+$ de $A$.\n",
        "\n",
        "**3)** Que dimensiones tiene $A^+$?\n",
        "\n",
        "**4)** Use `np.allclose()` para verifique que $AA^+A\\approx A$.\n",
        "\n",
        "**5)** Verifique que $A^+AA^+\\approx A^+$.\n"
      ]
    },
    {
      "cell_type": "code",
      "execution_count": null,
      "metadata": {
        "colab": {
          "base_uri": "https://localhost:8080/"
        },
        "id": "j139zRcL44_O",
        "outputId": "1d492b56-757f-48e7-85f0-0ed340ad9efe"
      },
      "outputs": [
        {
          "data": {
            "text/plain": [
              "array([[0.70467157, 0.89963655, 0.89633987, 0.27809437, 0.30293966,\n",
              "        0.26859824],\n",
              "       [0.50131808, 0.56949881, 0.77703915, 0.34555527, 0.06280042,\n",
              "        0.97711797],\n",
              "       [0.63097482, 0.84680794, 0.11642053, 0.04727317, 0.31993979,\n",
              "        0.9925807 ],\n",
              "       [0.47870385, 0.45388909, 0.05283093, 0.20085294, 0.78173579,\n",
              "        0.02819416],\n",
              "       [0.51568243, 0.32783795, 0.57458418, 0.94538329, 0.9096426 ,\n",
              "        0.3053777 ],\n",
              "       [0.90847907, 0.71928637, 0.50660153, 0.63888327, 0.72846796,\n",
              "        0.76359418],\n",
              "       [0.26458122, 0.89751585, 0.33149466, 0.28815747, 0.07348233,\n",
              "        0.97181263],\n",
              "       [0.1833463 , 0.97843284, 0.41083342, 0.48050824, 0.87128068,\n",
              "        0.74448606],\n",
              "       [0.30637882, 0.03256264, 0.71371035, 0.53048382, 0.37263883,\n",
              "        0.63766734]])"
            ]
          },
          "execution_count": 24,
          "metadata": {},
          "output_type": "execute_result"
        }
      ],
      "source": [
        "# 5.1)"
      ]
    },
    {
      "cell_type": "markdown",
      "metadata": {
        "id": "lmq42jPWWvY0"
      },
      "source": [
        "## **Ejercicio 6)** Producto de Kronecker\n",
        "\n",
        "Considere las matrices\n",
        "\n",
        "\\begin{equation}\n",
        "A = \\left(\n",
        "\\begin{array}{cc}\n",
        "A*{11} & \\dots & A*{1m} \\\\\n",
        "\\vdots & \\ddots & \\vdots \\\\\n",
        "A*{nm} & \\dots & A*{nm}\n",
        "\\end{array}\n",
        "\\right)\n",
        "\\end{equation}\n",
        "\n",
        "y\n",
        "\n",
        "\\begin{equation}\n",
        "B = \\left(\n",
        "\\begin{array}{cc}\n",
        "B*{11} & \\dots & B*{1s} \\\\\n",
        "\\vdots & \\ddots & \\vdots \\\\\n",
        "B*{r1} & \\dots & B*{rs}\n",
        "\\end{array}\n",
        "\\right)\n",
        "\\end{equation}\n",
        "\n",
        "El producto de Kronecker es la matriz de dimensiones $nr\\times ms$ dada por\n",
        "\n",
        "\\begin{equation}\n",
        "A\\otimes B\n",
        "=\n",
        "\\left(\n",
        "\\begin{array}{cc}\n",
        "A*{11}B & \\dots & A*{1m}B \\\\\n",
        "\\vdots & \\ddots & \\vdots \\\\\n",
        "A*{n1}B & \\dots & A*{nm}B\n",
        "\\end{array}\n",
        "\\right)\n",
        "=\n",
        "\\left(\n",
        "\\begin{array}{cc}\n",
        "B*{11}A & \\dots & B*{1s}A \\\\\n",
        "\\vdots & \\ddots & \\vdots \\\\\n",
        "B*{r1}A & \\dots & B*{rs}A\n",
        "\\end{array}\n",
        "\\right)\n",
        "\\end{equation}\n",
        "\n",
        "donde $A_{ij}B$ es un bloque de la matriz $A\\otimes B$ igual al producto del escalar $A_{ij}$ por la matriz $B$.\n",
        "Idem para $B_{ij}A$.\n",
        "\n",
        "Referencias:\n",
        "\n",
        "- https://docs.scipy.org/doc/scipy/reference/generated/scipy.linalg.kron.html#scipy.linalg.kron\n",
        "\n",
        "**1)** Use `linalg.kron()` para calcular el producto de Kronecker de las matrices\n",
        "\n",
        "\\begin{equation}\n",
        "A = \\left(\n",
        "\\begin{array}{cc}\n",
        "1 & 2 \\\\\n",
        "3 & 4 \\\\\n",
        "\\end{array}\n",
        "\\right)\n",
        "\\end{equation}\n",
        "\n",
        "y\n",
        "\n",
        "\\begin{equation}\n",
        "B = \\left(\n",
        "\\begin{array}{cc}\n",
        "1 \\\\\n",
        "1 \\\\\n",
        "1 \\\\\n",
        "\\end{array}\n",
        "\\right)\n",
        "\\end{equation}\n",
        "\n",
        "Que dimensiones tiene $A\\otimes B$ en este caso?\n",
        "\n",
        "**2)** Repita para las matrices\n",
        "\n",
        "\\begin{equation}\n",
        "A = \\left(\n",
        "\\begin{array}{cc}\n",
        "1 & 2 \\\\\n",
        "3 & 4 \\\\\n",
        "\\end{array}\n",
        "\\right)\n",
        "\\end{equation}\n",
        "\n",
        "y\n",
        "\n",
        "\\begin{equation}\n",
        "B = \\left(\n",
        "\\begin{array}{cc}\n",
        "1 & 1 & 1\n",
        "\\end{array}\n",
        "\\right)\n",
        "\\end{equation}\n",
        "\n",
        "Que dimensiones tiene $A\\otimes B$ en este otro caso?\n"
      ]
    },
    {
      "cell_type": "code",
      "execution_count": null,
      "metadata": {
        "colab": {
          "base_uri": "https://localhost:8080/"
        },
        "id": "HMSSVY0-IMx_",
        "outputId": "98ce83eb-5ac2-4347-ebde-e49d020b5cbf"
      },
      "outputs": [
        {
          "data": {
            "text/plain": [
              "array([[1, 2],\n",
              "       [3, 4]])"
            ]
          },
          "execution_count": 29,
          "metadata": {},
          "output_type": "execute_result"
        }
      ],
      "source": [
        "# 6.1)"
      ]
    },
    {
      "cell_type": "markdown",
      "metadata": {
        "id": "2OsaX5tGJ3QD"
      },
      "source": [
        "## **Ejercicio 7)** Autovalores y autovectores\n",
        "\n",
        "Considere una matriz $A$ de $n\\times m$. Luego, existen un conjunto de escalares $\\{\\lambda_1,...,\\lambda_n\\}$ y un correspondiente conjunto de vectores distintos $\\{v_1,...,v_n\\}$ tales que\n",
        "\n",
        "\\begin{eqnarray}\n",
        "Av_i = \\lambda_i v_i \\;\\;\\;\\; (1)\n",
        "\\end{eqnarray}\n",
        "\n",
        "para todo $i\\in\\{1,...,n\\}$. Estos $\\lambda_i$ y $v_i$ se denominan autovalores y autovectores a derecha de $A$, respectivamente. Los autovalores pueden repetirse, pueden ser nulos y se los suele ordenar de mayor a menor en orden descendiente de sus valores absolutos: $|\\lambda_1|\\geq |\\lambda_2|\\geq ...\\geq |\\lambda_n|\\geq 0$. Los autovectores pueden normalizarse, ya que si $v_i$ es autovector, luego $v_i/|v_i|$ también lo es.\n",
        "\n",
        "Los autovectores constituyen una base del dominio de $A$. Esto es muy útil porque permite escribir cualquier vector $v$ en el dominio de $A$ como una combinación linal de sus autovectores\n",
        "\n",
        "\\begin{eqnarray}\n",
        "v = \\sum_i c_i v_i\n",
        "\\end{eqnarray}\n",
        "\n",
        "Luego, calcular el producto de $A$ con $v$ resulta muy simple\n",
        "\n",
        "\\begin{eqnarray}\n",
        "Av = A\\left(\\sum_i c_i v_i\\right) = \\sum_i c_iAv_i = \\sum_i c_i\\lambda_iv_i\n",
        "\\end{eqnarray}\n",
        "\n",
        "Análogamente, existen un conjunto de escalares $\\{\\mu_1,...,\\mu_m\\}$ y un correspondiente conjunto de vectores diferentes $\\{u_1,...,u_m\\}$ de $A$, llamados autovalores y autovectores a izquierda de $A$, respectivamente, y son tales que\n",
        "\n",
        "\\begin{eqnarray}\n",
        "u_jA = \\mu_j u_j \\;\\;\\;\\; (2)\n",
        "\\end{eqnarray}\n",
        "\n",
        "para todo $j\\in\\{1,...,m\\}$.\n",
        "\n",
        "**1)** Use `linalg.eigvals()` para calcular los autovalores a derecha de la matriz\n",
        "\n",
        "\\begin{equation}\n",
        "A = \\left(\n",
        "\\begin{array}{cc}\n",
        "0 & -1 \\\\\n",
        "1 & 0\n",
        "\\end{array}\n",
        "\\right)\n",
        "\\end{equation}\n",
        "\n",
        "Referencias:\n",
        "\n",
        "- https://docs.scipy.org/doc/scipy/reference/generated/scipy.linalg.eig.html#scipy.linalg.eig\n",
        "\n",
        "**2)** Use `linalg.eig()` para calcular los autovalores y los correspondientes autovectores a derecha de $A$.\n",
        "\n",
        "**3)** Verifique que la ecuación $(1)$ se cumple.\n",
        "\n",
        "**4)** Use `linalg.eig()` para calcular los autovalores y los correspondientes autovectores a izquierda de $A$.\n",
        "\n",
        "**5)** Verifique que la ecuación $(2)$ se cumple.\n"
      ]
    },
    {
      "cell_type": "code",
      "execution_count": null,
      "metadata": {
        "colab": {
          "base_uri": "https://localhost:8080/"
        },
        "id": "MmZ790fmKNQP",
        "outputId": "10d21c13-77c8-426a-ea8a-555dbe42e575"
      },
      "outputs": [
        {
          "data": {
            "text/plain": [
              "array([-0.37228132+0.j,  5.37228132+0.j])"
            ]
          },
          "execution_count": 34,
          "metadata": {},
          "output_type": "execute_result"
        }
      ],
      "source": [
        "# 7.1)"
      ]
    },
    {
      "cell_type": "markdown",
      "metadata": {
        "id": "hJq6cMug_8WP"
      },
      "source": [
        "## **Ejercicio 8)** Singular Value Decomposition (SVD)\n",
        "\n",
        "Una matriz compleja $A$ de dimensiones $n\\times m$ se la puede pensar como una transformación lineal $A:V\\to W$ desde un espacio vectorial $V$ de dimensión $m$ a un espacio vectorial $W$ de dimensión $n$.\n",
        "A $V$ se lo suele llamar espacio de salida y a $W$ espacio de llegada.\n",
        "\n",
        "Cualquiera sea $A$, siempre existen matrices $L$, $D$ y $R$, de dimensiones $n\\times n$, $n\\times m$ y $m\\times m$, respectivamente, tales que $L$ y $R$ son unitarias, $D$ es diagonal y\n",
        "\n",
        "\\begin{eqnarray}\n",
        "A = LDR^{\\dagger} \\;\\;\\;\\; (1)\n",
        "\\end{eqnarray}\n",
        "\n",
        "Los valores diagonales\n",
        "\n",
        "\\begin{eqnarray}\n",
        "\\sigma*i := D*{ii}\n",
        "\\end{eqnarray}\n",
        "\n",
        "están definidos para todo $i\\in \\{1,...,k\\}$, donde $k=\\min(n,m)$,\n",
        "se los denomina valores singulares de $A$, son todos reales y no-negativos.\n",
        "La descomposición siempre puede realizarse de manera tal que $\\sigma_1\\geq \\sigma_2 \\geq ... \\geq \\sigma_k\\geq 0$.\n",
        "El número de valores singulares no nulos es el rango de $A$.\n",
        "\n",
        "Los vectores columna $l_1,...,l_n$ de $L$ forman una base ortonormal del espacio vectorial de llegada $W$.\n",
        "Los vectores columna $r_1,...,r_m$ de $R$ forman una base ortonormal del espacio vectorial de salida $V$.\n",
        "Usando estas propiedades, la ecuación $(1)$ puede reescribirse como\n",
        "\n",
        "\\begin{eqnarray}\n",
        "A = \\sum\\_{i=1}^k \\sigma_i \\, (l_i \\otimes r_i^{\\dagger}) \\;\\;\\;\\; (2)\n",
        "\\end{eqnarray}\n",
        "\n",
        "donde $l_i \\otimes r_i^{\\dagger}$ es la matriz de dimensiones $n\\times m$ resultante del [producto exterior](https://en.wikipedia.org/wiki/Outer_product#Connection_with_the_Kronecker_product) entre la matriz $l_i$ de dimensiones $n\\times 1$ y la matriz $r_i^{\\dagger}$ de dimensiones $1\\times m$.\n",
        "En otras palabras, la $jk$-esima entrada de la matriz $l_i \\otimes r_i^{\\dagger}$ es\n",
        "\n",
        "\\begin{eqnarray}\n",
        "(l*i \\otimes r_i^{\\dagger})*{jk}\n",
        "=\n",
        "(l*i)*{j1}\n",
        "(r*i^{\\dagger})*{1k}\n",
        "\\end{eqnarray}\n",
        "\n",
        "para cada $j\\in \\{1,...,n\\}$ y $k \\in \\{1,...,m\\}$, donde\n",
        "\n",
        "\\begin{eqnarray}\n",
        "(r*i^{\\dagger})*{1k}\n",
        "=\n",
        "(r*i)*{k1}^\\*\n",
        "\\end{eqnarray}\n",
        "\n",
        "i.e. es el complejo conjugado de la $k1$-esima entrada de la traspuesta de la matriz $r_i$.\n",
        "\n",
        "Referencias:\n",
        "\n",
        "- https://en.wikipedia.org/wiki/Singular_value_decomposition\n",
        "- https://docs.scipy.org/doc/scipy/reference/generated/scipy.linalg.svd.html#scipy.linalg.svd\n",
        "\n",
        "**1)** Cree una matriz compleja $A$ de dimensiones $n\\times m$ con $n=9$ y $m=6$, cuyas entradas $a_{ij} = x_{ij} + i y_{ij}$ se computen generando números aleatorios $x_{ij}$ e $y_{ij}$ a partir de una distribución normal de media 0 y varianza 1.\n",
        "\n",
        "**2)** Use `linalg.svd()` para calcular la SVD de $A$. Dicha función retorna 3 arrays, digamos `L`, `s` y `Rc`, donde `L` denota a la matriz $L$, `s` denota al vector de valores singulares $(\\sigma_1,\\sigma_2,...,\\sigma_k)$ y `Rc` denota a la matriz compleja conjugada $R^{\\dagger}$.\n",
        "Inspeccione las dimensiones de los arrays retornados.\n",
        "\n",
        "**3)** Use el vector `s` para crear la matriz diagonal $D$ de dimensiones $n\\times m$.\n",
        "\n",
        "**4)** Use `np.allclose()` para verificar numéricamente la ecuación $(1)$.\n"
      ]
    },
    {
      "cell_type": "code",
      "execution_count": null,
      "metadata": {
        "id": "0pUK7GdhAQBy"
      },
      "outputs": [],
      "source": [
        "# 8.1)"
      ]
    }
  ],
  "metadata": {
    "colab": {
      "provenance": []
    },
    "kernelspec": {
      "display_name": "Python 3",
      "name": "python3"
    },
    "language_info": {
      "codemirror_mode": {
        "name": "ipython",
        "version": 3
      },
      "file_extension": ".py",
      "mimetype": "text/x-python",
      "name": "python",
      "nbconvert_exporter": "python",
      "pygments_lexer": "ipython3",
      "version": "3.12.6"
    }
  },
  "nbformat": 4,
  "nbformat_minor": 0
}
