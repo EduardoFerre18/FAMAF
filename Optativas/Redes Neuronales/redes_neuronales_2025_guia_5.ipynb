{
  "cells": [
    {
      "cell_type": "markdown",
      "metadata": {
        "id": "NRYEofSD0xoF"
      },
      "source": [
        "# El modelo _Integrate and Fire_\n",
        "\n",
        "## Teoría\n",
        "\n",
        "El modelo _Integrate and Fire_ del comportamiento de una neurona viene descripto por dos ingredientes. En primer lugar, la ODE\n",
        "\n",
        "$$\n",
        "\\begin{aligned}\n",
        "\\frac{dV}{dt} &= f(V(t)) \\\\\n",
        "&= \\frac{1}{\\tau}\\left(E - V(t) + RI(t)\\right)\n",
        "\\end{aligned}\n",
        "$$\n",
        "\n",
        "donde:\n",
        "\n",
        "- $V(t)$ representa el potencial de membrana al tiempo $t$,\n",
        "\n",
        "- $E\\approx -65mV$ representa el potencial de reposo,\n",
        "\n",
        "- $\\tau\\approx 10ms$ representa el tiempo de relajación,\n",
        "\n",
        "- $R\\approx 10M\\Omega$ representa una resistencia eléctrica, y\n",
        "\n",
        "- $I(t)\\approx 1nA$ representa una corriente/señal de entrada.\n",
        "\n",
        "En segundo lugar, un mecanismo de disparo definido por\n",
        "\n",
        "$$\n",
        "V(t) \\to E\n",
        "$$\n",
        "\n",
        "cuando\n",
        "\n",
        "$$\n",
        "V(t) > V_u\n",
        "$$\n",
        "\n",
        "donde:\n",
        "\n",
        "- $V_u \\approx -50mV$ representa un potencial umbral.\n",
        "\n",
        "Es decir, según el mecanismo de disparo, el potencial de membrana $V(t)$ se resetea a su valor de reposo $E$ si supera cierto valor umbral $V_u$.\n",
        "\n",
        "---\n",
        "\n",
        "## Unidades\n",
        "\n",
        "- p = pico = $10^{-12}$\n",
        "- n = nano = $10^{-9}$\n",
        "- $\\mu$ = micro = $10^{-6}$\n",
        "- m = mili = $10^{-3}$\n",
        "- ...\n",
        "- k = kilo = $10^{3}$\n",
        "- M = Mega = $10^{6}$\n",
        "- G = Giga = $10^{9}$\n",
        "- T = Tera = $10^{12}$\n",
        "\n",
        "### Ley de Ohm\n",
        "\n",
        "Si $\\Omega$ = Ohmio, V = Voltio y A = Amper, entonces\n",
        "\n",
        "$$\n",
        "1\\, Ohm = 1 \\Omega = \\frac{1 V}{1 A}\n",
        "$$\n",
        "\n",
        "### Ley RC\n",
        "\n",
        "Si s = segundos y F = Faradios, entonces\n",
        "\n",
        "$$\n",
        "1 s = 1 \\Omega \\times 1 F\n",
        "$$\n",
        "\n",
        "### Hertz\n",
        "\n",
        "Si Hz = Hertz, luego\n",
        "\n",
        "$$\n",
        "1 Hz = \\frac{1}{1 s}\n",
        "$$\n",
        "\n",
        "---\n",
        "\n",
        "### Referencias\n",
        "\n",
        "- https://technologystudent.com/elec1/ohm1.htm\n",
        "- https://en.wikipedia.org/wiki/Biological_neuron_model#Leaky_integrate-and-fire\n",
        "- https://compneuro.neuromatch.io/tutorials/W2D3_BiologicalNeuronModels/student/W2D3_Tutorial1.html\n"
      ]
    },
    {
      "cell_type": "markdown",
      "metadata": {
        "id": "xSg4xeHbPFTb"
      },
      "source": [
        "## **Ejercicio 1)** Importando librerías\n",
        "\n",
        "**1)** Importe las librerías `numpy` para operar con arrays, `scipy` para utilizar rutinas de algebra lineal y `matplotlib.pyplot` para graficar.\n",
        "\n",
        "**2)** Suba el archivo \"libreria\" `ode.py` que fabricó en el práctico 4), e impórtelo.\n"
      ]
    },
    {
      "cell_type": "code",
      "execution_count": 1,
      "metadata": {
        "id": "I8N3D_nU1_oT"
      },
      "outputs": [],
      "source": [
        "# 1.1)\n",
        "import numpy as np\n",
        "import scipy as sp\n",
        "import scipy.linalg as linalg\n",
        "import matplotlib.pyplot as plt\n",
        "#1.2)\n",
        "import ode "
      ]
    },
    {
      "cell_type": "markdown",
      "metadata": {
        "id": "NcaGEHAd10sb"
      },
      "source": [
        "## **Ejercicio 2)** Dinámica con mecanismo de disparo desactivado\n",
        "\n",
        "En lo que sigue, se considera desactivado el mecanismo de disparo.\n",
        "\n",
        "**1)** Resuelva analíticamente la ODE del modelo _Integrate and Fire_ para una condición inicial arbitraria $V(0)=V_0$ y una corriente de entrada $I=0$.\n",
        "\n",
        "**2)** Grafique la solución para $V_0=10mV$ y $t\\in [0,100]ms$. Incorpore al gráfico una línea punteada indicando el potencial de reposo.\n",
        "\n",
        "**3)** Realice un análisis geométrico de la solución calculada. Incorpore flechas del campo vectorial así como los puntos fijos estables, inestables y marginales, si los hubiere.\n",
        "\n",
        "**4)** Repita **1)**, **2)** y **3)** para el caso de corriente de entrada constante, $I=2nA$.\n",
        "\n",
        "### Extra\n",
        "\n",
        "**5)** Resuelva analíticamente la ODE para una corriente de entrada $I:t\\to I(t)$ arbitraria.\n"
      ]
    },
    {
      "cell_type": "code",
      "execution_count": 3,
      "metadata": {
        "id": "2EwuGG0gZs_-"
      },
      "outputs": [],
      "source": [
        "# 2.1)"
      ]
    },
    {
      "cell_type": "markdown",
      "metadata": {
        "id": "P4PcT2m4P7z-"
      },
      "source": [
        "Partimos de la ODE para $I=0$, donde $RI(t) = 0$ se vuelve cero:\n",
        "\n",
        "$$\n",
        "\\frac{dV}{dt} = \\frac{1}{\\tau}(E - V(t))\n",
        "$$\n",
        "\n",
        "Separemos las variables:\n",
        "\n",
        "$$\n",
        "\\frac{dV}{E - V(t)} = \\frac{1}{\\tau} dt\n",
        "$$\n",
        "\n",
        "Integrando ambos lados, obtenemos:\n",
        "\n",
        "$$\n",
        "-\\ln|E - V(t)| = \\frac{1}{\\tau} t + C\n",
        "$$\n",
        "\n",
        "donde $C$ es una constante de integración. Al resolver para $V(t)$, tenemos:\n",
        "\n",
        "$$\n",
        "|E - V(t)| = e^{-C} e^{-\\frac{1}{\\tau} t}\n",
        "$$\n",
        "\n",
        "Definiendo $A = e^{-C}$, podemos escribir:\n",
        "\n",
        "$$\n",
        "|E - V(t)| = A e^{-\\frac{1}{\\tau} t}\n",
        "$$\n",
        "\n",
        "Como $V(0) = V_0$, obtenemos que $A = |E - V_0|$. Por lo tanto, la solución general es:\n",
        "\n",
        "$$\n",
        "V(t) = E + (V_0 - E) e^{-\\frac{1}{\\tau} t}\n",
        "$$\n"
      ]
    },
    {
      "cell_type": "code",
      "execution_count": null,
      "metadata": {},
      "outputs": [],
      "source": [
        "# El modelo _Integrate and Fire_\n",
        "\n",
        "## Teoría\n",
        "\n",
        "El modelo _Integrate and Fire_ del comportamiento de una neurona viene descripto por dos ingredientes. En primer lugar, la ODE\n",
        "\n",
        "$$\n",
        "\\begin{aligned}\n",
        "\\frac{dV}{dt} &= f(V(t)) \\\\\n",
        "&= \\frac{1}{\\tau}\\left(E - V(t) + RI(t)\\right)\n",
        "\\end{aligned}\n",
        "$$\n",
        "\n",
        "donde:\n",
        "\n",
        "- $V(t)$ representa el potencial de membrana al tiempo $t$,\n",
        "\n",
        "- $E\\approx -65mV$ representa el potencial de reposo,\n",
        "\n",
        "- $\\tau\\approx 10ms$ representa el tiempo de relajación,\n",
        "\n",
        "- $R\\approx 10M\\Omega$ representa una resistencia eléctrica, y\n",
        "\n",
        "- $I(t)\\approx 1nA$ representa una corriente/señal de entrada.\n",
        "\n",
        "En segundo lugar, un mecanismo de disparo definido por\n",
        "\n",
        "$$\n",
        "V(t) \\to E\n",
        "$$\n",
        "\n",
        "cuando\n",
        "\n",
        "$$\n",
        "V(t) > V_u\n",
        "$$\n",
        "\n",
        "donde:\n",
        "\n",
        "- $V_u \\approx -50mV$ representa un potencial umbral.\n",
        "\n",
        "Es decir, según el mecanismo de disparo, el potencial de membrana $V(t)$ se resetea a su valor de reposo $E$ si supera cierto valor umbral $V_u$.\n",
        "\n",
        "---\n",
        "\n",
        "## Unidades\n",
        "\n",
        "- p = pico = $10^{-12}$\n",
        "- n = nano = $10^{-9}$\n",
        "- $\\mu$ = micro = $10^{-6}$\n",
        "- m = mili = $10^{-3}$\n",
        "- ...\n",
        "- k = kilo = $10^{3}$\n",
        "- M = Mega = $10^{6}$\n",
        "- G = Giga = $10^{9}$\n",
        "- T = Tera = $10^{12}$\n",
        "\n",
        "### Ley de Ohm\n",
        "\n",
        "Si $\\Omega$ = Ohmio, V = Voltio y A = Amper, entonces\n",
        "\n",
        "$$\n",
        "1\\, Ohm = 1 \\Omega = \\frac{1 V}{1 A}\n",
        "$$\n",
        "\n",
        "### Ley RC\n",
        "\n",
        "Si s = segundos y F = Faradios, entonces\n",
        "\n",
        "$$\n",
        "1 s = 1 \\Omega \\times 1 F\n",
        "$$\n",
        "\n",
        "### Hertz\n",
        "\n",
        "Si Hz = Hertz, luego\n",
        "\n",
        "$$\n",
        "1 Hz = \\frac{1}{1 s}\n",
        "$$\n",
        "\n",
        "---\n",
        "\n",
        "### Referencias\n",
        "\n",
        "- https://technologystudent.com/elec1/ohm1.htm\n",
        "- https://en.wikipedia.org/wiki/Biological_neuron_model#Leaky_integrate-and-fire\n",
        "- https://compneuro.neuromatch.io/tutorials/W2D3_BiologicalNeuronModels/student/W2D3_Tutorial1.html\n",
        "\n",
        "\n",
        "## **Ejercicio 2)** Dinámica con mecanismo de disparo desactivado\n",
        "\n",
        "En lo que sigue, se considera desactivado el mecanismo de disparo.\n",
        "\n",
        "**1)** Resuelva analíticamente la ODE del modelo _Integrate and Fire_ para una condición inicial arbitraria $V(0)=V_0$ y una corriente de entrada $I=0$.\n",
        "\n",
        "**2)** Grafique la solución para $V_0=10mV$ y $t\\in [0,100]ms$. Incorpore al gráfico una línea punteada indicando el potencial de reposo.\n",
        "\n",
        "**3)** Realice un análisis geométrico de la solución calculada. Incorpore flechas del campo vectorial así como los puntos fijos estables, inestables y marginales, si los hubiere.\n",
        "\n",
        "**4)** Repita **1)**, **2)** y **3)** para el caso de corriente de entrada constante, $I=2$nA.\n",
        "\n",
        "### Extra\n",
        "\n",
        "**5)** Resuelva analíticamente la ODE para una corriente de entrada $I:t\\to I(t)$ arbitraria.\n",
        "\n",
        "#2.1) La solucion de la ODE es: \n",
        "\n",
        "$$\n",
        "V(t) = E + (V_0 - E) e^{-\\frac{1}{\\tau} t}\n",
        "$$\n",
        "\n",
        "#2.2) Grafico la solucion para V0 = 10mV y t en [0,100]ms\n",
        "E = -65\n",
        "tau = 10\n",
        "V0 = 10\n",
        "t = np.linspace(0, 100, 100) \n",
        "V = E + (V0 - E) * np.exp(-t / tau) \n",
        "plt.plot(t, V, label='V(t)') \n",
        "plt.axhline(E, color='r', linestyle='--', label='E (potencial de reposo)') \n",
        "plt.legend()\n",
        "plt.xlabel('Tiempo (ms)')\n",
        "plt.ylabel('Potencial de membrana V (mV)')\n",
        "\n",
        "#2.3) Analisis geometrico de la solucion\n",
        "# Campo vectorial\n",
        "\n",
        "#2.4) Repetir 2.1, 2.2 y 2.3 para I = 2nA\n",
        "#2.1) La solucion de la ODE es: \n",
        "$$\n",
        "V(t) = E + (V_0 - E - R I \\tau) e^{-\\frac{1}{\\tau} t} + R I \\tau\n",
        "$$\n",
        "#2.2) Grafico la solucion para V0 = 10mV y t en [0,100]ms\n",
        "E = -65\n",
        "tau = 10\n",
        "R = 10\n",
        "I = 2\n",
        "V0 = 10\n",
        "t = np.linspace(0, 100, 100)\n",
        "V = E + (V0 - E - R * I * tau) * np.exp(-t / tau) + R * I * tau\n",
        "plt.plot(t, V, label='V(t)')\n",
        "plt.axhline(E + R * I * tau, color='r', linestyle='--', label='E + R I tau (potencial de reposo modificado)')\n",
        "plt.legend()\n",
        "plt.xlabel('Tiempo (ms)')\n",
        "plt.ylabel('Potencial de membrana V (mV)')\n",
        "#2.3) Analisis geometrico de la solucion\n",
        "\n"
      ]
    },
    {
      "cell_type": "code",
      "execution_count": 3,
      "metadata": {},
      "outputs": [
        {
          "data": {
            "text/plain": [
              "Text(0, 0.5, 'Potencial de membrana V (mV)')"
            ]
          },
          "execution_count": 4,
          "metadata": {},
          "output_type": "execute_result"
        },
        {
          "data": {
            "image/png": "[encoded data removed]",
            "text/plain": [
              "<Figure size 640x480 with 1 Axes>"
            ]
          },
          "metadata": {},
          "output_type": "display_data"
        }
      ],
      "source": [
        "#2.2) \n",
        "E = -65\n",
        "tau = 10\n",
        "V0 = 10\n",
        "t = np.linspace(0, 100, 100) \n",
        "V = E + (V0 - E) * np.exp(-t / tau) \n",
        "plt.plot(t, V, label='V(t)') \n",
        "plt.axhline(E, color='r', linestyle='--', label='E (potencial de reposo)') \n",
        "plt.legend()\n",
        "plt.xlabel('Tiempo (ms)')\n",
        "plt.ylabel('Potencial de membrana V (mV)')"
      ]
    },
    {
      "cell_type": "code",
      "execution_count": null,
      "metadata": {},
      "outputs": [],
      "source": [
        "#2.3) Analisis geometrico de la solucion\n",
        "# No entendi muy bien como se hace"
      ]
    },
    {
      "cell_type": "code",
      "execution_count": null,
      "metadata": {},
      "outputs": [],
      "source": [
        "#2.4)"
      ]
    },
    {
      "cell_type": "markdown",
      "metadata": {},
      "source": [
        "La ODE es\n",
        "\n",
        "$$\n",
        "\\frac{dV}{dt} = \\frac{1}{\\tau}\\,\\bigl(E - V(t) + R I_0\\bigr),\n",
        "\\qquad I_0 = 2\\,\\text{nA}, \\quad V(0)=V_0.\n",
        "$$\n",
        "\n",
        "El punto fijo es\n",
        "\n",
        "$$\n",
        "V^{*} = E + R I_0.\n",
        "$$\n",
        "\n",
        "La solución (desplazando respecto de $(V^{*})$ queda\n",
        "\n",
        "$$\n",
        "\\boxed{\\,V(t) = V^{*} + \\bigl(V_0 - V^{*}\\bigr)\\, e^{-t/\\tau}\\,}\n",
        "$$\n"
      ]
    },
    {
      "cell_type": "code",
      "execution_count": 8,
      "metadata": {},
      "outputs": [
        {
          "data": {
            "image/png": "[encoded data removed]",
            "text/plain": [
              "<Figure size 640x480 with 1 Axes>"
            ]
          },
          "metadata": {},
          "output_type": "display_data"
        }
      ],
      "source": [
        "# El gráfico es:\n",
        "E, tau, R, I = -65.0, 10.0, 10.0, 2.0   # mV, ms, MΩ, nA\n",
        "V0 = 10.0\n",
        "t = np.linspace(0, 100, 1001)\n",
        "V = E + R*I + (V0 - (E + R*I)) * np.exp(-t/tau)  # -45 + 55*e^{-t/10}\n",
        "\n",
        "plt.plot(t, V, label='V(t)')\n",
        "plt.axhline(E, ls=':',  label='Potencial de reposo E')\n",
        "plt.axhline(E+R*I, ls='--', label='Punto fijo V* = E + RI')\n",
        "plt.xlabel('Tiempo (ms)'); plt.ylabel('V (mV)')\n",
        "plt.title('Dinámica sin disparo (I = 2 nA)')\n",
        "plt.grid() \n",
        "plt.legend()\n",
        "plt.show()"
      ]
    },
    {
      "cell_type": "markdown",
      "metadata": {
        "id": "ZA8o18QvZLWY"
      },
      "source": [
        "## **Ejercicio 3)** Dinámica con mecanismo de disparo activado\n",
        "\n",
        "**1)** Resuelva numéricamente la ODE del modelo _Integrate and Fire_ en el intervalo $t\\in [0,200]ms$ para la condición inicial $V(0)=E$ y una corriente de entrada $I(t)=I_0$ para todo $t$ con $I_0=2nA$. Utilice el paso de integración $h=0.05ms$.\n",
        "\n",
        "**2)** Grafique la solución computada en el inciso **3.1)**. Incorpore al gráfico la solución exacta del inciso **2.1)**, en donde el mecanismo de disparo está desactivado, para la misma condición inicial del inciso **3.1)**. Grafique, también, líneas punteadas horizontales marcando los valores de $V^*$ y $V_u$, donde $V^*$ es el valor de $V$ tal que $f(V)=0$.\n",
        "\n",
        "**3)** Para el caso indicado en el inciso **3.1)**, calcule analíticamente el período de disparo.\n",
        "Observe si el valor computado corresponde con el observado en el inciso **3.2)**.\n",
        "Grafíque la frencuencia en función de $I_0$.\n",
        "Que ocurre para valores pequeños de $I_0$?\n",
        "\n",
        "**4)** Repita **3.1)** y **3.2)** con $I_e(t)=I_0 \\cos(t/30ms)$ e $I_0=2.5nA$ para $0\\,ms\\leq t\\leq 500\\,ms$. En este caso, no incluya la solución exacta del inciso **2.1)**, pero sí lineas punteadas horizontales para marcar los valores de $E$ y $V_u$.\n",
        "\n",
        "**5)** Repita **3.1)** y **3.2)** con\n",
        "\n",
        "\\begin{equation}\n",
        "I(t)= I_0 \\, \\left(\n",
        "\\cos{\\left( \\frac{t}{3ms} \\right)} +\n",
        "\\sin{\\left( \\frac{t}{5ms} \\right)} +\n",
        "\\cos{\\left( \\frac{t}{7ms} \\right)} +\n",
        "\\sin{\\left( \\frac{t}{11ms} \\right)} +\n",
        "\\cos{\\left( \\frac{t}{13ms} \\right)} \\right)^2 \\, nA \\,\n",
        "\\;\\;\\;(4)\n",
        "\\end{equation}\n",
        "\n",
        "e $I_0=0.35 nA$ para $0\\,ms\\leq t\\leq 200\\,ms$. Al igual que en inciso anterior, no incluya la solución exacta del inciso **2.a)**, pero sí lineas punteadas horizontales para marcar los valores de $E$ y $V_u$.\n"
      ]
    },
    {
      "cell_type": "code",
      "execution_count": 4,
      "metadata": {
        "id": "TsHJjcCmTxa1"
      },
      "outputs": [],
      "source": [
        "# 3.1)"
      ]
    }
  ],
  "metadata": {
    "colab": {
      "provenance": []
    },
    "kernelspec": {
      "display_name": "Python 3",
      "name": "python3"
    },
    "language_info": {
      "codemirror_mode": {
        "name": "ipython",
        "version": 3
      },
      "file_extension": ".py",
      "mimetype": "text/x-python",
      "name": "python",
      "nbconvert_exporter": "python",
      "pygments_lexer": "ipython3",
      "version": "3.12.6"
    }
  },
  "nbformat": 4,
  "nbformat_minor": 0
}
