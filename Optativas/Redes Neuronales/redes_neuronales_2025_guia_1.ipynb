{
  "cells": [
    {
      "cell_type": "markdown",
      "metadata": {
        "id": "NRYEofSD0xoF"
      },
      "source": [
        "# Familiarizandose con **Google Colab** y **Python**\n",
        "\n",
        "## **Ejercicio 1)** Importando librerías\n",
        "\n",
        "Importe las librerías `numpy` para operar con arrays y `matplotlib.pyplot` para graficar.\n"
      ]
    },
    {
      "cell_type": "code",
      "execution_count": 1,
      "metadata": {
        "id": "I8N3D_nU1_oT"
      },
      "outputs": [],
      "source": [
        "import numpy as np\n",
        "import matplotlib.pyplot as plt"
      ]
    },
    {
      "cell_type": "markdown",
      "metadata": {
        "id": "NcaGEHAd10sb"
      },
      "source": [
        "## **Ejercicio 2)** Practicando instrucciones básicas\n",
        "\n",
        "**1)** Ingrese un comentario\n",
        "\n",
        "**2)** Implemente una suma, una multiplicación y una división entera.\n",
        "\n",
        "**3)** Repita con números flotantes.\n",
        "\n",
        "**4)** Ingrese un string.\n",
        "\n",
        "**5)** Ingrese un docstring.\n",
        "\n",
        "**6)** Concatene dos strings.\n"
      ]
    },
    {
      "cell_type": "code",
      "execution_count": 2,
      "metadata": {
        "id": "tntEwNvE4SZC"
      },
      "outputs": [],
      "source": [
        "# 2.1) esto es un comentario"
      ]
    },
    {
      "cell_type": "code",
      "execution_count": 3,
      "metadata": {
        "colab": {
          "base_uri": "https://localhost:8080/"
        },
        "id": "zSN2CcQ33N5D",
        "outputId": "6a7811b5-8a44-4199-f91b-c1fad7638836"
      },
      "outputs": [
        {
          "data": {
            "text/plain": [
              "2"
            ]
          },
          "execution_count": 3,
          "metadata": {},
          "output_type": "execute_result"
        }
      ],
      "source": [
        "# 2.2)\n",
        "1+1"
      ]
    },
    {
      "cell_type": "code",
      "execution_count": 4,
      "metadata": {
        "colab": {
          "base_uri": "https://localhost:8080/"
        },
        "id": "pJeKZlpABVSx",
        "outputId": "86aa26ac-8e3f-4af7-ee70-594a5d16f057"
      },
      "outputs": [
        {
          "data": {
            "text/plain": [
              "-15"
            ]
          },
          "execution_count": 4,
          "metadata": {},
          "output_type": "execute_result"
        }
      ],
      "source": [
        "5*-3"
      ]
    },
    {
      "cell_type": "code",
      "execution_count": 5,
      "metadata": {
        "colab": {
          "base_uri": "https://localhost:8080/"
        },
        "id": "GdaF501tBYVB",
        "outputId": "1946a59f-3603-4a96-e03c-f2fdda51b17d"
      },
      "outputs": [
        {
          "data": {
            "text/plain": [
              "2"
            ]
          },
          "execution_count": 5,
          "metadata": {},
          "output_type": "execute_result"
        }
      ],
      "source": [
        "5//2"
      ]
    },
    {
      "cell_type": "code",
      "execution_count": 6,
      "metadata": {
        "colab": {
          "base_uri": "https://localhost:8080/"
        },
        "id": "tL4AygI1BnR8",
        "outputId": "2c64818d-1bf6-40ae-fb46-d5c53481ea6d"
      },
      "outputs": [
        {
          "data": {
            "text/plain": [
              "3.4"
            ]
          },
          "execution_count": 6,
          "metadata": {},
          "output_type": "execute_result"
        }
      ],
      "source": [
        "# 2.3)\n",
        "1.1 + 2.3"
      ]
    },
    {
      "cell_type": "code",
      "execution_count": 7,
      "metadata": {
        "colab": {
          "base_uri": "https://localhost:8080/"
        },
        "id": "hbLW6EdeBsLj",
        "outputId": "3ad31acf-0eaa-4e7c-d944-1ef3f84b7afe"
      },
      "outputs": [
        {
          "data": {
            "text/plain": [
              "16.98"
            ]
          },
          "execution_count": 7,
          "metadata": {},
          "output_type": "execute_result"
        }
      ],
      "source": [
        "5.66 * 3"
      ]
    },
    {
      "cell_type": "code",
      "execution_count": 8,
      "metadata": {
        "colab": {
          "base_uri": "https://localhost:8080/"
        },
        "id": "WSa9s055BbLR",
        "outputId": "c64638b0-62f6-4b5d-a61e-cb17e97c486c"
      },
      "outputs": [
        {
          "data": {
            "text/plain": [
              "1.5"
            ]
          },
          "execution_count": 8,
          "metadata": {},
          "output_type": "execute_result"
        }
      ],
      "source": [
        "3/2"
      ]
    },
    {
      "cell_type": "code",
      "execution_count": 9,
      "metadata": {
        "colab": {
          "base_uri": "https://localhost:8080/",
          "height": 35
        },
        "id": "hbIfR7dDBy5d",
        "outputId": "bf65dc9b-7264-41fa-db49-7de42f62e5c8"
      },
      "outputs": [
        {
          "data": {
            "text/plain": [
              "'hola mundo'"
            ]
          },
          "execution_count": 9,
          "metadata": {},
          "output_type": "execute_result"
        }
      ],
      "source": [
        "# 2.4)\n",
        "\"hola mundo\""
      ]
    },
    {
      "cell_type": "code",
      "execution_count": 10,
      "metadata": {
        "colab": {
          "base_uri": "https://localhost:8080/",
          "height": 35
        },
        "id": "gtmUmNodCIxN",
        "outputId": "5142c393-cc0e-4d78-fe83-18b8ef132cbd"
      },
      "outputs": [
        {
          "data": {
            "text/plain": [
              "'hola\\nmundo'"
            ]
          },
          "execution_count": 10,
          "metadata": {},
          "output_type": "execute_result"
        }
      ],
      "source": [
        "# 2.5)\n",
        "\"\"\"hola\n",
        "mundo\"\"\""
      ]
    },
    {
      "cell_type": "code",
      "execution_count": 11,
      "metadata": {
        "colab": {
          "base_uri": "https://localhost:8080/",
          "height": 35
        },
        "id": "EP217LDXCbzI",
        "outputId": "400e20eb-d574-4231-9a7b-cf2ddf95b8bd"
      },
      "outputs": [
        {
          "data": {
            "text/plain": [
              "'abcd efgh'"
            ]
          },
          "execution_count": 11,
          "metadata": {},
          "output_type": "execute_result"
        }
      ],
      "source": [
        "# 2.6)\n",
        "\"abcd\" + \" \" + \"efgh\""
      ]
    },
    {
      "cell_type": "markdown",
      "metadata": {
        "id": "z9AlDWS02Xrm"
      },
      "source": [
        "## **Ejercicio 3)** Practicando con variables\n",
        "\n",
        "**1)** Inicialize una variable `x` con el valor `3`\n",
        "\n",
        "**2)** Evalue la variable `x`.\n",
        "\n",
        "**3)** Inicialize otra variable `y` con el valor `4` y evalue la suma de `x` con `y`.\n",
        "\n",
        "**4)** Inicialize otra variable `z` con el resultado de evaluar `x*(2+y)`. Luego, evalúe `z`.\n",
        "\n",
        "**5)** Inicialize una variable `s1` con el string `\"hola\"` y otra `s2` con el string `\"mundo\"`.\n",
        "\n",
        "**6)** Inicialize otra variable `s` con el resultado de concatenar `s1` con `s2`. Luego, evalùe `s`.\n"
      ]
    },
    {
      "cell_type": "code",
      "execution_count": 12,
      "metadata": {
        "id": "bGFmi37C59Xg"
      },
      "outputs": [],
      "source": [
        "# 3.1)\n",
        "\n",
        "x = 3"
      ]
    },
    {
      "cell_type": "code",
      "execution_count": 13,
      "metadata": {
        "colab": {
          "base_uri": "https://localhost:8080/",
          "height": 35
        },
        "id": "Oz9CGj4zuLb8",
        "outputId": "6e312307-28e0-4aae-9858-eca34e0eb48f"
      },
      "outputs": [
        {
          "data": {
            "text/plain": [
              "'holamundo'"
            ]
          },
          "execution_count": 13,
          "metadata": {},
          "output_type": "execute_result"
        }
      ],
      "source": [
        "s1 = \"hola\"\n",
        "s2 = \"mundo\"\n",
        "s = s1 + s2\n",
        "s"
      ]
    },
    {
      "cell_type": "markdown",
      "metadata": {
        "id": "1q4dmsnN2Z_A"
      },
      "source": [
        "## **Ejercicio 4)** Practicando igualdades y desigualdades\n",
        "\n",
        "**1)** Evalúe `1 == 1`.\n",
        "\n",
        "**2)** Evalúe `1 == 2`.\n",
        "\n",
        "**3)** Evalúe `1 != 1`.\n",
        "\n",
        "**4)** Evalúe `1 != 2`.\n",
        "\n",
        "**5)** Evalúe `\"hola\" == \"hola\"`.\n",
        "\n",
        "**6)** Evalúe `\"hola\" != \"hola\"`.\n",
        "\n",
        "**7)** Evalúe `\"hola\" == \"mundo\"`.\n",
        "\n",
        "**8)** Evalúe `\"hola\" != \"mundo\"`.\n",
        "\n",
        "**9)** Evalúe `True == True`.\n",
        "\n",
        "**10)** Evalúe `False == True`.\n",
        "\n",
        "**11)** Evalúe `False != True`.\n",
        "\n",
        "**12)** Evalúe `False == False`.\n",
        "\n",
        "**13)** Evalúe `1 < 2`.\n",
        "\n",
        "**14)** Evalúe `1 > 2`.\n",
        "\n",
        "**15)** Evalúe `1 <= 2`.\n",
        "\n",
        "**16)** Evalúe `1 >= 2`.\n"
      ]
    },
    {
      "cell_type": "code",
      "execution_count": 14,
      "metadata": {
        "colab": {
          "base_uri": "https://localhost:8080/"
        },
        "id": "pzU9Y1PB6vxq",
        "outputId": "b9dce01b-7274-4cb3-dae0-7e994afcb22a"
      },
      "outputs": [
        {
          "data": {
            "text/plain": [
              "True"
            ]
          },
          "execution_count": 14,
          "metadata": {},
          "output_type": "execute_result"
        }
      ],
      "source": [
        "# 4.1)\n",
        "1 == 1"
      ]
    },
    {
      "cell_type": "code",
      "execution_count": null,
      "metadata": {},
      "outputs": [
        {
          "data": {
            "text/plain": [
              "False"
            ]
          },
          "execution_count": 15,
          "metadata": {},
          "output_type": "execute_result"
        }
      ],
      "source": [
        "# 4.2)\n",
        "1 ==2 "
      ]
    },
    {
      "cell_type": "code",
      "execution_count": null,
      "metadata": {},
      "outputs": [],
      "source": [
        "# 4.3)\n",
        "1 != 1 "
      ]
    },
    {
      "cell_type": "code",
      "execution_count": 16,
      "metadata": {},
      "outputs": [
        {
          "data": {
            "text/plain": [
              "True"
            ]
          },
          "execution_count": 16,
          "metadata": {},
          "output_type": "execute_result"
        }
      ],
      "source": [
        "#4.4)\n",
        "1 != 2"
      ]
    },
    {
      "cell_type": "code",
      "execution_count": 17,
      "metadata": {},
      "outputs": [
        {
          "data": {
            "text/plain": [
              "True"
            ]
          },
          "execution_count": 17,
          "metadata": {},
          "output_type": "execute_result"
        }
      ],
      "source": [
        "#4.5)\n",
        "\"hola\" == \"hola\""
      ]
    },
    {
      "cell_type": "code",
      "execution_count": 18,
      "metadata": {},
      "outputs": [
        {
          "data": {
            "text/plain": [
              "False"
            ]
          },
          "execution_count": 18,
          "metadata": {},
          "output_type": "execute_result"
        }
      ],
      "source": [
        "#4.6)\n",
        "\"hola\" != \"hola\""
      ]
    },
    {
      "cell_type": "code",
      "execution_count": 19,
      "metadata": {},
      "outputs": [
        {
          "data": {
            "text/plain": [
              "False"
            ]
          },
          "execution_count": 19,
          "metadata": {},
          "output_type": "execute_result"
        }
      ],
      "source": [
        "#4.7)\n",
        "\"hola\" == \"mundo\""
      ]
    },
    {
      "cell_type": "code",
      "execution_count": 20,
      "metadata": {},
      "outputs": [
        {
          "data": {
            "text/plain": [
              "True"
            ]
          },
          "execution_count": 20,
          "metadata": {},
          "output_type": "execute_result"
        }
      ],
      "source": [
        "#4.8)\n",
        "\"hola\" != \"mundo\""
      ]
    },
    {
      "cell_type": "code",
      "execution_count": 21,
      "metadata": {},
      "outputs": [
        {
          "data": {
            "text/plain": [
              "True"
            ]
          },
          "execution_count": 21,
          "metadata": {},
          "output_type": "execute_result"
        }
      ],
      "source": [
        "#4.9)\n",
        "True == True"
      ]
    },
    {
      "cell_type": "code",
      "execution_count": 22,
      "metadata": {},
      "outputs": [
        {
          "data": {
            "text/plain": [
              "False"
            ]
          },
          "execution_count": 22,
          "metadata": {},
          "output_type": "execute_result"
        }
      ],
      "source": [
        "#4.10)\n",
        "\n",
        "False == True"
      ]
    },
    {
      "cell_type": "code",
      "execution_count": 23,
      "metadata": {},
      "outputs": [
        {
          "data": {
            "text/plain": [
              "True"
            ]
          },
          "execution_count": 23,
          "metadata": {},
          "output_type": "execute_result"
        }
      ],
      "source": [
        "#4.11)\n",
        "False != True"
      ]
    },
    {
      "cell_type": "code",
      "execution_count": 24,
      "metadata": {},
      "outputs": [
        {
          "data": {
            "text/plain": [
              "True"
            ]
          },
          "execution_count": 24,
          "metadata": {},
          "output_type": "execute_result"
        }
      ],
      "source": [
        "#4.12)\n",
        "False == False"
      ]
    },
    {
      "cell_type": "code",
      "execution_count": 25,
      "metadata": {},
      "outputs": [
        {
          "data": {
            "text/plain": [
              "True"
            ]
          },
          "execution_count": 25,
          "metadata": {},
          "output_type": "execute_result"
        }
      ],
      "source": [
        "#4.13)\n",
        "1<2"
      ]
    },
    {
      "cell_type": "code",
      "execution_count": 26,
      "metadata": {},
      "outputs": [
        {
          "data": {
            "text/plain": [
              "False"
            ]
          },
          "execution_count": 26,
          "metadata": {},
          "output_type": "execute_result"
        }
      ],
      "source": [
        "#4.14)\n",
        "1 > 2"
      ]
    },
    {
      "cell_type": "code",
      "execution_count": 27,
      "metadata": {},
      "outputs": [
        {
          "data": {
            "text/plain": [
              "True"
            ]
          },
          "execution_count": 27,
          "metadata": {},
          "output_type": "execute_result"
        }
      ],
      "source": [
        "#4.15)\n",
        "1 <= 2\n"
      ]
    },
    {
      "cell_type": "code",
      "execution_count": 28,
      "metadata": {},
      "outputs": [
        {
          "data": {
            "text/plain": [
              "False"
            ]
          },
          "execution_count": 28,
          "metadata": {},
          "output_type": "execute_result"
        }
      ],
      "source": [
        "#4.16)\n",
        "1 >= 2"
      ]
    },
    {
      "cell_type": "markdown",
      "metadata": {
        "id": "K3Oh_Sne7f-p"
      },
      "source": [
        "## **Ejercicio 5)** Practicando con la función `print`.\n",
        "\n",
        "**1)** Imprima un número.\n",
        "\n",
        "**2)** Imprima un string.\n",
        "\n",
        "**3)** Imprima dos números.\n",
        "\n",
        "**4)** Imprima dos strings.\n",
        "\n",
        "**5)** Imprima dos strings con separador vacío.\n",
        "\n",
        "**6)** Imprima un número y un string.\n"
      ]
    },
    {
      "cell_type": "code",
      "execution_count": null,
      "metadata": {
        "colab": {
          "base_uri": "https://localhost:8080/"
        },
        "id": "JiKAmQxT7sMJ",
        "outputId": "89e73ce2-e8da-4a0d-e902-fb668abe5a87"
      },
      "outputs": [
        {
          "name": "stdout",
          "output_type": "stream",
          "text": [
            "Este es el numero: 3\n",
            "Este es un string: hola mundo\n",
            "Estos son dos numeros: 3 4\n",
            "Estos son strings: hola mundo\n",
            "HolaMundo\n",
            "Esto es un string y un número: hola 3\n"
          ]
        }
      ],
      "source": [
        "# 5.1)\n",
        "print(\"Este es el numero:\", 3)\n",
        "\n",
        "#5.2)\n",
        "print(\"Este es un string:\", \"hola mundo\")\n",
        "\n",
        "#5.3)\n",
        "print(\"Estos son dos numeros:\", 3, 4)\n",
        "\n",
        "#5.4)\n",
        "print(\"Estos son strings:\", \"hola\", \"mundo\")\n",
        "\n",
        "#5.5) Imprimir dos strings con un separador vacío\n",
        "print(\"Hola\" + \"Mundo\")\n",
        "\n",
        "#5.6) \n",
        "print(\"Esto es un string y un número:\", \"hola\", 3)"
      ]
    },
    {
      "cell_type": "markdown",
      "metadata": {
        "id": "B6wbgSO87aAE"
      },
      "source": [
        "## **Ejercicio 6)** Practicando con condicionales `if`, `else` y `elif`\n",
        "\n",
        "**1)** Imprime algo el siguiente código?\n",
        "\n",
        "      if 1 == 1:\n",
        "          print(\"hola\")\n",
        "\n",
        "**2)** Y el siguiente código?\n",
        "\n",
        "      if 1 != 1:\n",
        "          print(\"hola\")\n",
        "\n",
        "**3)** Que imprime el siguiente código?\n",
        "\n",
        "      if 1 == 2:\n",
        "          print(\"hola\")\n",
        "      else:\n",
        "          print(\"mundo\")\n",
        "\n",
        "**4)** Que imprime el siguiente código?\n",
        "\n",
        "      if 1 == 2:\n",
        "          print(\"hola\")\n",
        "      elif 1 < 2:\n",
        "          print(\"mundo\")\n",
        "      else:\n",
        "          print(\"argentina\")\n"
      ]
    },
    {
      "cell_type": "code",
      "execution_count": null,
      "metadata": {
        "colab": {
          "base_uri": "https://localhost:8080/"
        },
        "id": "G4bYNL7B8Wme",
        "outputId": "cd145579-7da5-4c0d-e078-f8cfa7f09e1b"
      },
      "outputs": [
        {
          "name": "stdout",
          "output_type": "stream",
          "text": [
            "chau\n"
          ]
        }
      ],
      "source": [
        "'''\n",
        "6.1) Imprime hola\n",
        "6.2) No imprime nada\n",
        "6.3) Imprime mundo\n",
        "6.4) Imprime mundo\n",
        "\n",
        "'''\n"
      ]
    },
    {
      "cell_type": "markdown",
      "metadata": {
        "id": "8A3sq4Qm8_4T"
      },
      "source": [
        "## **Ejercicio 7)** Practicando con listas\n",
        "\n",
        "**1)** Cree una lista con las siguientes strings `\"perro\"`, `\"gato\"`, `\"loro\"`, `\"caballo\"` y `\"llama\"`. Guardela en una variable llamada `animales`.\n",
        "\n",
        "**2)** Acceda al 3er elemento de la lista.\n",
        "\n",
        "**3)** Use slicing para acceder a los primeros 3 elementos de la lista.\n",
        "\n",
        "**4)** Use slicing para acceder a los últimos 3 elementos de la lista.\n",
        "\n",
        "**5)** Use slicing para acceder a los 3 elementos de la lista contando desde el segundo.\n",
        "\n",
        "**6)** Use _list comprehension_ para generar una lista con los animales que posean una letra `l` en su nombre.\n",
        "\n",
        "**7)** Cree una lista con los números del 1 al 10, asignándola a una variable `a`.\n",
        "\n",
        "**8)** Modifique la entrada `a[5]`, asignandole el nuevo valor `\"hola\"`. Luego, evalúe `a`.\n",
        "\n",
        "**9)** Modifique las entradas `a[2:6]` con los valores de la lista `[\"perro\", \"gato\",\"loro\",\"caballo\"]`. Luego, evalúe `a`.\n"
      ]
    },
    {
      "cell_type": "code",
      "execution_count": 32,
      "metadata": {
        "colab": {
          "base_uri": "https://localhost:8080/"
        },
        "id": "7OX-mL5606x1",
        "outputId": "6c336ad3-16c8-4049-d4d1-9716b2eef847"
      },
      "outputs": [],
      "source": [
        "# 7.1)\n",
        "\n",
        "animales = [\"perro\", \"gato\", \"loro\", \"caballo\", \"llama\"]"
      ]
    },
    {
      "cell_type": "code",
      "execution_count": 33,
      "metadata": {},
      "outputs": [
        {
          "data": {
            "text/plain": [
              "'loro'"
            ]
          },
          "execution_count": 33,
          "metadata": {},
          "output_type": "execute_result"
        }
      ],
      "source": [
        "#7.2)\n",
        "animales[2]"
      ]
    },
    {
      "cell_type": "code",
      "execution_count": null,
      "metadata": {},
      "outputs": [
        {
          "data": {
            "text/plain": [
              "['loro', 'caballo', 'llama']"
            ]
          },
          "execution_count": 40,
          "metadata": {},
          "output_type": "execute_result"
        }
      ],
      "source": [
        "#7.3)\n",
        "animales[:3]"
      ]
    },
    {
      "cell_type": "code",
      "execution_count": 41,
      "metadata": {},
      "outputs": [
        {
          "data": {
            "text/plain": [
              "['loro', 'caballo', 'llama']"
            ]
          },
          "execution_count": 41,
          "metadata": {},
          "output_type": "execute_result"
        }
      ],
      "source": [
        "#7.4)\n",
        "animales[-3:]"
      ]
    },
    {
      "cell_type": "code",
      "execution_count": 42,
      "metadata": {},
      "outputs": [
        {
          "data": {
            "text/plain": [
              "['gato', 'loro', 'caballo']"
            ]
          },
          "execution_count": 42,
          "metadata": {},
          "output_type": "execute_result"
        }
      ],
      "source": [
        "#7.5)\n",
        "animales[1:4]"
      ]
    },
    {
      "cell_type": "code",
      "execution_count": null,
      "metadata": {},
      "outputs": [
        {
          "data": {
            "text/plain": [
              "['loro', 'caballo', 'llama']"
            ]
          },
          "execution_count": 43,
          "metadata": {},
          "output_type": "execute_result"
        }
      ],
      "source": [
        "#7.6)\n",
        "animales_con_l = [animal for animal in animales if 'l' in animal]\n",
        "animales_con_l"
      ]
    },
    {
      "cell_type": "code",
      "execution_count": 44,
      "metadata": {},
      "outputs": [
        {
          "data": {
            "text/plain": [
              "[1, 2, 3, 4, 5, 6, 7, 8, 9, 10]"
            ]
          },
          "execution_count": 44,
          "metadata": {},
          "output_type": "execute_result"
        }
      ],
      "source": [
        "#7.7)\n",
        "a = list(range(1, 11))\n",
        "a"
      ]
    },
    {
      "cell_type": "code",
      "execution_count": 45,
      "metadata": {},
      "outputs": [
        {
          "data": {
            "text/plain": [
              "[1, 2, 3, 4, 5, 'hola', 7, 8, 9, 10]"
            ]
          },
          "execution_count": 45,
          "metadata": {},
          "output_type": "execute_result"
        }
      ],
      "source": [
        "#7.8)\n",
        "a[5] = \"hola\"\n",
        "a"
      ]
    },
    {
      "cell_type": "code",
      "execution_count": 46,
      "metadata": {},
      "outputs": [
        {
          "data": {
            "text/plain": [
              "[1, 2, 'perro', 'gato', 'loro', 'caballo', 7, 8, 9, 10]"
            ]
          },
          "execution_count": 46,
          "metadata": {},
          "output_type": "execute_result"
        }
      ],
      "source": [
        "# 7.9)\n",
        "a[2:6] = [\"perro\", \"gato\", \"loro\", \"caballo\"]\n",
        "a"
      ]
    },
    {
      "cell_type": "markdown",
      "metadata": {
        "id": "0y2VKhA2oijd"
      },
      "source": [
        "## **Ejercicio 8)** Practicando con tuplas\n",
        "\n",
        "**1)** Determine si la tupla `(1,2,3)` es igual a si misma.\n",
        "\n",
        "**2)** Determine si la tupla `(1,2,3)` es igual a la tupla `(1,2,3,4)`.\n",
        "\n",
        "**3)** Inicialize una variable `t` con una tupla `(1,2,3)`. Luego, evalúe `t[0]`, `t[1]`, `t[2]` y `t[3]`.\n",
        "\n",
        "**4)** Intente modificar el valor de `t[0]`.\n",
        "\n",
        "**5)** Determine si la tupla `(1,2,3)` es igual a la lista `[1,2,3]`.\n",
        "\n",
        "**6)** Inicialize las variables `x`, `y` y `z` asignando la tupla `\"hola\",\"mundo\",100`. Evalúe `x`, `y` y `z`.\n"
      ]
    },
    {
      "cell_type": "code",
      "execution_count": null,
      "metadata": {
        "colab": {
          "base_uri": "https://localhost:8080/",
          "height": 176
        },
        "id": "smLKfDhZLUBJ",
        "outputId": "64667630-2375-4002-a94b-c907a33a0ecf"
      },
      "outputs": [
        {
          "data": {
            "text/plain": [
              "True"
            ]
          },
          "execution_count": 47,
          "metadata": {},
          "output_type": "execute_result"
        }
      ],
      "source": [
        "# 8.1) \n",
        "(1,2,3) == (1,2,3)\n"
      ]
    },
    {
      "cell_type": "code",
      "execution_count": 48,
      "metadata": {},
      "outputs": [
        {
          "data": {
            "text/plain": [
              "False"
            ]
          },
          "execution_count": 48,
          "metadata": {},
          "output_type": "execute_result"
        }
      ],
      "source": [
        "# 8.2)\n",
        "(1,2,3) == (1,2,3, 4)"
      ]
    },
    {
      "cell_type": "code",
      "execution_count": 50,
      "metadata": {},
      "outputs": [
        {
          "name": "stdout",
          "output_type": "stream",
          "text": [
            "1\n",
            "2\n",
            "3\n"
          ]
        },
        {
          "ename": "IndexError",
          "evalue": "tuple index out of range",
          "output_type": "error",
          "traceback": [
            "\u001b[31m---------------------------------------------------------------------------\u001b[39m",
            "\u001b[31mIndexError\u001b[39m                                Traceback (most recent call last)",
            "\u001b[36mCell\u001b[39m\u001b[36m \u001b[39m\u001b[32mIn[50]\u001b[39m\u001b[32m, line 6\u001b[39m\n\u001b[32m      4\u001b[39m \u001b[38;5;28mprint\u001b[39m(t[\u001b[32m1\u001b[39m])\n\u001b[32m      5\u001b[39m \u001b[38;5;28mprint\u001b[39m(t[\u001b[32m2\u001b[39m])\n\u001b[32m----> \u001b[39m\u001b[32m6\u001b[39m \u001b[38;5;28mprint\u001b[39m(\u001b[43mt\u001b[49m\u001b[43m[\u001b[49m\u001b[32;43m3\u001b[39;49m\u001b[43m]\u001b[49m)\n",
            "\u001b[31mIndexError\u001b[39m: tuple index out of range"
          ]
        }
      ],
      "source": [
        "#8.3) \n",
        "t = (1,2,3)\n",
        "print(t[0])\n",
        "print(t[1])\n",
        "print(t[2])\n",
        "print(t[3])"
      ]
    },
    {
      "cell_type": "code",
      "execution_count": null,
      "metadata": {},
      "outputs": [
        {
          "ename": "TypeError",
          "evalue": "'tuple' object does not support item assignment",
          "output_type": "error",
          "traceback": [
            "\u001b[31m---------------------------------------------------------------------------\u001b[39m",
            "\u001b[31mTypeError\u001b[39m                                 Traceback (most recent call last)",
            "\u001b[36mCell\u001b[39m\u001b[36m \u001b[39m\u001b[32mIn[51]\u001b[39m\u001b[32m, line 1\u001b[39m\n\u001b[32m----> \u001b[39m\u001b[32m1\u001b[39m \u001b[43mt\u001b[49m\u001b[43m[\u001b[49m\u001b[32;43m0\u001b[39;49m\u001b[43m]\u001b[49m = \u001b[32m8\u001b[39m\n\u001b[32m      2\u001b[39m t \n",
            "\u001b[31mTypeError\u001b[39m: 'tuple' object does not support item assignment"
          ]
        }
      ],
      "source": [
        "# 8.4)\n",
        "t[0] = 8\n",
        "t # Da error porque las tuplas son inmutables"
      ]
    },
    {
      "cell_type": "code",
      "execution_count": 52,
      "metadata": {},
      "outputs": [
        {
          "data": {
            "text/plain": [
              "False"
            ]
          },
          "execution_count": 52,
          "metadata": {},
          "output_type": "execute_result"
        }
      ],
      "source": [
        "# 8.5)\n",
        "(1, 2, 3) == [1, 2, 3]"
      ]
    },
    {
      "cell_type": "code",
      "execution_count": 53,
      "metadata": {},
      "outputs": [
        {
          "name": "stdout",
          "output_type": "stream",
          "text": [
            "hola\n",
            "mundo\n",
            "100\n"
          ]
        }
      ],
      "source": [
        "#8.6)\n",
        "x, y, z = (\"hola\", \"mundo\", 100)\n",
        "print(x)\n",
        "print(y)\n",
        "print(z)"
      ]
    },
    {
      "cell_type": "markdown",
      "metadata": {
        "id": "e5ddPvOF9KdG"
      },
      "source": [
        "## **Ejercicio 9)** Practicando con loops\n",
        "\n",
        "**1)** Implemente un loop usando la instrucción `for` que imprima los números pares desde el 0 hasta el 10.\n",
        "\n",
        "**2)** _Conjetura de Collatz:_ Implemente un loop usando la instrucción `while` calcule la iteración\n",
        "\n",
        "\\begin{equation}\n",
        "n\\_{t+1} = f(n_t)\n",
        "\\end{equation}\n",
        "\n",
        "donde $f(n) = n/2$ si $n$ es par y $f(n)=3n+1$ si $n$ es impar, partiendo de $n_0=10$. El loop debe detenerse cuando se cumple la condición $n_t=1$ para algún $t$. Que observa? Comente. Cuantas iteraciones realiza el loop?\n",
        "\n",
        "**3)** Use `for` para iterar sobre la lista `[\"perro\",\"gato\",\"loro\",\"caballo\",\"llama\"]`, imprimiendo los cada item en cada iteración.\n"
      ]
    },
    {
      "cell_type": "code",
      "execution_count": 55,
      "metadata": {
        "id": "Gd2RahNG5NUT"
      },
      "outputs": [
        {
          "name": "stdout",
          "output_type": "stream",
          "text": [
            "0\n",
            "2\n",
            "4\n",
            "6\n",
            "8\n",
            "10\n"
          ]
        }
      ],
      "source": [
        "# 9.1)\n",
        "for i in range(11):\n",
        "    if i % 2 == 0:\n",
        "        print(i)"
      ]
    },
    {
      "cell_type": "code",
      "execution_count": 57,
      "metadata": {},
      "outputs": [
        {
          "name": "stdout",
          "output_type": "stream",
          "text": [
            "5\n",
            "16\n",
            "8\n",
            "4\n",
            "2\n",
            "1\n"
          ]
        }
      ],
      "source": [
        "#9.2)\n",
        "n_t = 10\n",
        "while n_t != 1:\n",
        "    if n_t % 2 == 0:\n",
        "        n_t = n_t // 2\n",
        "    else:\n",
        "        n_t = 3 * n_t + 1\n",
        "    print(n_t)\n",
        "# El loop realiza 6 iteraciones y siempre termina en 1, siguiendo la conjetura de Collatz\n",
        "         "
      ]
    },
    {
      "cell_type": "code",
      "execution_count": 58,
      "metadata": {},
      "outputs": [
        {
          "name": "stdout",
          "output_type": "stream",
          "text": [
            "perro\n",
            "gato\n",
            "loro\n",
            "caballo\n",
            "llama\n"
          ]
        }
      ],
      "source": [
        "#9.3)\n",
        "animales = [\"perro\",\"gato\",\"loro\",\"caballo\",\"llama\"]\n",
        "for animal in animales:\n",
        "    print(animal)"
      ]
    },
    {
      "cell_type": "markdown",
      "metadata": {
        "id": "2iSXiPew9XOZ"
      },
      "source": [
        "## **Ejercicio 10)** Definiendo y evaluando funciones\n",
        "\n",
        "**1)** Implemente una función llamada `suma` que retorne la sume dos números. Testeela.\n",
        "\n",
        "**2)** Implemente una función llamada `opcional` que adopte dos parámetros de entrada, y que el segundo de ellos sea opcional con un valor por defecto igual a 1. La función debe retornar la resta de ambos números. Testeela.\n",
        "\n",
        "**3)** Implemente una función llamada `fact` que calcule y retorne el factorial de un número `n` si es que `n` es natural o zero. En caso contrario, que imprima el mensaje \"El número n no es un entero no negativo.\" y retorne `None`. Testeela.\n"
      ]
    },
    {
      "cell_type": "code",
      "execution_count": 60,
      "metadata": {
        "id": "IWQiVNIk3i81"
      },
      "outputs": [
        {
          "data": {
            "text/plain": [
              "True"
            ]
          },
          "execution_count": 60,
          "metadata": {},
          "output_type": "execute_result"
        }
      ],
      "source": [
        "# 10.1)\n",
        "def suma(a, b):\n",
        "    return a + b\n",
        "\n",
        "suma(3, 4) == 7"
      ]
    },
    {
      "cell_type": "code",
      "execution_count": 62,
      "metadata": {},
      "outputs": [
        {
          "name": "stdout",
          "output_type": "stream",
          "text": [
            "True\n",
            "True\n"
          ]
        }
      ],
      "source": [
        "#10.2)\n",
        "def opcional(a, b=1):\n",
        "    return a - b\n",
        "\n",
        "print(opcional(5) == 4)\n",
        "print(opcional(5, 2) == 3)"
      ]
    },
    {
      "cell_type": "code",
      "execution_count": 65,
      "metadata": {},
      "outputs": [
        {
          "name": "stdout",
          "output_type": "stream",
          "text": [
            "True\n",
            "True\n",
            "El número -3 no es un entero no negativo\n",
            "True\n"
          ]
        }
      ],
      "source": [
        "#10.3) Si n no es natural o zero dar algun mensaje de error\n",
        "def fact(n):\n",
        "    if n < 0 or not isinstance(n, int):\n",
        "        print(f\"El número {n} no es un entero no negativo\")\n",
        "        return None\n",
        "    elif n == 0:\n",
        "        return 1\n",
        "    else:\n",
        "        resultado = 1\n",
        "        for i in range(1, n + 1):\n",
        "            resultado *= i\n",
        "        return resultado\n",
        "    \n",
        "print(fact(5) == 120)\n",
        "print(fact(0) == 1)\n",
        "print(fact(-3) == None)"
      ]
    },
    {
      "cell_type": "markdown",
      "metadata": {
        "id": "Adc_7Ee29EpE"
      },
      "source": [
        "## **Ejercicio 11)** Practicando con arrays\n",
        "\n",
        "**1)** Inicialize un array de enteros a partir de la lista `[1,2,3]`. Llamelo `b`.\n",
        "\n",
        "**2)** Inicialize un array 2-dimensional a partir de las listas anidadas `[[1,2,3],[4,5,6],[7,8,9]]`. Llamelo `a`.\n",
        "\n",
        "**3)** Acceda a la entrada de la fila $i=1$ y la columna $j=2$ del array `a`.\n",
        "\n",
        "**4)** Inicialice un array de 10 valores 0 en representacón flotante de 64 bits.\n",
        "\n",
        "**5)** Inicialice un array de 10 valores 3.14 en representacón flotante de 32 bits.\n"
      ]
    },
    {
      "cell_type": "code",
      "execution_count": 69,
      "metadata": {
        "id": "FiR0OpNq05pa"
      },
      "outputs": [
        {
          "data": {
            "text/plain": [
              "array([1, 2, 3])"
            ]
          },
          "execution_count": 69,
          "metadata": {},
          "output_type": "execute_result"
        }
      ],
      "source": [
        "# 11.1) Inicialize un array\n",
        "b = np.array([1, 2, 3])\n",
        "b"
      ]
    },
    {
      "cell_type": "code",
      "execution_count": 70,
      "metadata": {},
      "outputs": [
        {
          "data": {
            "text/plain": [
              "array([[1, 2, 3],\n",
              "       [4, 5, 6],\n",
              "       [7, 8, 9]])"
            ]
          },
          "execution_count": 70,
          "metadata": {},
          "output_type": "execute_result"
        }
      ],
      "source": [
        "# 11.2) \n",
        "\n",
        "a = np.array([[1, 2, 3], [4, 5, 6], [7, 8, 9]])\n",
        "a"
      ]
    },
    {
      "cell_type": "code",
      "execution_count": 71,
      "metadata": {},
      "outputs": [
        {
          "data": {
            "text/plain": [
              "np.int64(6)"
            ]
          },
          "execution_count": 71,
          "metadata": {},
          "output_type": "execute_result"
        }
      ],
      "source": [
        "# 11.3)\n",
        "a[1][2]"
      ]
    },
    {
      "cell_type": "code",
      "execution_count": 72,
      "metadata": {},
      "outputs": [
        {
          "data": {
            "text/plain": [
              "array([0., 0., 0., 0., 0., 0., 0., 0., 0., 0.])"
            ]
          },
          "execution_count": 72,
          "metadata": {},
          "output_type": "execute_result"
        }
      ],
      "source": [
        "# 11.4)\n",
        "\n",
        "arr_zeros = np.zeros(10, dtype=np.float64)\n",
        "arr_zeros"
      ]
    },
    {
      "cell_type": "code",
      "execution_count": 73,
      "metadata": {},
      "outputs": [
        {
          "data": {
            "text/plain": [
              "array([3.14, 3.14, 3.14, 3.14, 3.14, 3.14, 3.14, 3.14, 3.14, 3.14],\n",
              "      dtype=float32)"
            ]
          },
          "execution_count": 73,
          "metadata": {},
          "output_type": "execute_result"
        }
      ],
      "source": [
        "# 11.5)\n",
        "arr_pi = np.full(10, 3.14, dtype=np.float32)\n",
        "arr_pi"
      ]
    },
    {
      "cell_type": "markdown",
      "metadata": {
        "id": "bmHmMiAboqzs"
      },
      "source": [
        "## **Ejercicio 12)** Practicando con clases\n",
        "\n",
        "**1)** Defina una clase llamada `MiClase` que posea una variable miembro llamada `nombre`. El inicializador `__init__()` de la clase debe poseer un argumento opcional, que debe usarse para inicializar el valor de la variable miembro `nombre` con el valor por defecto `\"mi clase\"`.\n",
        "\n",
        "**2)** Agregue a la clase la función miembro `__str__()` que retorne el valor de la variable miembro `nombre`.\n",
        "\n",
        "**3)** Cree un objeto de la clase en cuestión y de nombre `mi_objeto`, y testee la función `__str__()` evaluando la expresión `str(mi_objeto)`.\n",
        "\n",
        "**4)** Agregue a la clase la función `__len__()` que retorne el largo de la variable miembro `nombre`. Testee dicha función.\n",
        "\n",
        "**5)** Agregue a la clase una función miembro llamada `cambiar_nombre` que sirva para cambiar el valor de la variable miembro `nombre`. Testee dicha función.\n"
      ]
    },
    {
      "cell_type": "code",
      "execution_count": 74,
      "metadata": {
        "id": "P9PC2JGvqWSU"
      },
      "outputs": [
        {
          "name": "stdout",
          "output_type": "stream",
          "text": [
            "Probando __str__: mi clase\n",
            "Largo del nombre: 8\n",
            "Después de cambiar el nombre: NuevaClase\n",
            "Nuevo largo del nombre: 10\n"
          ]
        }
      ],
      "source": [
        "class MiClase:\n",
        "    def __init__(self, nombre=\"mi clase\"):\n",
        "        self.nombre = nombre\n",
        "\n",
        "    def __str__(self):\n",
        "        return self.nombre\n",
        "\n",
        "    def __len__(self):\n",
        "        return len(self.nombre)\n",
        "\n",
        "    def cambiar_nombre(self, nuevo_nombre):\n",
        "        self.nombre = nuevo_nombre\n",
        "\n",
        "\n",
        "mi_objeto = MiClase()\n",
        "print(\"Probando __str__:\", str(mi_objeto))\n",
        "\n",
        "print(\"Largo del nombre:\", len(mi_objeto))  \n",
        "\n",
        "mi_objeto.cambiar_nombre(\"NuevaClase\")\n",
        "print(\"Después de cambiar el nombre:\", str(mi_objeto))  \n",
        "print(\"Nuevo largo del nombre:\", len(mi_objeto))  \n",
        "\n"
      ]
    },
    {
      "cell_type": "markdown",
      "metadata": {
        "id": "W4HxPu2-9Q68"
      },
      "source": [
        "## **Ejercicio 13)** Graficando\n",
        "\n",
        "**1)** Utilice `np.linspace` para generar un array de 100 valores equidistantes entre 0 y 5. Almacene el array en una variable `valores_x`.\n",
        "\n",
        "**2)** Calcule el array llamado `valores_y1` de valores `np.cos(x)` para cada `x` en `valores_x`.\n",
        "\n",
        "**3)** Calcule el array llamado `valores_y2` de valores `np.sin(x)` para cada `x` en `valores_x`.\n",
        "\n",
        "**4)** Use estos arrays para graficar, con curvas, las funciones $\\cos(x)$ y $\\sin(x)$ en el rango $[0,5]$. Use una línea contínua para el coseno y una punteada para el seno.\n",
        "\n",
        "**5)** Acomode el gráfico: agregue etiquetas a los ejes y a las curvas. Modifique los límites del área graficada para que se vean correctamente las curvas. Agregue un título a la figura.\n"
      ]
    },
    {
      "cell_type": "code",
      "execution_count": null,
      "metadata": {
        "id": "uasToO-NrDJH"
      },
      "outputs": [
        {
          "data": {
            "image/png": "[encoded data removed]",
            "text/plain": [
              "<Figure size 640x480 with 1 Axes>"
            ]
          },
          "metadata": {},
          "output_type": "display_data"
        }
      ],
      "source": [
        "# 13.1)\n",
        "valores_x = np.linspace(0, 5, 100)\n",
        "\n",
        "valores_y1 = np.cos(valores_x)\n",
        "valores_y2 = np.sin(valores_x)\n",
        "\n",
        "plt.plot(valores_x, valores_y1, label='cos(x)')\n",
        "plt.plot(valores_x, valores_y2, label='sin(x)', linestyle='--')\n",
        "plt.xlabel('x')\n",
        "plt.ylabel('y')\n",
        "plt.title('Gráfica de cos(x) y sin(x)')\n",
        "plt.legend()\n",
        "plt.grid()\n",
        "plt.show()"
      ]
    }
  ],
  "metadata": {
    "colab": {
      "provenance": []
    },
    "kernelspec": {
      "display_name": "Python 3",
      "name": "python3"
    },
    "language_info": {
      "codemirror_mode": {
        "name": "ipython",
        "version": 3
      },
      "file_extension": ".py",
      "mimetype": "text/x-python",
      "name": "python",
      "nbconvert_exporter": "python",
      "pygments_lexer": "ipython3",
      "version": "3.12.6"
    }
  },
  "nbformat": 4,
  "nbformat_minor": 0
}
