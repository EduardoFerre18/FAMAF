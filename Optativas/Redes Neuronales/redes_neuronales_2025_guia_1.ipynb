{
  "nbformat": 4,
  "nbformat_minor": 0,
  "metadata": {
    "colab": {
      "provenance": []
    },
    "kernelspec": {
      "name": "python3",
      "display_name": "Python 3"
    },
    "language_info": {
      "name": "python"
    }
  },
  "cells": [
    {
      "cell_type": "markdown",
      "source": [
        "# Familiarizandose con **Google Colab** y **Python**\n",
        "\n",
        "## **Ejercicio 1)** Importando librerías\n",
        "\n",
        "Importe las librerías `numpy` para operar con arrays y `matplotlib.pyplot` para graficar."
      ],
      "metadata": {
        "id": "NRYEofSD0xoF"
      }
    },
    {
      "cell_type": "code",
      "source": [
        "import numpy as np\n",
        "import matplotlib.pyplot as plt"
      ],
      "metadata": {
        "id": "I8N3D_nU1_oT"
      },
      "execution_count": null,
      "outputs": []
    },
    {
      "cell_type": "markdown",
      "source": [
        "## **Ejercicio 2)** Practicando instrucciones básicas\n",
        "\n",
        "**1)** Ingrese un comentario\n",
        "\n",
        "**2)** Implemente una suma, una multiplicación y una división entera.\n",
        "\n",
        "**3)** Repita con números flotantes.\n",
        "\n",
        "**4)** Ingrese un string.\n",
        "\n",
        "**5)** Ingrese un docstring.\n",
        "\n",
        "**6)** Concatene dos strings."
      ],
      "metadata": {
        "id": "NcaGEHAd10sb"
      }
    },
    {
      "cell_type": "code",
      "source": [
        "# 2.1) esto es un comentario"
      ],
      "metadata": {
        "id": "tntEwNvE4SZC"
      },
      "execution_count": null,
      "outputs": []
    },
    {
      "cell_type": "code",
      "source": [
        "# 2.2)\n",
        "1+1"
      ],
      "metadata": {
        "colab": {
          "base_uri": "https://localhost:8080/"
        },
        "id": "zSN2CcQ33N5D",
        "outputId": "6a7811b5-8a44-4199-f91b-c1fad7638836"
      },
      "execution_count": null,
      "outputs": [
        {
          "output_type": "execute_result",
          "data": {
            "text/plain": [
              "2"
            ]
          },
          "metadata": {},
          "execution_count": 3
        }
      ]
    },
    {
      "cell_type": "code",
      "source": [
        "5*-3"
      ],
      "metadata": {
        "colab": {
          "base_uri": "https://localhost:8080/"
        },
        "id": "pJeKZlpABVSx",
        "outputId": "86aa26ac-8e3f-4af7-ee70-594a5d16f057"
      },
      "execution_count": null,
      "outputs": [
        {
          "output_type": "execute_result",
          "data": {
            "text/plain": [
              "-15"
            ]
          },
          "metadata": {},
          "execution_count": 4
        }
      ]
    },
    {
      "cell_type": "code",
      "source": [
        "5//2"
      ],
      "metadata": {
        "colab": {
          "base_uri": "https://localhost:8080/"
        },
        "id": "GdaF501tBYVB",
        "outputId": "1946a59f-3603-4a96-e03c-f2fdda51b17d"
      },
      "execution_count": null,
      "outputs": [
        {
          "output_type": "execute_result",
          "data": {
            "text/plain": [
              "2"
            ]
          },
          "metadata": {},
          "execution_count": 21
        }
      ]
    },
    {
      "cell_type": "code",
      "source": [
        "# 2.3)\n",
        "1.1 + 2.3"
      ],
      "metadata": {
        "colab": {
          "base_uri": "https://localhost:8080/"
        },
        "id": "tL4AygI1BnR8",
        "outputId": "2c64818d-1bf6-40ae-fb46-d5c53481ea6d"
      },
      "execution_count": null,
      "outputs": [
        {
          "output_type": "execute_result",
          "data": {
            "text/plain": [
              "3.4"
            ]
          },
          "metadata": {},
          "execution_count": 24
        }
      ]
    },
    {
      "cell_type": "code",
      "source": [
        "5.66 * 3"
      ],
      "metadata": {
        "colab": {
          "base_uri": "https://localhost:8080/"
        },
        "id": "hbLW6EdeBsLj",
        "outputId": "3ad31acf-0eaa-4e7c-d944-1ef3f84b7afe"
      },
      "execution_count": null,
      "outputs": [
        {
          "output_type": "execute_result",
          "data": {
            "text/plain": [
              "16.98"
            ]
          },
          "metadata": {},
          "execution_count": 26
        }
      ]
    },
    {
      "cell_type": "code",
      "source": [
        "3/2"
      ],
      "metadata": {
        "colab": {
          "base_uri": "https://localhost:8080/"
        },
        "id": "WSa9s055BbLR",
        "outputId": "c64638b0-62f6-4b5d-a61e-cb17e97c486c"
      },
      "execution_count": null,
      "outputs": [
        {
          "output_type": "execute_result",
          "data": {
            "text/plain": [
              "1.5"
            ]
          },
          "metadata": {},
          "execution_count": 1
        }
      ]
    },
    {
      "cell_type": "code",
      "source": [
        "# 2.4)\n",
        "\"hola mundo\""
      ],
      "metadata": {
        "colab": {
          "base_uri": "https://localhost:8080/",
          "height": 35
        },
        "id": "hbIfR7dDBy5d",
        "outputId": "bf65dc9b-7264-41fa-db49-7de42f62e5c8"
      },
      "execution_count": null,
      "outputs": [
        {
          "output_type": "execute_result",
          "data": {
            "text/plain": [
              "'hola mundo'"
            ],
            "application/vnd.google.colaboratory.intrinsic+json": {
              "type": "string"
            }
          },
          "metadata": {},
          "execution_count": 29
        }
      ]
    },
    {
      "cell_type": "code",
      "source": [
        "# 2.5)\n",
        "\"\"\"hola\n",
        "mundo\"\"\""
      ],
      "metadata": {
        "colab": {
          "base_uri": "https://localhost:8080/",
          "height": 35
        },
        "id": "gtmUmNodCIxN",
        "outputId": "5142c393-cc0e-4d78-fe83-18b8ef132cbd"
      },
      "execution_count": null,
      "outputs": [
        {
          "output_type": "execute_result",
          "data": {
            "text/plain": [
              "'hola\\nmundo'"
            ],
            "application/vnd.google.colaboratory.intrinsic+json": {
              "type": "string"
            }
          },
          "metadata": {},
          "execution_count": 8
        }
      ]
    },
    {
      "cell_type": "code",
      "source": [
        "# 2.6)\n",
        "\"abcd\" + \" \" + \"efgh\""
      ],
      "metadata": {
        "colab": {
          "base_uri": "https://localhost:8080/",
          "height": 35
        },
        "id": "EP217LDXCbzI",
        "outputId": "400e20eb-d574-4231-9a7b-cf2ddf95b8bd"
      },
      "execution_count": null,
      "outputs": [
        {
          "output_type": "execute_result",
          "data": {
            "text/plain": [
              "'abcd   efgh'"
            ],
            "application/vnd.google.colaboratory.intrinsic+json": {
              "type": "string"
            }
          },
          "metadata": {},
          "execution_count": 10
        }
      ]
    },
    {
      "cell_type": "markdown",
      "source": [
        "## **Ejercicio 3)** Practicando con variables\n",
        "\n",
        "**1)** Inicialize una variable `x` con el valor `3`\n",
        "\n",
        "**2)** Evalue la variable `x`.\n",
        "\n",
        "**3)** Inicialize otra variable `y` con el valor `4` y evalue la suma de `x` con `y`.\n",
        "\n",
        "**4)** Inicialize otra variable `z` con el resultado de evaluar `x*(2+y)`. Luego, evalúe `z`.\n",
        "\n",
        "**5)** Inicialize una variable `s1` con el string `\"hola\"` y otra `s2` con el string  `\"mundo\"`.\n",
        "\n",
        "**6)** Inicialize otra variable `s` con el resultado de concatenar `s1` con `s2`. Luego, evalùe `s`."
      ],
      "metadata": {
        "id": "z9AlDWS02Xrm"
      }
    },
    {
      "cell_type": "code",
      "source": [
        "# 3.1)\n",
        "\n",
        "x = 3"
      ],
      "metadata": {
        "id": "bGFmi37C59Xg"
      },
      "execution_count": null,
      "outputs": []
    },
    {
      "cell_type": "code",
      "source": [
        "s1 = \"hola\"\n",
        "s2 = \"mundo\"\n",
        "s = s1 + s2\n",
        "s"
      ],
      "metadata": {
        "colab": {
          "base_uri": "https://localhost:8080/",
          "height": 35
        },
        "id": "Oz9CGj4zuLb8",
        "outputId": "6e312307-28e0-4aae-9858-eca34e0eb48f"
      },
      "execution_count": null,
      "outputs": [
        {
          "output_type": "execute_result",
          "data": {
            "text/plain": [
              "'holamundo'"
            ],
            "application/vnd.google.colaboratory.intrinsic+json": {
              "type": "string"
            }
          },
          "metadata": {},
          "execution_count": 19
        }
      ]
    },
    {
      "cell_type": "markdown",
      "source": [
        "## **Ejercicio 4)** Practicando igualdades y desigualdades\n",
        "\n",
        "**1)** Evalúe `1 == 1`.\n",
        "\n",
        "**2)** Evalúe `1 == 2`.\n",
        "\n",
        "**3)** Evalúe `1 != 1`.\n",
        "\n",
        "**4)** Evalúe `1 != 2`.\n",
        "\n",
        "**5)** Evalúe `\"hola\" == \"hola\"`.\n",
        "\n",
        "**6)** Evalúe `\"hola\" != \"hola\"`.\n",
        "\n",
        "**7)** Evalúe `\"hola\" == \"mundo\"`.\n",
        "\n",
        "**8)** Evalúe `\"hola\" != \"mundo\"`.\n",
        "\n",
        "**9)** Evalúe `True == True`.\n",
        "\n",
        "**10)** Evalúe `False == True`.\n",
        "\n",
        "**11)** Evalúe `False != True`.\n",
        "\n",
        "**12)** Evalúe `False == False`.\n",
        "\n",
        "**13)** Evalúe `1 < 2`.\n",
        "\n",
        "**14)** Evalúe `1 > 2`.\n",
        "\n",
        "**15)** Evalúe `1 <= 2`.\n",
        "\n",
        "**16)** Evalúe `1 >= 2`."
      ],
      "metadata": {
        "id": "1q4dmsnN2Z_A"
      }
    },
    {
      "cell_type": "code",
      "source": [
        "# 4.1)"
      ],
      "metadata": {
        "id": "pzU9Y1PB6vxq",
        "colab": {
          "base_uri": "https://localhost:8080/"
        },
        "outputId": "b9dce01b-7274-4cb3-dae0-7e994afcb22a"
      },
      "execution_count": null,
      "outputs": [
        {
          "output_type": "execute_result",
          "data": {
            "text/plain": [
              "True"
            ]
          },
          "metadata": {},
          "execution_count": 31
        }
      ]
    },
    {
      "cell_type": "markdown",
      "source": [
        "## **Ejercicio 5)** Practicando con la función `print`.\n",
        "\n",
        "**1)** Imprima un número.\n",
        "\n",
        "**2)** Imprima un string.\n",
        "\n",
        "**3)** Imprima dos números.\n",
        "\n",
        "**4)** Imprima dos strings.\n",
        "\n",
        "**5)** Imprima dos strings con separador vacío.\n",
        "\n",
        "**6)** Imprima un número y un string."
      ],
      "metadata": {
        "id": "K3Oh_Sne7f-p"
      }
    },
    {
      "cell_type": "code",
      "source": [
        "# 5.1)"
      ],
      "metadata": {
        "id": "JiKAmQxT7sMJ",
        "colab": {
          "base_uri": "https://localhost:8080/"
        },
        "outputId": "89e73ce2-e8da-4a0d-e902-fb668abe5a87"
      },
      "execution_count": null,
      "outputs": [
        {
          "output_type": "stream",
          "name": "stdout",
          "text": [
            "holaunc3.14uncfamaf\n"
          ]
        }
      ]
    },
    {
      "cell_type": "markdown",
      "source": [
        "## **Ejercicio 6)** Practicando con condicionales `if`, `else` y `elif`\n",
        "\n",
        "**1)** Imprime algo el siguiente código?\n",
        "\n",
        "      if 1 == 1:\n",
        "          print(\"hola\")\n",
        "\n",
        "**2)** Y el siguiente código?\n",
        "\n",
        "      if 1 != 1:\n",
        "          print(\"hola\")\n",
        "\n",
        "**3)** Que imprime el siguiente código?\n",
        "\n",
        "      if 1 == 2:\n",
        "          print(\"hola\")\n",
        "      else:\n",
        "          print(\"mundo\")\n",
        "\n",
        "**4)** Que imprime el siguiente código?\n",
        "\n",
        "      if 1 == 2:\n",
        "          print(\"hola\")\n",
        "      elif 1 < 2:\n",
        "          print(\"mundo\")\n",
        "      else:\n",
        "          print(\"argentina\")"
      ],
      "metadata": {
        "id": "B6wbgSO87aAE"
      }
    },
    {
      "cell_type": "code",
      "source": [
        "# 6.1)"
      ],
      "metadata": {
        "id": "G4bYNL7B8Wme",
        "colab": {
          "base_uri": "https://localhost:8080/"
        },
        "outputId": "cd145579-7da5-4c0d-e078-f8cfa7f09e1b"
      },
      "execution_count": null,
      "outputs": [
        {
          "output_type": "stream",
          "name": "stdout",
          "text": [
            "chau\n"
          ]
        }
      ]
    },
    {
      "cell_type": "markdown",
      "source": [
        "## **Ejercicio 7)** Practicando con listas\n",
        "\n",
        "**1)** Cree una lista con las siguientes strings `\"perro\"`, `\"gato\"`, `\"loro\"`, `\"caballo\"` y `\"llama\"`. Guardela en una variable llamada `animales`.\n",
        "\n",
        "**2)** Acceda al 3er elemento de la lista.\n",
        "\n",
        "**3)** Use slicing para acceder a los primeros 3 elementos de la lista.\n",
        "\n",
        "**4)** Use slicing para acceder a los últimos 3 elementos de la lista.\n",
        "\n",
        "**5)** Use slicing para acceder a los 3 elementos de la lista contando desde el segundo.\n",
        "\n",
        "**6)** Use *list comprehension* para generar una lista con los animales que posean una letra `l` en su nombre.\n",
        "\n",
        "**7)** Cree una lista con los números del 1 al 10, asignándola a una variable `a`.\n",
        "\n",
        "**8)** Modifique la entrada `a[5]`, asignandole el nuevo valor `\"hola\"`. Luego, evalúe `a`.\n",
        "\n",
        "**9)** Modifique las entradas `a[2:6]` con los valores de la lista `[\"perro\", \"gato\",\"loro\",\"caballo\"]`. Luego, evalúe `a`."
      ],
      "metadata": {
        "id": "8A3sq4Qm8_4T"
      }
    },
    {
      "cell_type": "code",
      "source": [
        "# 7.1)\n",
        "\n",
        "x = [1000,2000,3000,4000,5000,6000]\n",
        "\n",
        "y = [\"perro\",\"gato\"]\n",
        "\n",
        "x.append(-1000)\n",
        "\n",
        "x"
      ],
      "metadata": {
        "id": "7OX-mL5606x1",
        "colab": {
          "base_uri": "https://localhost:8080/"
        },
        "outputId": "6c336ad3-16c8-4049-d4d1-9716b2eef847"
      },
      "execution_count": null,
      "outputs": [
        {
          "output_type": "execute_result",
          "data": {
            "text/plain": [
              "[1000, 2000, 3000, 4000, 5000, 6000, -1000]"
            ]
          },
          "metadata": {},
          "execution_count": 79
        }
      ]
    },
    {
      "cell_type": "markdown",
      "source": [
        "## **Ejercicio 8)** Practicando con tuplas\n",
        "\n",
        "**1)** Determine si la tupla `(1,2,3)` es igual a si misma.\n",
        "\n",
        "**2)** Determine si la tupla `(1,2,3)` es igual a la tupla `(1,2,3,4)`.\n",
        "\n",
        "**3)** Inicialize una variable `t` con una tupla `(1,2,3)`. Luego, evalúe `t[0]`, `t[1]`, `t[2]` y `t[3]`.\n",
        "\n",
        "**4)** Intente modificar el valor de `t[0]`.\n",
        "\n",
        "**5)** Determine si la tupla `(1,2,3)` es igual a la lista `[1,2,3]`.\n",
        "\n",
        "**6)** Inicialize las variables `x`, `y` y `z` asignando la tupla `\"hola\",\"mundo\",100`. Evalúe `x`, `y` y `z`."
      ],
      "metadata": {
        "id": "0y2VKhA2oijd"
      }
    },
    {
      "cell_type": "code",
      "source": [
        "# 8.1)\n",
        "\n",
        "(1,2) * (3,4)"
      ],
      "metadata": {
        "id": "smLKfDhZLUBJ",
        "colab": {
          "base_uri": "https://localhost:8080/",
          "height": 176
        },
        "outputId": "64667630-2375-4002-a94b-c907a33a0ecf"
      },
      "execution_count": null,
      "outputs": [
        {
          "output_type": "error",
          "ename": "TypeError",
          "evalue": "can't multiply sequence by non-int of type 'tuple'",
          "traceback": [
            "\u001b[0;31m---------------------------------------------------------------------------\u001b[0m",
            "\u001b[0;31mTypeError\u001b[0m                                 Traceback (most recent call last)",
            "\u001b[0;32m<ipython-input-77-3380319e3866>\u001b[0m in \u001b[0;36m<cell line: 3>\u001b[0;34m()\u001b[0m\n\u001b[1;32m      1\u001b[0m \u001b[0;31m# 8.1)\u001b[0m\u001b[0;34m\u001b[0m\u001b[0;34m\u001b[0m\u001b[0m\n\u001b[1;32m      2\u001b[0m \u001b[0;34m\u001b[0m\u001b[0m\n\u001b[0;32m----> 3\u001b[0;31m \u001b[0;34m(\u001b[0m\u001b[0;36m1\u001b[0m\u001b[0;34m,\u001b[0m\u001b[0;36m2\u001b[0m\u001b[0;34m)\u001b[0m \u001b[0;34m*\u001b[0m \u001b[0;34m(\u001b[0m\u001b[0;36m3\u001b[0m\u001b[0;34m,\u001b[0m\u001b[0;36m4\u001b[0m\u001b[0;34m)\u001b[0m\u001b[0;34m\u001b[0m\u001b[0;34m\u001b[0m\u001b[0m\n\u001b[0m",
            "\u001b[0;31mTypeError\u001b[0m: can't multiply sequence by non-int of type 'tuple'"
          ]
        }
      ]
    },
    {
      "cell_type": "markdown",
      "source": [
        "## **Ejercicio 9)** Practicando con loops\n",
        "\n",
        "**1)** Implemente un loop usando la instrucción `for` que imprima los números pares desde el 0 hasta el 10.\n",
        "\n",
        "**2)** *Conjetura de Collatz:* Implemente un loop usando la instrucción `while` calcule la iteración\n",
        "\n",
        "\\begin{equation}\n",
        "n_{t+1} = f(n_t)\n",
        "\\end{equation}\n",
        "\n",
        "donde $f(n) = n/2$ si $n$ es par y $f(n)=3n+1$ si $n$ es impar, partiendo de $n_0=10$. El loop debe detenerse cuando se cumple la condición $n_t=1$ para algún $t$. Que observa? Comente. Cuantas iteraciones realiza el loop?\n",
        "\n",
        "**3)** Use `for` para iterar sobre la lista `[\"perro\",\"gato\",\"loro\",\"caballo\",\"llama\"]`, imprimiendo los cada item en cada iteración."
      ],
      "metadata": {
        "id": "e5ddPvOF9KdG"
      }
    },
    {
      "cell_type": "code",
      "source": [
        "# 9.1)"
      ],
      "metadata": {
        "id": "Gd2RahNG5NUT"
      },
      "execution_count": null,
      "outputs": []
    },
    {
      "cell_type": "markdown",
      "source": [
        "## **Ejercicio 10)** Definiendo y evaluando funciones\n",
        "\n",
        "**1)** Implemente una función llamada `suma` que retorne la sume dos números. Testeela.\n",
        "\n",
        "**2)** Implemente una función llamada `opcional` que adopte dos parámetros de entrada, y que el segundo de ellos sea opcional con un valor por defecto igual a 1. La función debe retornar la resta de ambos números. Testeela.\n",
        "\n",
        "**3)** Implemente una función llamada `fact` que calcule y retorne el factorial de un número `n` si es que `n` es natural o zero. En caso contrario, que imprima el mensaje \"El número n no es un entero no negativo.\" y retorne `None`. Testeela."
      ],
      "metadata": {
        "id": "2iSXiPew9XOZ"
      }
    },
    {
      "cell_type": "code",
      "source": [
        "# 10.1)"
      ],
      "metadata": {
        "id": "IWQiVNIk3i81"
      },
      "execution_count": null,
      "outputs": []
    },
    {
      "cell_type": "markdown",
      "source": [
        "## **Ejercicio 11)** Practicando con arrays\n",
        "\n",
        "**1)** Inicialize un array de enteros a partir de la lista `[1,2,3]`. Llamelo `b`.\n",
        "\n",
        "**2)** Inicialize un array 2-dimensional a partir de las listas anidadas `[[1,2,3],[4,5,6],[7,8,9]]`. Llamelo `a`.\n",
        "\n",
        "**3)** Acceda a la entrada de la fila $i=1$ y la columna $j=2$ del array `a`.\n",
        "\n",
        "**4)** Inicialice un array de 10 valores 0 en representacón flotante de 64 bits.\n",
        "\n",
        "**5)** Inicialice un array de 10 valores 3.14 en representacón flotante de 32 bits."
      ],
      "metadata": {
        "id": "Adc_7Ee29EpE"
      }
    },
    {
      "cell_type": "code",
      "source": [
        "# 11.1)"
      ],
      "metadata": {
        "id": "FiR0OpNq05pa"
      },
      "execution_count": null,
      "outputs": []
    },
    {
      "cell_type": "markdown",
      "source": [
        "## **Ejercicio 12)** Practicando con clases\n",
        "\n",
        "**1)** Defina una clase llamada `MiClase` que posea una variable miembro llamada `nombre`. El inicializador `__init__()` de la clase debe poseer un argumento opcional, que debe usarse para inicializar el valor de la variable miembro `nombre` con el valor por defecto `\"mi clase\"`.\n",
        "\n",
        "**2)** Agregue a la clase la función miembro `__str__()` que retorne el valor de la variable miembro `nombre`.\n",
        "\n",
        "**3)** Cree un objeto de la clase en cuestión y de nombre `mi_objeto`, y testee la función `__str__()` evaluando la expresión `str(mi_objeto)`.\n",
        "\n",
        "**4)** Agregue a la clase la función `__len__()` que retorne el largo de la variable miembro `nombre`. Testee dicha función.\n",
        "\n",
        "**5)** Agregue a la clase una función miembro llamada `cambiar_nombre` que sirva para cambiar el valor de la variable miembro `nombre`. Testee dicha función."
      ],
      "metadata": {
        "id": "bmHmMiAboqzs"
      }
    },
    {
      "cell_type": "code",
      "source": [
        "# 11.1)"
      ],
      "metadata": {
        "id": "P9PC2JGvqWSU"
      },
      "execution_count": null,
      "outputs": []
    },
    {
      "cell_type": "markdown",
      "source": [
        "## **Ejercicio 13)** Graficando\n",
        "\n",
        "**1)** Utilice `np.linspace` para generar un array de 100 valores equidistantes entre 0 y 5. Almacene el array en una variable `valores_x`.\n",
        "\n",
        "**2)** Calcule el array llamado `valores_y1` de valores `np.cos(x)` para cada `x` en `valores_x`.\n",
        "\n",
        "**3)** Calcule el array llamado `valores_y2` de valores `np.sin(x)` para cada `x` en `valores_x`.\n",
        "\n",
        "**4)** Use estos arrays para graficar, con curvas, las funciones $\\cos(x)$ y $\\sin(x)$ en el rango $[0,5]$. Use una línea contínua para el coseno y una punteada para el seno.\n",
        "\n",
        "**5)** Acomode el gráfico: agregue etiquetas a los ejes y a las curvas. Modifique los límites del área graficada para que se vean correctamente las curvas. Agregue un título a la figura."
      ],
      "metadata": {
        "id": "W4HxPu2-9Q68"
      }
    },
    {
      "cell_type": "code",
      "source": [
        "# 13.1)"
      ],
      "metadata": {
        "id": "uasToO-NrDJH"
      },
      "execution_count": null,
      "outputs": []
    }
  ]
}