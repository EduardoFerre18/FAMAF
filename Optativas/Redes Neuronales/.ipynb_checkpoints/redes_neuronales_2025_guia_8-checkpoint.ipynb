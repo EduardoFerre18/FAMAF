{
  "nbformat": 4,
  "nbformat_minor": 0,
  "metadata": {
    "colab": {
      "provenance": []
    },
    "kernelspec": {
      "name": "python3",
      "display_name": "Python 3"
    },
    "language_info": {
      "name": "python"
    }
  },
  "cells": [
    {
      "cell_type": "markdown",
      "source": [
        "# Modelo de **Hodgkin & Huxley**\n",
        "\n",
        "Referencias:\n",
        "\n",
        "1. https://en.wikipedia.org/wiki/Hodgkin%E2%80%93Huxley_model\n",
        "2. Eugene M. Izhikevich, Dynamical Systems in Neuroscience: The Geometry of Excitability and Bursting, Computational Neuroscience, The MIT Press (2006)\n",
        "3. https://colab.research.google.com/github/kmkarakaya/ML_tutorials/blob/master/How_to_upload_an_image_to_Colab_.ipynb#scrollTo=KKTpNAGCWLeB\n",
        "\n",
        "## **Ejercicio 1)** Importando librerías\n",
        "\n",
        "**a)** Importe las librerías `numpy` para operar con arrays, `scipy` para utilizar rutinas de algebra lineal y `matplotlib.pyplot` para graficar.\n",
        "\n",
        "**b)** Suba el archivo \"libreria\" `ode.py` que fabricó en el práctico 4), e impórtelo."
      ],
      "metadata": {
        "id": "NRYEofSD0xoF"
      }
    },
    {
      "cell_type": "code",
      "source": [
        "# 1.a)\n",
        "import numpy as np\n",
        "import scipy as sp\n",
        "import scipy.linalg as linalg\n",
        "import matplotlib.pyplot as plt"
      ],
      "metadata": {
        "id": "I8N3D_nU1_oT"
      },
      "execution_count": null,
      "outputs": []
    },
    {
      "cell_type": "code",
      "source": [
        "# 1.b)\n",
        "# https://stackoverflow.com/questions/48905127/importing-py-files-in-google-colab\n",
        "#import ode\n",
        "\n",
        "def euler(f,x,t,h,p):\n",
        "    \"\"\"\n",
        "    Calcula un paso de integración del método de Euler.\n",
        "\n",
        "    Argumentos de entrada:\n",
        "\n",
        "        f : R^n,R -> R^n\n",
        "        x = x(t) : R^n\n",
        "        t = tiempo : R\n",
        "        h = paso de tiempo : R\n",
        "        p = parametros : R^q\n",
        "\n",
        "    Retorna aproximacion numérica de\n",
        "\n",
        "        x(t+h) : R^n\n",
        "\n",
        "    según el método de Euler.\n",
        "\n",
        "    # Ejemplos:\n",
        "    \"\"\"\n",
        "    return x+h*f(x,t,p)\n",
        "\n",
        "def rk4(f,x,t,h,p):\n",
        "    \"\"\"\n",
        "    Calcula un paso de integración del método de Runge Kutta orden 4.\n",
        "\n",
        "    Argumentos de entrada:\n",
        "\n",
        "        f : R^n -> R^n\n",
        "        x = x(t) : R^n\n",
        "        t = tiempo : R\n",
        "        h = paso de tiempo : R\n",
        "        p = parametros : R^q\n",
        "\n",
        "    Retorna aproximacion numérica de\n",
        "\n",
        "        x(t+h) : R^n\n",
        "\n",
        "    según el método de Runge-Kutta de orden 4.\n",
        "\n",
        "    # Ejemplos:\n",
        "    \"\"\"\n",
        "    k1 = f(x,t,p)\n",
        "    k2 = f(x+0.5*h*k1,t+0.5*h,p)\n",
        "    k3 = f(x+0.5*h*k2,t+0.5*h,p)\n",
        "    k4 = f(x+h*k3,t+h,p)\n",
        "    return x+h*(k1+2.0*k2+2.0*k3+k4)/6.0\n",
        "\n",
        "def integrador_ode(m,f,xa,a,b,k,p,c=lambda x,t,p:x):\n",
        "    \"\"\"\n",
        "    Integra numéricamente la ODE\n",
        "\n",
        "        dx/dt = f(x,t)\n",
        "\n",
        "    sobre el intervalo t:[a,b] usando k pasos de integración y el método m, bajo condicion inicial x(a)=x0.\n",
        "    No es necesario que a<b.\n",
        "\n",
        "    Argumentos de entrada:\n",
        "\n",
        "        m = metodo de integracion (ej. euler, rk2, etc.)\n",
        "        f : R^n -> R^n\n",
        "        xa = condicion inicial : R\n",
        "        a = tiempo inicial : R\n",
        "        b = tiempo final : R\n",
        "        k = num. pasos de integracion : N\n",
        "        p = parametros : R^q\n",
        "        c = función condicionante : R^n,R,p -> R^n\n",
        "\n",
        "    Retorna:\n",
        "\n",
        "        t : R^{k+1} , t_j = a+j*h para j=0,1,...,k\n",
        "        w : R^{n,k+1} , w_ij = x_i(t_j) para i=0,1,...,n-1 y j=0,1,...,k\n",
        "\n",
        "    donde a+k*dt = b.\n",
        "    \"\"\"\n",
        "    assert k>0\n",
        "    n = len(xa)\n",
        "    h = (b-a)/k\n",
        "    w = np.zeros((n,k+1)) # Produce un array con forma y tipo especificada con los parametros,\n",
        "                          # lleno de ceros. la forma puede ser espcificada con un entero o tupla (n,k+1)\n",
        "    t = np.zeros(k+1)\n",
        "    w[:,0] = xa           # actualiza la posicion inicial (columna de indice 0) de las variables con los valores\n",
        "                          # de las condiciones iniciales\n",
        "    t[0] = a              # actualiza la posicion cero con el valor del tiempo inicial\n",
        "\n",
        "    for j in range(k):    #Aca se produce la iteración en j\n",
        "\n",
        "        t[j+1] = t[j] + h                # iteracion tiempo\n",
        "        w[:,j+1] = m(f,w[:,j],t[j],h,p)  # iteracion de w\n",
        "        w[:,j+1] = c(w[:,j+1],t[j+1],p)  # condicion sobre w\n",
        "\n",
        "    return t,w"
      ],
      "metadata": {
        "id": "2Y9mj_YtDIwn"
      },
      "execution_count": null,
      "outputs": []
    },
    {
      "cell_type": "markdown",
      "source": [
        "## **Ejercicio 2)** Modelo de Hodgkin y Huxley\n",
        "\n",
        "## Teoría\n",
        "\n",
        "### Las neuronas son capacitores\n",
        "\n",
        "Según el modelo de Hodgkin y Huxley, a primera vista las neuronas funcionan como capacitores evidenciando una diferencia de potencial eléctrico entre el exterior y el interior debido a las diferentes concentraciones de cargas iónicas que pueden existir entre estas dos regiones.\n",
        "En el esquema, se utilizan agujas muy finas para inyectar una corriente iónica $i$ al interior de una neurona sumergida en una solución salina conductora.\n",
        "\n",
        "<img src=\"https://github.com/jipphysics/redes-neuronales-2022/blob/master/practicos/assets/esquema1.png?raw=true:, width=100\" alt=\"My Image\" width=300>\n",
        "\n",
        "Recordemos que un capacitor sujeto a una diferencia de potencial $v:=v_A-v_B$ adquiere una carga $q=cv$.\n",
        "La carga crece según $\\dot{q}=i$, donde $i$ denota la corriente de carga eléctrica que va desde el exterior hacia el interior.\n",
        "\n",
        "<img src=\"https://github.com/jipphysics/redes-neuronales-2022/blob/master/practicos/assets/circuito1.png?raw=true:, width=100\" alt=\"My Image\" width=500>\n",
        "\n",
        "### Las neuronas son capacitores con fugas\n",
        "\n",
        "Si miramos un poco más en detalle, veremos que la membrana de las neuronas tienen canales por donde pueden circular iones.\n",
        "Podemos pensar a los canales como agujeritos en la membrana por donde la carga se fuga.\n",
        "En otras palabras, podemos pensar a los canales como a una resistencia conectada en paralelo al capacitor.\n",
        "\n",
        "<img src=\"https://github.com/jipphysics/redes-neuronales-2022/blob/master/practicos/assets/circuito2.png?raw=true:, width=100\" alt=\"My Image\" width=500>\n",
        "\n",
        "La corriente $i_g=g(v_A-v_B)=gv$, donde $i_g$ denota una corriente que va desde el interior hacia el exterior.\n",
        "\n",
        "### Las neuronas son baterias\n",
        "\n",
        "Los canales pueden ser selectivos.\n",
        "Por ejemplo, algunos canales sólo dejan pasar los iones $\\mathrm{K}^+$.\n",
        "Por ende, si inyectamos al interior de la neurona una mezcla de iones $\\mathrm{K}^+$ y $\\mathrm{Cl}^-$, de manera que la carga total se encuentre equilibrada, los iónes $\\mathrm{K}^+$ comenzarán a difundir desde el interior hacia el exterior a travéz de los canales selectivos, mientras que los de $\\mathrm{Cl}^-$ se quedarán en el interior, provocando un excedente de cargas negativas en el interior que crecen en el tiempo hasta que la diferencia de potencial emergente frena la corriente de iónes $\\mathrm{K}^+$.\n",
        "\n",
        "<img src=\"https://github.com/jipphysics/redes-neuronales-2022/blob/master/practicos/assets/baterias.png?raw=true:, width=100\" alt=\"My Image\" width=500>\n",
        "\n",
        "Este potencial se llama potencial de Nernst o de reversión y se lo incorpora al circuito que modela la neurona como una batería conectada en serie a la resistencia asociada a cada canal\n",
        "\n",
        "<img src=\"https://github.com/jipphysics/redes-neuronales-2022/blob/master/practicos/assets/circuito3.png?raw=true:, width=100\" alt=\"My Image\" width=500>\n",
        "\n",
        "Ahora, la corriente es $i_g=g(v_A-v_C)=g(v_A-(v_B+e_g))=g(v_A-v_B-e_g)=g(v-e_g)=:g(v-v_g)$, donde en la última iguadad reconocemos la definición del potencial de Nernst $v_g$.\n",
        "\n",
        "Si la batería se encuentra en sentido inverso\n",
        "\n",
        "<img src=\"https://github.com/jipphysics/redes-neuronales-2022/blob/master/practicos/assets/circuito4.png?raw=true:, width=100\" alt=\"My Image\" width=500>\n",
        "\n",
        "entonces $i_g=g(v_A-v_C)=g(v_A-(v_B-e_g))=g(v_A-v_B+e_g)=g(v+e_g)=:g(v-v_g)$, por lo que el potencial de Nernst resulta negativo, $v_g=-e_g$.\n",
        "\n",
        "### Algunos canales forman reóstatos (resistencias de conductancia variable)\n",
        "\n",
        "Algunos canales tienen compuertas que se abren o cierran, permitiendo o impidiendo el paso de iones, respectivamente.\n",
        "\n",
        "<img src=\"https://github.com/jipphysics/redes-neuronales-2022/blob/master/practicos/assets/compuertas.png?raw=true:, width=100\" alt=\"My Image\" width=500>\n",
        "\n",
        "La conductividad asociada a estos canales, depende de la fracción de compuertas abiertas en cada tipo de canal.\n",
        "Según el modelo, la conductancia total asociada a los canales de $\\mathrm{Na}$ se aproxima por\n",
        "\n",
        "$$g_{\\mathrm{Na}} = \\bar{g}_{\\mathrm{Na}}p_{\\mathrm{Na}}$$\n",
        "\n",
        "donde $\\bar{g}_{\\mathrm{Na}}$ es la conductancia de $\\mathrm{Na}$ máxima posible y\n",
        "\n",
        "$$p_{\\mathrm{Na}} = m^3h$$\n",
        "\n",
        "es la fracción de canales de $\\mathrm{Na}$ abiertos.\n",
        "Aquí $m$ y $h$ son la fracciones de compuertas abiertas de activación e inactivación, respectivamente.\n",
        "Los canales de $\\mathrm{Na}$ poseen 3 compuertas de activación y 1 de inactivación, por lo que $m$ tiene un exponente 3 y $h$ un exponente 1.\n",
        "\n",
        "De manera similar, la conductancia asociada a los canales de $\\mathrm{K}$ se aproxima por\n",
        "\n",
        "$$g_{\\mathrm{K}} = \\bar{g}_{\\mathrm{K}}p_{\\mathrm{K}}$$\n",
        "\n",
        "donde $\\bar{g}_{\\mathrm{K}}$ es la conductancia de $\\mathrm{K}$ máxima posible,\n",
        "\n",
        "$$p_{\\mathrm{K}} = n^4$$\n",
        "\n",
        "es la fracción de canales de $\\mathrm{K}$ abiertos y $n$ es la fracción de compuertas abiertas en este tipo de canales.\n",
        "Cada canal de $\\mathrm{K}$ posee 4 compuertas de tipo $n$, de ahí el exponente 4.\n",
        "\n",
        "Estas aproximaciones asumen que las compuertas abren o cierran de manera independiente, dependiendo de la diferencia de potencial de membrana existente $v$.\n",
        "Más precisamente, las fracciones de compuertas abiertas de cada tipo satisfacen\n",
        "\n",
        "\\begin{eqnarray}\n",
        "\\dot{n}&=&\\alpha_n(v)(1-n)-\\beta_n(v) n\\\\\n",
        "\\dot{m}&=&\\alpha_m(v)(1-m)-\\beta_m(v) m\\\\\n",
        "\\dot{h}&=&\\alpha_h(v)(1-h)-\\beta_h(v) h\n",
        "\\end{eqnarray}\n",
        "\n",
        "donde\n",
        "\n",
        "\\begin{eqnarray}\n",
        "\\alpha_h(v)&=&\\frac{0.07}{ms}\\,\\exp\\bigg(-\\frac{v}{20\\,mV}\\bigg)\\\\\n",
        "\\alpha_m(v)&=&\\frac{0.1}{ms\\,mV}\\frac{25\\,mV-v}{\\exp\\big(\\frac{25\\,mV-v}{10\\,mV}\\big)-1}\\\\\n",
        "\\alpha_n(v)&=&\\frac{0.01}{ms\\,mV}\\frac{10\\,mV-v}{\\exp\\big(\\frac{10\\,mV-v}{10\\,mV}\\big)-1}\\\\\n",
        "\\end{eqnarray}\n",
        "\n",
        "representan las tasas a las cuales las compuertas cerradas de cada tipo abren y\n",
        "\n",
        "\\begin{eqnarray}\n",
        "\\beta_h(v)&=&\\frac{1}{ms}\\frac{1}{\\exp\\big(\\frac{30\\,mV-v}{10\\,mV}\\big)+1}\\\\\n",
        "\\beta_m(v)&=&\\frac{4}{ms}\\exp\\bigg(-\\frac{v}{18\\,mV}\\bigg)\\\\\n",
        "\\beta_n(v)&=&\\frac{0.125}{ms}\\exp\\bigg(-\\frac{v}{80\\,mV}\\bigg)\n",
        "\\end{eqnarray}\n",
        "\n",
        "representan las tasas a las cuales las compuertas abiertas de cada tipo cierran, respectivamente.\n",
        "\n",
        "En resumen, al modelo de neurona de Hodgkin y Huxley se lo puede representar por el circuito\n",
        "\n",
        "<img src=\"https://github.com/jipphysics/redes-neuronales-2022/blob/master/practicos/assets/circuito5.png?raw=true:, width=100\" alt=\"My Image\" width=500>\n",
        "\n",
        "en donde reconocemos la existencia de 3 canales iónicos: uno de pérdida (leak) de conductancia constante $g_l$, potencial de Nernst $v_l=e_l$ y por el que fluye una corriente $i_l$, uno de $\\mathrm{Na}$ de conductancia variable $g_{\\mathrm{Na}}$, potencial de Nernst $v_{\\mathrm{Na}}=e_{\\mathrm{Na}}$ y por el que fluye una corriente $i_{\\mathrm{Na}}$, y uno de $\\mathrm{K}$ de conductancia $g_{\\mathrm{K}}$, potencial de Nernst $v_{\\mathrm{K}}=-e_{\\mathrm{K}}$ y por el que fluye una corriente $i_{\\mathrm{K}}$.\n",
        "\n",
        "Aplicando la ley de Kirchoff para corrientes, vemos que\n",
        "\n",
        "$$i=i_{\\mathrm{Na}}+i_{\\mathrm{K}}+i_l+i_c$$\n",
        "\n",
        "Es decir, la corriente $i$ inyectada al interior de la neurona se divide en dos partes.\n",
        "Por un lado, en la corriente $i_m=i_{\\mathrm{Na}}+i_{\\mathrm{K}}+i_l$ que fluye a travéz de los canales en la membrana,\n",
        "y por otro lado, en la corriente $i_c$ que carga el capacitor.\n",
        "\n",
        "Remplazando, obtenemos una ODE para el potencial de membrana\n",
        "\n",
        "\\begin{eqnarray}\n",
        "i_c&=&i-i_{\\mathrm{Na}}+i_{\\mathrm{K}}+i_l\\\\\n",
        "c\\dot{v}&=&i-g_{\\mathrm{Na}}(v-v_{\\mathrm{Na}})-g_{\\mathrm{K}}(v-v_{\\mathrm{K}})-g_{l}(v-v_{l})\\\\\n",
        "\\dot{v}&=&c^{-1}(i-\\bar{g}_{\\mathrm{Na}}m^3h(v-v_{\\mathrm{Na}})-\\bar{g}_{\\mathrm{K}}n^4(v-v_{\\mathrm{K}})-g_{l}(v-v_{l}))\n",
        "\\end{eqnarray}\n",
        "\n",
        "La última línea de la anterior ecuación, junto con las ODEs anteriormente mencionadas para $n$, $m$ y $h$, determinan el sistema de ODEs del modelo de Hodgkin y Huxley.\n",
        "\n",
        "### Comportamiento cualitativo\n",
        "\n",
        "Durante el proceso de disparo, diferentes compuertas se abren y cierran a diferentes tiempos.\n",
        "El siguiente esquema resume el proceso en 4 etapas\n",
        "\n",
        "<img src=\"https://github.com/jipphysics/redes-neuronales-2022/blob/master/practicos/assets/channels.png?raw=true:, width=100\" alt=\"My Image\" width=300>\n",
        "\n",
        "Estimaciones de los tiempos carácterísticos y valores de equilibrio del comportamiento de las compuertas observado en las diferentes etapas se pueden obtener de reescribir las ODEs para $n$, $m$ y $h$ de la forma\n",
        "\n",
        "\\begin{eqnarray}\n",
        "\\dot{n}&=&\\tau_n^{-1}(v)(n_{\\infty}(v)-n)\\\\\n",
        "\\dot{m}&=&\\tau_m^{-1}(v)(m_{\\infty}(v)-m)\\\\\n",
        "\\dot{h}&=&\\tau_h^{-1}(v)(h_{\\infty}(v)-h)\n",
        "\\end{eqnarray}\n",
        "\n",
        "donde\n",
        "\n",
        "\\begin{eqnarray}\n",
        "\\tau_n(v)&=&(\\alpha_n(v)+\\beta_n(v))^{-1}\\\\\n",
        "\\tau_m(v)&=&(\\alpha_m(v)+\\beta_m(v))^{-1}\\\\\n",
        "\\tau_h(v)&=&(\\alpha_h(v)+\\beta_h(v))^{-1}\n",
        "\\end{eqnarray}\n",
        "\n",
        "y\n",
        "\n",
        "\\begin{eqnarray}\n",
        "n_{\\infty}(v)&=&\\tau_n(v)\\alpha_n(v)\\\\\n",
        "m_{\\infty}(v)&=&\\tau_m(v)\\alpha_m(v)\\\\\n",
        "h_{\\infty}(v)&=&\\tau_h(v)\\alpha_h(v)\n",
        "\\end{eqnarray}\n",
        "\n",
        "Finalmente, listamos los valores de los parámetros del modelo (ver libro de Izhikevich)\n",
        "\n",
        "* $c=1\\,\\mu F/cm^2$ : capacitancia de membrana\n",
        "* $\\bar{g}_{\\mathrm{Na}}=120\\,mS/cm^2$ : conductancia máxima de $\\mathrm{Na}$\n",
        "* $\\bar{g}_{\\mathrm{K}}=36\\,mS/cm^2$ : conductancia máxima de $\\mathrm{K}$\n",
        "* $g_l=0.3\\,mS/cm^2$ : conductancia máxima de perdida\n",
        "* $v_{\\mathrm{Na}}=120\\,mV$ : potencial de reversión de la corriente de $\\mathrm{Na}$\n",
        "* $v_{\\mathrm{K}}=-12\\,mV$ : potencial de reversión de la corriente de $\\mathrm{K}$\n",
        "* $v_l=10.6\\,mV$ : potencial de reversión de la corriente de perdida\n",
        "* $i(t)\\sim 10\\,\\mu A/cm^2$ : corriente de entrada al tiempo $t$\n",
        "* $t \\sim 5\\,ms$ : tiempo\n",
        "\n",
        "Aclaración, los valores de los potenciales de Nernst se toman en referencia al potencial de equilibrio definido en $v\\approx 0\\, mV$."
      ],
      "metadata": {
        "id": "NcaGEHAd10sb"
      }
    },
    {
      "cell_type": "markdown",
      "source": [
        "## Ejercicio 2) implementación\n",
        "\n",
        "**1)** Usando la sección de teoría y las referencias, implemente el modelo de Hodgkin y Huxley el integrador numérico de ODEs tipo Runge-Kutta de orden 4 del práctico 4.\n",
        "\n",
        "**2)** Grafique los valores de equilibrio de las distintas fracciones de canales activados $n_{\\infty}$, $m_{\\infty}$ e inactivados $h_{\\infty}$, en función de la diferencia de potencial de membrana $v$.\n",
        "\n",
        "**3)** Grafique los tiempos característicos de activación $\\tau_m$, $\\tau_n$ e inactivación $\\tau_h$ asociados a los distintos tipos de canales, en función de la diferencia de potencial de membrana $v$."
      ],
      "metadata": {
        "id": "TEnj0gxwNg6K"
      }
    },
    {
      "cell_type": "code",
      "source": [
        "# 2.1)"
      ],
      "metadata": {
        "id": "xPB7R5xEbQRk"
      },
      "execution_count": null,
      "outputs": []
    },
    {
      "cell_type": "markdown",
      "source": [
        "## Ejercicio 3) valores de equilibrio\n",
        "\n",
        "**1)** Integre el sistema de ODEs del modelo de Hodgkin y Huxley sujeto a una corriente total $i(t)=0$ para todo $t$. Use la condición inicial $v_0=0mV$, $n_0=m_0=h_0=0$ y $t_0=0ms$. Integre hasta el tiempo final $t_f=500ms$ usando un paso temporal $dt=0.01ms$.\n",
        "\n",
        "**2)** Grafique el potencial de membrana en función del tiempo, i.e. grafique $v(t)$ vs $t$ en el rango calculado.\n",
        "\n",
        "**3)** Grafique las diferentes corrientes de iones cruzando la membrana en función del tiempo, i.e. grafique  la corriente de iones de sodio $i_{Na}(t)$, la corriente de iones de potasio $i_K(t)$ y la corriente de pérdida $i_l(t)$ vs $t$ en el rango calculado.\n",
        "\n",
        "**4)** Grafique las fracción de canales activados e inactivados de cada tipo en función del tiempo, i.e. grafique $n(t)$ (fracción de canales de potasio $K$ activos), $m(t)$ (fracción de canales de sodio $Na$ activos) y $h(t)$ (fracción de canales de sodio $Na$ inactivos) vs $t$ en el rango calculado.\n",
        "\n",
        "**4)** Almacene los valores de equilibrio a corriente nula de las variables dinámicas usando los valores de las mismas obtenidos a tiempos largos. Es decir, almacene los valores $v^* \\approx v(t_f)$, $n^* \\approx n(t_f)$, $m^* \\approx m(t_f)$ y $h^* \\approx h(t_f)$, para ser utilizado como condiciones iniciales en futuras integraciones de las ODEs del modelo de Hodgkin y Huxley."
      ],
      "metadata": {
        "id": "LqiJPH-oQDFG"
      }
    },
    {
      "cell_type": "code",
      "source": [
        "# 3.1)"
      ],
      "metadata": {
        "id": "-LRw96RYPvmJ"
      },
      "execution_count": null,
      "outputs": []
    },
    {
      "cell_type": "markdown",
      "source": [
        "## Ejercicio 4) estímulo débil y estímulo fuerte\n",
        "\n",
        "**1)** Implemente una función de corriente de entrada o membrana dada por:\n",
        "\n",
        "$$\n",
        "i(t) = \\left\\{\n",
        "\\begin{array}{ll}\n",
        "10 \\mu A/cm^2, & t\\in [2ms,2.5ms] \\\\\n",
        "30 \\mu A/cm^2, & t\\in [10ms,10.5ms] \\\\\n",
        "0 \\mu A/cm^2, & c.c. \\\\\n",
        "\\end{array}\n",
        "\\right.\n",
        "$$\n",
        "\n",
        "Aquí, $c.c.$ indica *en caso contrario*. Esta corriente representa un estímulo débil seguido de uno fuerte. Grafíque la corriente $i(t)$ vs $t$ en el rango $t\\in[0ms,20ms]$.\n",
        "\n",
        "**2)** Integre nuevamente el sistema de ODEs del modelo de Hodgkin y Huxley sujeto a la corriente del inciso anterior. Use como condición inicial a tiempo $t=0$ los valores de equilibrio estimados en el ejercicio anterior. Integre hasta el tiempo final $t_f=500ms$ usando un paso temporal $dt=0.01ms$.\n",
        "\n",
        "**3)** Grafique el potencial de membrana en función del tiempo, i.e. $v(t)$ vs $t$ en el rango calculado.\n",
        "\n",
        "**4)** Grafique la evolución de las fraciones de canales activos e inactivos, $n(t)$, $m(t)$ y $h(t)$ vs $t$.\n",
        "\n",
        "**5)** Discuta como responde la neurona en el primer impulso a $t=2ms$. Luego, como responde al segundo impulso a $t=10ms$. Existe una diferencia? Explique.\n"
      ],
      "metadata": {
        "id": "6w_cSyouRR7-"
      }
    },
    {
      "cell_type": "code",
      "source": [
        "# 4.1)"
      ],
      "metadata": {
        "id": "l_BGUM10Q-hn"
      },
      "execution_count": null,
      "outputs": []
    },
    {
      "cell_type": "markdown",
      "source": [
        "## Ejercicio 5) ráfaga\n",
        "\n",
        "**1)** Implemente la corriente de membrana\n",
        "\n",
        "$$\n",
        "i(t) = \\left\\{\n",
        "\\begin{array}{ll}\n",
        "10 \\mu A/cm^2, & t\\in [5ms,\\infty ms) \\\\\n",
        "0 \\mu A/cm^2, & c.c. \\\\\n",
        "\\end{array}\n",
        "\\right.\n",
        "$$\n",
        "\n",
        "Esta corriente representa un estímulo constante.\n",
        "\n",
        "**2)** Integre nuevamente las ODEs para $t\\in[0ms,100ms]$, usando como condición incial los valores de equilibrio derivados en el inciso **6)** y un paso de integración $dt=0.01$.\n",
        "\n",
        "**3)** Grafique nuevamente el potencial de membrana en el rango de tiempos calculado.\n",
        "\n",
        "**4)** Grafique nuevamente fracciones de canales activos e inactivos vs el tiempo.\n",
        "\n",
        "**5)** Discuta lo que observa y explique."
      ],
      "metadata": {
        "id": "an4VSkZAYkfr"
      }
    },
    {
      "cell_type": "code",
      "source": [
        "# 5.1)"
      ],
      "metadata": {
        "id": "kaz-yUPAYSmn"
      },
      "execution_count": null,
      "outputs": []
    },
    {
      "cell_type": "markdown",
      "source": [
        "## Ejercicio 6) período refractario\n",
        "\n",
        "**1)** Implemente la corriente de membrana\n",
        "\n",
        "$$\n",
        "i(t) = \\left\\{\n",
        "\\begin{array}{ll}\n",
        "10 \\mu A/cm^2, & t\\in [10ms\\, k,10 ms\\, k + 2ms], k \\in \\{1,2,3,4,5,...\\}\\\\\n",
        "0 \\mu A/cm^2, & c.c. \\\\\n",
        "\\end{array}\n",
        "\\right.\n",
        "$$\n",
        "\n",
        "**2)** Integre nuevamente las ODEs para $t\\in[0ms,100ms]$, usando la corriente del inciso **12)**, la condición incial los valores de equilibrio derivados en el inciso **6)** y un paso de integración $dt=0.01$.\n",
        "\n",
        "**3)** Grafique nuevamente el potencial de membrana en el rango de tiempos calculado.\n",
        "\n",
        "**4)** Grafique nuevamente fracciones de canales activos e inactivos vs el tiempo.\n",
        "\n",
        "**5)** Discuta lo que observa y explique."
      ],
      "metadata": {
        "id": "u77_eLTycyCQ"
      }
    },
    {
      "cell_type": "code",
      "source": [
        "# 6.1)"
      ],
      "metadata": {
        "id": "SqCqJAiXdDR-"
      },
      "execution_count": null,
      "outputs": []
    },
    {
      "cell_type": "markdown",
      "source": [
        "## Ejercicio 7) exitaciones espontáneas en respuesta al ruido\n",
        "\n",
        "**1)** Implemente una corriente estocástica que retorne un valor $i(t)\\sim i_0 N(0,1)$ (i.e. $i_0$ por un valor aleatorio obtenido de una distribución normal de media 0 y varianza 1) para cada valor de $t$ en el que sea evaluada.\n",
        "\n",
        "**2)** Integre nuevamente las ODEs para $t\\in[0ms,500ms]$, usando la corriente del inciso **22)** para $i_0=50\\mu A$, la condición incial los valores de equilibrio derivados en el inciso **6)** y un paso de integración $dt=0.01$.\n",
        "**IMPORTANTE**: para integrar, utilice en este caso el método de Euler, ya que estaríamos integrando un proceso estocástico.\n",
        "\n",
        "**3)** Grafique nuevamente el potencial de membrana en el rango de tiempos calculado.\n",
        "\n",
        "**4)** Grafique nuevamente fracciones de canales activos e inactivos vs el tiempo.\n",
        "\n",
        "**5)** Observa picos de activación cada tanto? Aparecen con regularidad? Estime con que frecuencia observa los picos."
      ],
      "metadata": {
        "id": "XIwRa78TcyLQ"
      }
    },
    {
      "cell_type": "code",
      "source": [
        "# 7.1)"
      ],
      "metadata": {
        "id": "OItBxkeXcm-B"
      },
      "execution_count": null,
      "outputs": []
    }
  ]
}