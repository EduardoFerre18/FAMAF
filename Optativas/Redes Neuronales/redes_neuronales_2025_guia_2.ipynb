{
  "cells": [
    {
      "cell_type": "markdown",
      "metadata": {
        "id": "NRYEofSD0xoF"
      },
      "source": [
        "# Familiarizandose con **Numpy**\n",
        "\n",
        "Referencias:\n",
        "\n",
        "- https://www.datacamp.com/cheat-sheet/numpy-cheat-sheet-data-analysis-in-python\n",
        "- https://towardsdatascience.com/a-cheat-sheet-on-generating-random-numbers-in-numpy-5fe95ec2286\n",
        "\n",
        "## **Ejercicio 1)** Importando librerías\n",
        "\n",
        "Importe las librerías `numpy` para operar con arrays, `scipy` para operar con algebra lineal y `matplotlib.pyplot` para graficar.\n"
      ]
    },
    {
      "cell_type": "code",
      "execution_count": 1,
      "metadata": {
        "id": "I8N3D_nU1_oT"
      },
      "outputs": [],
      "source": [
        "import numpy as np\n",
        "import scipy as sp\n",
        "import matplotlib.pyplot as plt"
      ]
    },
    {
      "cell_type": "markdown",
      "metadata": {
        "id": "NcaGEHAd10sb"
      },
      "source": [
        "## **Ejercicio 2)** Creando arrays\n",
        "\n",
        "**1)** Cree un array de enteros `a` a partir de la lista `[1,2,3]`.\n",
        "\n",
        "**2)** Cree un array bidimensional de flotantes `b` a partir de la lista de listas `[[1.5,2,3],[4,5,6]]`.\n",
        "\n",
        "**3)** Cree un array tridimensional de flotantes `c` a partir de la lista de listas `[[[1.5,2,3],[4,5,6]],[[3,2,1],[4,5,6]]]`.\n"
      ]
    },
    {
      "cell_type": "code",
      "execution_count": 9,
      "metadata": {
        "id": "kmcjSK0BCua3"
      },
      "outputs": [
        {
          "name": "stdout",
          "output_type": "stream",
          "text": [
            "[1 2 3]\n",
            "\n",
            "[[1.5 2.  3. ]\n",
            " [4.  5.  6. ]]\n",
            "[[[1.5 2.  3. ]\n",
            "  [4.  5.  6. ]]\n",
            "\n",
            " [[3.  2.  1. ]\n",
            "  [4.  5.  6. ]]]\n"
          ]
        }
      ],
      "source": [
        "# 2.1)\n",
        "a = np.array([1,2,3])\n",
        "print(f\"{a}\\n\")\n",
        "\n",
        "# 2.2)\n",
        "\n",
        "b = np.array([[1.5,2,3],[4,5,6]])\n",
        "print(b)\n",
        "\n",
        "# 2.3)\n",
        "c = np.array([[[1.5, 2, 3], [4, 5, 6]], [[3, 2, 1], [4, 5, 6]]])\n",
        "print(c)"
      ]
    },
    {
      "cell_type": "markdown",
      "metadata": {
        "id": "qxuzt1pLQAzE"
      },
      "source": [
        "## **Ejercicio 3)** Inicializando arrays\n",
        "\n",
        "**1)** Utilice `np.zeros` para crear un array bidimensional de flotantes incializados a `0.0`, y de dimensiones de tamaños `(3,4)`.\n",
        "\n",
        "**2)** Utilice `np.ones` para crear un array tridimensional de enteros inicializados a `1`, y de dimensiones `(2,3,4)`.\n",
        "\n",
        "**3)** Utilice `np.arange` para crear un array `d` de valores enteros equiespaciados de a `5` entre `10` y `25`.\n",
        "\n",
        "**4)** Utilice `np.linspace` para crear un array de `9` valores flotantes equiespaciados entre `0.0` y `9.0`.\n",
        "\n",
        "**5)** Utilice `np.full` para crear un array bidimensional llamado `e` de entradas iguales a `7`, y de dimesiones `(2,2)`.\n",
        "\n",
        "**6)** Utilice `np.eye` para crear una matriz identidad llamada `f` de dimensiones 2x2.\n",
        "\n",
        "**7)** Utilice `np.random.random` para crear un array bidimensional de dimensiones 2x2 inicializado con valores aleatorios uniformemente sorteados del intervalo $[0,1]$.\n",
        "\n",
        "**8)** Utilice `np.empty` para crear un array bidimensional sin inicializar y de dimensiones `(3,2)`.\n"
      ]
    },
    {
      "cell_type": "code",
      "execution_count": 10,
      "metadata": {
        "id": "am2dMRPnC0BJ"
      },
      "outputs": [
        {
          "name": "stdout",
          "output_type": "stream",
          "text": [
            "[[0. 0. 0. 0.]\n",
            " [0. 0. 0. 0.]\n",
            " [0. 0. 0. 0.]]\n",
            "[[[1 1 1 1]\n",
            "  [1 1 1 1]\n",
            "  [1 1 1 1]]\n",
            "\n",
            " [[1 1 1 1]\n",
            "  [1 1 1 1]\n",
            "  [1 1 1 1]]]\n",
            "[10 15 20]\n",
            "[0.    1.125 2.25  3.375 4.5   5.625 6.75  7.875 9.   ]\n",
            "[[7 7]\n",
            " [7 7]]\n",
            "[[1. 0.]\n",
            " [0. 1.]]\n",
            "[[0.04195738 0.99230836]\n",
            " [0.53067276 0.07909745]]\n",
            "[[1.5 2. ]\n",
            " [3.  4. ]\n",
            " [5.  6. ]]\n"
          ]
        }
      ],
      "source": [
        "#  3.1)\n",
        "\n",
        "arr_zeros = np.zeros((3,4), dtype=np.float64)\n",
        "print(arr_zeros)\n",
        "\n",
        "# 3.2)\n",
        "\n",
        "arr_ones = np.ones((2,3,4), dtype=np.int32)\n",
        "print(arr_ones)\n",
        "\n",
        "# 3.3)\n",
        "\n",
        "d = np.arange(10, 25, 5)\n",
        "print(d)\n",
        "\n",
        "# 3.4)\n",
        "\n",
        "arr_linspace = np.linspace(0.0, 9.0, 9)\n",
        "print(arr_linspace)\n",
        "\n",
        "# 3.5)\n",
        "e = np.full((2,2), 7)\n",
        "print(e)\n",
        "\n",
        "# 3.6)\n",
        "f = np.eye(2)\n",
        "print(f)\n",
        "\n",
        "# 3.7)\n",
        "arr_random = np.random.random((2,2))\n",
        "print(arr_random)\n",
        "\n",
        "# 3.8)\n",
        "arr_empty = np.empty((3,2))\n",
        "print(arr_empty)"
      ]
    },
    {
      "cell_type": "markdown",
      "metadata": {
        "id": "XYA7TEySCIF6"
      },
      "source": [
        "## **Ejercicio 4)** Inspeccionando arrays\n",
        "\n",
        "Considere los arrays de los ejercicios 2) y 3).\n",
        "\n",
        "**1)** Utilizando `.shape`, determine cuales son las dimensiones del array `a`.\n",
        "\n",
        "**2)** Utilizando la función `len()`, determine el _largo_ del array `a`.\n",
        "\n",
        "**3)** Utilizando `.ndim`, determine el número de dimensiones del array `b`.\n",
        "\n",
        "**4)** Utilizando `.size`, determine el número de entradas que tienen `e`.\n",
        "\n",
        "**5)** Utilizando `.dtype`, determine el tipo de los datos contenidos por el array `b`.\n",
        "\n",
        "**6)** Utilizando `.dtype.name`, determine el nombre del tipo de los datos contenidos por el array `b`.\n",
        "\n",
        "**7)** Utilizando `.astype`, convierta el array `b` a un array de tipo `int`.\n"
      ]
    },
    {
      "cell_type": "code",
      "execution_count": 11,
      "metadata": {
        "id": "3w4J3xLLR8J2"
      },
      "outputs": [
        {
          "name": "stdout",
          "output_type": "stream",
          "text": [
            "Dimensiones de a: (3,)\n",
            "\n",
            "Largo de a: 3\n",
            "\n",
            "Número de dimensiones de b: 2\n",
            "\n",
            "Número de entradas de e: 4\n",
            "\n",
            "Tipo de datos de b: float64\n",
            "\n",
            "Nombre de los tipo de datos de b: float64\n",
            "\n"
          ]
        },
        {
          "data": {
            "text/plain": [
              "array([[1, 2, 3],\n",
              "       [4, 5, 6]])"
            ]
          },
          "execution_count": 11,
          "metadata": {},
          "output_type": "execute_result"
        }
      ],
      "source": [
        "# 4.1)\n",
        "print(f\"Dimensiones de a: {a.shape}\\n\")\n",
        "\n",
        "# 4.2)\n",
        "print(f\"Largo de a: {len(a)}\\n\")\n",
        "\n",
        "# 4.3)\n",
        "print(f\"Número de dimensiones de b: {b.ndim}\\n\")\n",
        "\n",
        "# 4.4)\n",
        "print(f\"Número de entradas de e: {e.size}\\n\")\n",
        "\n",
        "# 4.5)\n",
        "print(f\"Tipo de datos de b: {b.dtype}\\n\")\n",
        "\n",
        "# 4.6)\n",
        "print(f\"Nombre de los tipo de datos de b: {b.dtype.name}\\n\")\n",
        "\n",
        "# 4.7)\n",
        "b.astype(int)"
      ]
    },
    {
      "cell_type": "markdown",
      "metadata": {
        "id": "NIvk_fOTpihu"
      },
      "source": [
        "## **Ejercicio 5)** Tipos de datos\n",
        "\n",
        "**1)** Cree un array que contenga elementos de tipo `np.int64`.\n",
        "\n",
        "**2)** Cree un array que contenga elementos de tipo `np.float32`.\n",
        "\n",
        "**3)** Cree un array que contenga elementos de tipo `np.complex128`.\n",
        "\n",
        "**4)** Cree un array que contenga elementos de tipo `np.bool`.\n",
        "\n",
        "**5)** Cree un array que contenga elementos de tipo `np.object`.\n",
        "\n",
        "**6)** Cree un array que contenga elementos de tipo `np.bytes_`.\n",
        "\n",
        "**7)** Cree un array que contenga elementos de tipo `np.str_`.\n"
      ]
    },
    {
      "cell_type": "code",
      "execution_count": 12,
      "metadata": {
        "id": "1MHRaUbvpjTl"
      },
      "outputs": [],
      "source": [
        "# 5.1)\n",
        "arr_int64 = np.array([1, 2, 3], dtype=np.int64)\n",
        "\n",
        "# 5.2)\n",
        "arr_float32 = np.array([1.0, 2.0, 3.0], dtype=np.float32)\n",
        "\n",
        "# 5.3)\n",
        "arr_complex128 = np.array([1+2j, 3+4j, 5+6j], dtype=np.complex128)\n",
        "\n",
        "# 5.4)\n",
        "arr_bool = np.array([True, False, True], dtype=np.bool_)\n",
        "\n",
        "# 5.5)\n",
        "arr_object = np.array([1, \"two\", 3.0], dtype=np.object_)\n",
        "\n",
        "# 5.6)\n",
        "arr_bytes = np.array([b'hello', b'world'], dtype=np.bytes_)\n",
        "\n",
        "# 5.7)\n",
        "arr_str = np.array(['hello', 'world'], dtype=np.str_)\n",
        "\n"
      ]
    },
    {
      "cell_type": "markdown",
      "metadata": {
        "id": "DKT4mjnssUjE"
      },
      "source": [
        "## **Ejercicio 6)** Operando sobre arrays\n",
        "\n",
        "Considere los arrays de los ejercicios 2) y 3).\n",
        "\n",
        "**1)** Calcule la resta `a-b` de los arrays `a` y `b` y almacene el resultado en un array `g`.\n",
        "\n",
        "**2)** Notar que `a` y `b` poseen diferentes dimensiones (i.e., `a.shape` es distinto de `b.shape`) y, sin embargo, en el inciso anterior numpy computa la resta `a-b`. Explique lo que ocurre.\n",
        "\n",
        "**3)** Compare el anterior resultado con el uso de `np.substract`.\n",
        "\n",
        "**4)** Calcule la suma `a+b` de los arrays `a` y `b`.\n",
        "\n",
        "**5)** Compare el anterior resultado con el uso de `np.add`.\n",
        "\n",
        "**6)** Calcule la división punto a punto `a/b` de `a` y `b`.\n",
        "\n",
        "**7)** Compare el anterior resultado con el uso de `np.divide`.\n",
        "\n",
        "**8)** Calcule la multiplicación punto a punto `a*b` de `a` y `b`.\n",
        "\n",
        "**9)** Compare el anterior resultado con el uso de `np.multiply`.\n",
        "\n",
        "**10)** Calcule la exponencial punto a punto `np.exp(b)` de `b`.\n",
        "\n",
        "**11)** Calcule la raíz cuadrada punto a punto `np.sqrt(b)` de `b`.\n",
        "\n",
        "**12)** Calcule el seno punto a punto `np.sin(a)` de `a`.\n",
        "\n",
        "**13)** Calcule el coseno punto a punto `np.cos(b)` de `b`.\n",
        "\n",
        "**14)** Calcule el logaritmo natural punto a punto `np.log(a)` de `a`.\n",
        "\n",
        "**15)** Calcule el producto punto `e.dot(f)` entre `e` y `f`.\n",
        "\n",
        "**16)** Compare el anterior resultado con el uso de `np.dot`.\n",
        "\n",
        "**17)** Explique las diferentes opciones que puede adoptar el producto punto de numpy según el número de dimensiones que tengan sus factores.\n",
        "\n",
        "**Ayuda:** use https://numpy.org/doc/stable/reference/generated/numpy.dot.html\n"
      ]
    },
    {
      "cell_type": "code",
      "execution_count": 18,
      "metadata": {
        "id": "S0j5b3fiSZ1U"
      },
      "outputs": [
        {
          "name": "stdout",
          "output_type": "stream",
          "text": [
            "Inciso 6.1\n",
            "[[-0.5  0.   0. ]\n",
            " [-3.  -3.  -3. ]]\n",
            "Inciso 6.3\n",
            "[[-0.5  0.   0. ]\n",
            " [-3.  -3.  -3. ]]\n",
            "[[ True  True  True]\n",
            " [ True  True  True]]\n",
            "Inciso 6.4\n",
            "[[2.5 4.  6. ]\n",
            " [5.  7.  9. ]]\n",
            "Inciso 6.5\n",
            "[[2.5 4.  6. ]\n",
            " [5.  7.  9. ]]\n",
            "[[ True  True  True]\n",
            " [ True  True  True]]\n",
            "Inciso 6.6\n",
            "[[0.66666667 1.         1.        ]\n",
            " [0.25       0.4        0.5       ]]\n",
            "Inciso 6.7\n",
            "[[0.66666667 1.         1.        ]\n",
            " [0.25       0.4        0.5       ]]\n",
            "[[ True  True  True]\n",
            " [ True  True  True]]\n",
            "Inciso 6.8\n",
            "[[ 1.5  4.   9. ]\n",
            " [ 4.  10.  18. ]]\n"
          ]
        }
      ],
      "source": [
        "# 6.1)\n",
        "print(\"Inciso 6.1\")\n",
        "g = a - b\n",
        "print(g)\n",
        "\n",
        "# 6.2)\n",
        "# Numpy aplica broadcasting para poder operar arrays de diferentes dimensiones.\n",
        "\n",
        "# 6.3)\n",
        "print(\"Inciso 6.3\")\n",
        "g2 = np.subtract(a, b)\n",
        "print(g2)\n",
        "print(g == g2)\n",
        "\n",
        "# 6.4)\n",
        "print(\"Inciso 6.4\")\n",
        "h = a + b\n",
        "print(h)\n",
        "\n",
        "# 6.5)\n",
        "print(\"Inciso 6.5\")\n",
        "h2 = np.add(a, b)\n",
        "print(h2)\n",
        "print(h == h2)\n",
        "\n",
        "# 6.6)\n",
        "print(\"Inciso 6.6\")\n",
        "i = a / b\n",
        "print(i)\n",
        "\n",
        "# 6.7)\n",
        "print(\"Inciso 6.7\")\n",
        "i2 = np.divide(a, b)\n",
        "print(i2)\n",
        "print(i == i2)\n",
        "\n",
        "# 6.8)\n",
        "print(\"Inciso 6.8\")\n",
        "j = a * b\n",
        "print(j)\n"
      ]
    },
    {
      "cell_type": "code",
      "execution_count": 19,
      "metadata": {},
      "outputs": [
        {
          "name": "stdout",
          "output_type": "stream",
          "text": [
            "Inciso 6.9\n",
            "[[ 1.5  4.   9. ]\n",
            " [ 4.  10.  18. ]]\n",
            "[[ True  True  True]\n",
            " [ True  True  True]]\n"
          ]
        }
      ],
      "source": [
        "# 6.9)\n",
        "print(\"Inciso 6.9\")\n",
        "j2 = np.multiply(a, b)\n",
        "print(j2)\n",
        "print(j == j2)"
      ]
    },
    {
      "cell_type": "code",
      "execution_count": 17,
      "metadata": {},
      "outputs": [
        {
          "name": "stdout",
          "output_type": "stream",
          "text": [
            "Inciso 6.10\n",
            "[[  4.48168907   7.3890561   20.08553692]\n",
            " [ 54.59815003 148.4131591  403.42879349]]\n",
            "[[1.22474487 1.41421356 1.73205081]\n",
            " [2.         2.23606798 2.44948974]]\n",
            "Inciso 6.12\n",
            "[0.84147098 0.90929743 0.14112001]\n",
            "Inciso 6.13\n",
            "[[ 0.0707372  -0.41614684 -0.9899925 ]\n",
            " [-0.65364362  0.28366219  0.96017029]]\n",
            "Inciso 6.14\n",
            "[0.         0.69314718 1.09861229]\n",
            "Inciso 6.15\n",
            "[[7. 7.]\n",
            " [7. 7.]]\n",
            "Inciso 6.16\n",
            "[[7. 7.]\n",
            " [7. 7.]]\n",
            "[[ True  True]\n",
            " [ True  True]]\n"
          ]
        },
        {
          "data": {
            "text/plain": [
              "array([[1.22474487, 1.41421356, 1.73205081],\n",
              "       [2.        , 2.23606798, 2.44948974]])"
            ]
          },
          "execution_count": 17,
          "metadata": {},
          "output_type": "execute_result"
        }
      ],
      "source": [
        "# 6.10)\n",
        "print(\"Inciso 6.10\")\n",
        "k = np.exp(b)\n",
        "print(k)\n",
        "\n",
        "# 6.11)\n",
        "p = np.sqrt(b)\n",
        "print(l)\n",
        "\n",
        "# 6.12)\n",
        "print(\"Inciso 6.12\")\n",
        "m = np.sin(a)\n",
        "print(m)\n",
        "\n",
        "# 6.13)\n",
        "print(\"Inciso 6.13\")\n",
        "n = np.cos(b)\n",
        "print(n)\n",
        "\n",
        "# 6.14)\n",
        "print(\"Inciso 6.14\")\n",
        "o = np.log(a)\n",
        "print(o)\n",
        "\n",
        "# 6.15)\n",
        "print(\"Inciso 6.15\")\n",
        "p = e.dot(f)\n",
        "print(p)\n",
        "\n",
        "# 6.16)\n",
        "print(\"Inciso 6.16\")\n",
        "p2 = np.dot(e, f)\n",
        "print(p2)\n",
        "print(p == p2)\n",
        "\n",
        "# 6.17)\n",
        "# Si ambos arrays son 1-D, el producto punto es el producto escalar de los\n",
        "# vectores. Si ambos son 2-D, es la multiplicación matricial. Si uno de los\n",
        "# argumentos es N-D, N>2, se trata como una matriz de sus últimas dos\n",
        "# dimensiones y las otras dimensiones se consideran como índices. Si los\n",
        "# arrays no son al menos 1-D, se lanza un ValueError.\n",
        "# Si las dimensiones no son compatibles, se lanza un ValueError.\n",
        "# Si los arrays son de enteros o booleanos, el resultado es un entero. Si\n",
        "# alguno de los arrays es de punto flotante, el resultado es un punto\n",
        "# flotante. De manera similar, si alguno de los arrays es complejo, el\n",
        "# resultado es complejo.  rint(\"Inciso 6.11\")\n",
        "l  "
      ]
    },
    {
      "cell_type": "markdown",
      "metadata": {
        "id": "Jo3x-Y7WZBBu"
      },
      "source": [
        "## **Ejercicio 7)** Comparando arrays\n",
        "\n",
        "**1)** Use `==` para realizar una compación punto a punto de los arrays `a` y `b`.\n",
        "\n",
        "**2)** Use `<` para realizar una comparación punto a punto del array `b` con el escalar `2`.\n",
        "\n",
        "**3)** Use `np.array_equal(a,b)` para determinar si `a` y `b` son iguales como arrays.\n"
      ]
    },
    {
      "cell_type": "code",
      "execution_count": 21,
      "metadata": {
        "id": "H9n8g9-GZAM6"
      },
      "outputs": [
        {
          "name": "stdout",
          "output_type": "stream",
          "text": [
            "Inciso 7.1\n",
            "[[False  True  True]\n",
            " [False False False]]\n",
            "Inciso 7.2\n",
            "[[ True False False]\n",
            " [False False False]]\n",
            "Inciso 7.3\n",
            "False\n"
          ]
        }
      ],
      "source": [
        "# 7.1)\n",
        "print(\"Inciso 7.1\")\n",
        "print(a == b)\n",
        "\n",
        "# 7.2)\n",
        "print(\"Inciso 7.2\")\n",
        "print(b < 2)\n",
        "\n",
        "# 7.3)\n",
        "print(\"Inciso 7.3\")\n",
        "print(np.array_equal(a,b))"
      ]
    },
    {
      "cell_type": "markdown",
      "metadata": {
        "id": "JUrKqiWLZScG"
      },
      "source": [
        "## **Ejercicio 8)** _Copiando_ arrays\n",
        "\n",
        "**1)** Use `.view()` para crear una vista llamada `h` del array `a`.\n",
        "\n",
        "**2)** Use `.copy()` para crear una copia del array `a`.\n"
      ]
    },
    {
      "cell_type": "code",
      "execution_count": 23,
      "metadata": {
        "id": "7bQI_mVoZRoS"
      },
      "outputs": [
        {
          "name": "stdout",
          "output_type": "stream",
          "text": [
            "Inciso 8.1\n",
            "[1 2 3]\n",
            "Inciso 8.2\n",
            "[1 2 3]\n"
          ]
        }
      ],
      "source": [
        "# 8.1)\n",
        "print(\"Inciso 8.1\")\n",
        "h = a.view()\n",
        "print(h)\n",
        "\n",
        "# 8.2)\n",
        "print(\"Inciso 8.2\")\n",
        "h2 = a.copy()\n",
        "print(h2)\n",
        "\n",
        "#La diferencia entre view y copy es que la vista comparte la misma memoria que el array original, mientras que la copia crea un nuevo array en una ubicación de memoria diferente. Por lo tanto, los cambios realizados en la vista afectarán al array original, mientras que los cambios realizados en la copia no afectarán al array original.\n"
      ]
    },
    {
      "cell_type": "markdown",
      "metadata": {
        "id": "rBJYDjW8ZZNw"
      },
      "source": [
        "## **Ejercicio 9)** Ordenado\n",
        "\n",
        "**1)** Use `.sort()` para ordenar los elementos de `a`.\n",
        "\n",
        "**2)** Ordene los elementos de `c` a lo largo del eje `0`. Explique.\n"
      ]
    },
    {
      "cell_type": "code",
      "execution_count": 24,
      "metadata": {
        "id": "NNNzAqsmljKV"
      },
      "outputs": [
        {
          "name": "stdout",
          "output_type": "stream",
          "text": [
            "Inciso 9.1\n",
            "[1 2 3]\n",
            "Inciso 9.2\n",
            "[[[1.5 2.  1. ]\n",
            "  [4.  5.  6. ]]\n",
            "\n",
            " [[3.  2.  3. ]\n",
            "  [4.  5.  6. ]]]\n"
          ]
        }
      ],
      "source": [
        "# 9.1)\n",
        "print(\"Inciso 9.1\")\n",
        "a.sort()\n",
        "print(a)\n",
        "\n",
        "# 9.2)\n",
        "print(\"Inciso 9.2\")\n",
        "c.sort(axis=0)\n",
        "print(c)\n",
        "\n",
        "# Explicacion\n",
        "# Al ordenar a lo largo del eje 0, se ordenan las filas de la matriz tridimensional 'c' para cada combinación de las otras dos dimensiones. \n",
        "# Es decir, para cada par de índices en las dos primeras dimensiones, se ordenan los elementos a lo largo de la tercera dimensión."
      ]
    },
    {
      "cell_type": "markdown",
      "metadata": {
        "id": "eLeebs0YZlLK"
      },
      "source": [
        "## **Ejercicio 10)** Indexado y _slicing_ (rebanado) de arrays\n",
        "\n",
        "**1)** Seleccione el segundo elemento de `a`.\n",
        "\n",
        "**2)** Seleccione el elemento en la fila 1 y columna 2 de `b`.\n",
        "\n",
        "Si `n` y `m` son enteros, luego `[n:m]` indica el rango de índices que van desde `n` hasta `m-1`.\n",
        "\n",
        "**3)** Seleccione el rango `[0:2]` de elementos de `a`.\n",
        "\n",
        "**4)** Seleccione los elementos de `b` en el rango `[0:2]` de filas y la columna `1`.\n",
        "\n",
        "**5)** Seleccione todos los elementos de `b` que esten en el rango de filas `[0:1]` y el rango completo de columnas.\n",
        "\n",
        "**6)** Uso de _elipsis_. Seleccione los elementos de `c` indexados por `[1,...]`. Es esto lo mismo que lo indexado por `[1,:,:]`?\n",
        "\n",
        "Si `n`, `m` y `s` son enteros, luego `[n:m:s]` indica el rango de índices que van desde `n` hasta `m-1` saltando de a `s` elementos.\n",
        "\n",
        "**7)** Utilice lo mencionado anteriormente para acceder a los elementos de `a` de forma invertida.\n",
        "\n",
        "**8)** Seleccione los elementos de `a` que sean menores que dos.\n",
        "\n",
        "**9)** Seleccione los elementos de `b` indicados por la lista de índices `[(1,0),(0,1),(1,2),(0,0)]` utilizando, correspondientemente, una lista de indices fila y una lista de índices columna.\n",
        "\n",
        "**10)** Utilizando una lista de indices fila, seleccione las filas `1,0,1,0` de `b`, y luego, para cada selección anterior, utilice una lista de índices columna para seleccionar las columnas `0,1,2,0`.\n"
      ]
    },
    {
      "cell_type": "code",
      "execution_count": 26,
      "metadata": {
        "id": "DKfWU3ABZrO6"
      },
      "outputs": [
        {
          "name": "stdout",
          "output_type": "stream",
          "text": [
            "Inciso 10.1\n",
            "2\n",
            "Inciso 10.2\n",
            "6.0\n",
            "Inciso 10.3\n",
            "[1 2]\n",
            "Inciso 10.4\n",
            "[2. 5.]\n",
            "Inciso 10.5\n",
            "[[1.5 2.  3. ]\n",
            " [4.  5.  6. ]]\n",
            "Inciso 10.6\n",
            "[[3. 2. 3.]\n",
            " [4. 5. 6.]]\n",
            "[[3. 2. 3.]\n",
            " [4. 5. 6.]]\n",
            "Inciso 10.7\n",
            "[3 2 1]\n",
            "Inciso 10.8\n",
            "[1]\n",
            "Inciso 10.9\n",
            "[4.  2.  6.  1.5]\n",
            "Inciso 10.10\n",
            "[4.  2.  6.  1.5]\n"
          ]
        }
      ],
      "source": [
        "# 10.1)\n",
        "print(\"Inciso 10.1\")\n",
        "print(a[1])\n",
        "\n",
        "# 10.2)\n",
        "print(\"Inciso 10.2\")\n",
        "print(b[1][2])\n",
        "\n",
        "# 10.3)\n",
        "print(\"Inciso 10.3\")\n",
        "print(a[0:2])\n",
        "\n",
        "# 10.4)\n",
        "print(\"Inciso 10.4\")\n",
        "print(b[0:2, 1])\n",
        "\n",
        "# 10.5)\n",
        "print(\"Inciso 10.5\")\n",
        "print(b[0:2, :])\n",
        "\n",
        "# 10.6)\n",
        "print(\"Inciso 10.6\")\n",
        "print(c[1,...])\n",
        "print(c[1,:,:])\n",
        "# Si, es lo mismo.\n",
        "\n",
        "# 10.7)\n",
        "print(\"Inciso 10.7\")\n",
        "print(a[::-1])\n",
        "\n",
        "# 10.8)\n",
        "print(\"Inciso 10.8\")\n",
        "print(a[a < 2])\n",
        "\n",
        "# 10.9)\n",
        "print(\"Inciso 10.9\")\n",
        "row_indices = [1, 0, 1, 0]\n",
        "col_indices = [0, 1, 2, 0]\n",
        "print(b[row_indices, col_indices])\n",
        "\n",
        "# 10.10)\n",
        "print(\"Inciso 10.10\")\n",
        "row_indices = [1, 0, 1, 0]\n",
        "col_indices = [0, 1, 2, 0]\n",
        "print(b[row_indices, col_indices])\n"
      ]
    },
    {
      "cell_type": "markdown",
      "metadata": {
        "id": "ElU003n_Z21x"
      },
      "source": [
        "## **Ejercicio 11)** transposición\n",
        "\n",
        "**1)** Use `np.transpose()` para calcular la traspuesta del array `b`, y asignarlo a una variable `i`.\n",
        "\n",
        "**2)** Use `.T` para acceder a `i` de forma traspuesta. Es esta forma traspuesta igual a `b`?\n"
      ]
    },
    {
      "cell_type": "code",
      "execution_count": null,
      "metadata": {
        "id": "PdUyQZaibDQk"
      },
      "outputs": [
        {
          "name": "stdout",
          "output_type": "stream",
          "text": [
            "Inciso 11.1\n",
            "[[1.5 4. ]\n",
            " [2.  5. ]\n",
            " [3.  6. ]]\n",
            "Inciso 11.2\n",
            "[[1.5 2.  3. ]\n",
            " [4.  5.  6. ]]\n",
            "[[1.5 2.  3. ]\n",
            " [4.  5.  6. ]]\n"
          ]
        }
      ],
      "source": [
        "# 11.1)\n",
        "print(\"Inciso 11.1\")\n",
        "i = np.transpose(b)\n",
        "print(i)\n",
        "\n",
        "# 11.2)\n",
        "print(\"Inciso 11.2\")\n",
        "print(i.T)\n",
        "print(b)"
      ]
    },
    {
      "cell_type": "markdown",
      "metadata": {
        "id": "QIaiu19baXiQ"
      },
      "source": [
        "## **Ejercicio 12)** Redimensionado\n",
        "\n",
        "**1)** Use `.ravel()` para _achatar_ el array `b`.\n",
        "\n",
        "**2)** Use `.reshape()` para redimensionar el array `g` de manera que adquiera dimensiones especificadas por la tupla `(3,-2)`.\n",
        "\n",
        "**3)** Que indica aquí el signo negativo del segundo índice?\n"
      ]
    },
    {
      "cell_type": "code",
      "execution_count": 30,
      "metadata": {
        "id": "3f1juN38aUiO"
      },
      "outputs": [
        {
          "name": "stdout",
          "output_type": "stream",
          "text": [
            "Inciso 12.1\n",
            "[1.5 2.  3.  4.  5.  6. ]\n",
            "Inciso 12.2\n",
            "[[-0.5  0. ]\n",
            " [ 0.  -3. ]\n",
            " [-3.  -3. ]]\n"
          ]
        }
      ],
      "source": [
        "# 12.1)\n",
        "print(\"Inciso 12.1\")\n",
        "print(b.ravel())\n",
        "\n",
        "# 12.2)\n",
        "print(\"Inciso 12.2\")\n",
        "g_reshaped = g.reshape(3, -2)\n",
        "print(g_reshaped)\n",
        "\n",
        "# 12.3)\n",
        "# El signo negativo en el segundo índice de la tupla (-2) indica que NumPy\n",
        "# debe calcular automáticamente el tamaño de esa dimensión en función del\n",
        "# tamaño total del array y el tamaño de la otra dimensión especificada (3 en\n",
        "# este caso). Esto es útil cuando no se conoce el tamaño exacto de una\n",
        "# dimensión, pero se quiere que el array tenga una forma específica."
      ]
    },
    {
      "cell_type": "markdown",
      "metadata": {
        "id": "-NfN6hr4afE9"
      },
      "source": [
        "## **Ejercicio 13)** Agregando y quitando elementos\n",
        "\n",
        "**1)** Use `np.resize()` para crear a partir del array `h` un nuevo array de tamaño y dimensiones diferentes indicadas por `(2,6)`.\n",
        "\n",
        "**2)** Use `np.append()` para crear un nuevo array que agrege los elementos de `g` al final de los elementos de `h`. Notar que `h` y `g` tienen diferentes dimensiones. Cómo resuelve `numpy` esta cuestión?\n",
        "\n",
        "**3)** Use `np.insert()` para crear una copia de `a` en donde se inserta el número `5` en la posición indexada por `1`.\n",
        "\n",
        "**4)** Use `np.delete()` para eliminar los elementos de `a` indicados por la lista de índices `[1]`.\n"
      ]
    },
    {
      "cell_type": "code",
      "execution_count": 32,
      "metadata": {
        "id": "eHAdt7bUaRN2"
      },
      "outputs": [
        {
          "name": "stdout",
          "output_type": "stream",
          "text": [
            "Inciso 13.1\n",
            "[[1 2 3 1 2 3]\n",
            " [1 2 3 1 2 3]]\n",
            "Inciso 13.2\n",
            "[ 1.   2.   3.  -0.5  0.   0.  -3.  -3.  -3. ]\n",
            "Inciso 13.3\n",
            "[1 5 2 3]\n",
            "Inciso 13.4\n",
            "[1 3]\n"
          ]
        }
      ],
      "source": [
        "# 13.1)\n",
        "\n",
        "print(\"Inciso 13.1\")\n",
        "h_resized = np.resize(h, (2, 6))\n",
        "print(h_resized)\n",
        "\n",
        "# 13.2)\n",
        "print(\"Inciso 13.2\")\n",
        "hg_appended = np.append(h, g)\n",
        "print(hg_appended)\n",
        "# Numpy \"achata\" los arrays a una dimensión antes de concatenarlos.\n",
        "\n",
        "# 13.3)\n",
        "print(\"Inciso 13.3\")\n",
        "a_inserted = np.insert(a, 1, 5)\n",
        "print(a_inserted)\n",
        "\n",
        "# 13.4)\n",
        "print(\"Inciso 13.4\")\n",
        "a_deleted = np.delete(a, [1])\n",
        "print(a_deleted)\n"
      ]
    },
    {
      "cell_type": "markdown",
      "metadata": {
        "id": "qtvq4B1NaRhe"
      },
      "source": [
        "## **Ejercicio 14)** Combinando arrays\n",
        "\n",
        "**a)** Use `np.concatenate()` para concatenar los arrays `a` y `d`.\n",
        "\n",
        "**b)** Use `np.vstack()` para apilar verticalmente los arrays `a` y `b`.\n",
        "\n",
        "**c)** Use `np.hstack()` para apilar horizontalmente los arrays `e` y `f`.\n"
      ]
    },
    {
      "cell_type": "code",
      "execution_count": 33,
      "metadata": {
        "id": "0NqrIYB3bB61"
      },
      "outputs": [
        {
          "name": "stdout",
          "output_type": "stream",
          "text": [
            "Inciso 14.1\n",
            "[ 1  2  3 10 15 20]\n",
            "Inciso 14.2\n",
            "[[1.  2.  3. ]\n",
            " [1.5 2.  3. ]\n",
            " [4.  5.  6. ]]\n",
            "Inciso 14.3\n",
            "[[7. 7. 1. 0.]\n",
            " [7. 7. 0. 1.]]\n"
          ]
        }
      ],
      "source": [
        "# 14.1)\n",
        "print(\"Inciso 14.1\")\n",
        "print(np.concatenate((a, d)))\n",
        "\n",
        "# 14.2)\n",
        "print(\"Inciso 14.2\")\n",
        "print(np.vstack((a, b)))\n",
        "\n",
        "# 14.3)\n",
        "print(\"Inciso 14.3\")\n",
        "print(np.hstack((e, f)))\n"
      ]
    },
    {
      "cell_type": "markdown",
      "metadata": {
        "id": "QXtaTV8aazoG"
      },
      "source": [
        "## **Ejercicio 15)** _Separando_ arrays\n",
        "\n",
        "**a)** Use `np.hsplit()` para separar horizontalmente el array `a` en 3 partes.\n",
        "\n",
        "**b)** Use `np.vsplit()` para separar verticalmente el array `c` en 2 partes.\n",
        "\n",
        "**c)** Cree el array `z` dado por\n",
        "\n",
        "    [[1, 2, 3, 4],\n",
        "    [2, 0, 0, 2],\n",
        "    [3, 1, 1, 0]]\n",
        "\n",
        "y sepárelo en dos partes a lo largo del eje `1`.\n"
      ]
    },
    {
      "cell_type": "code",
      "execution_count": 34,
      "metadata": {
        "id": "w1zDcFsua-lN"
      },
      "outputs": [
        {
          "name": "stdout",
          "output_type": "stream",
          "text": [
            "Inciso 15.1\n",
            "[array([1]), array([2]), array([3])]\n",
            "Inciso 15.2\n",
            "[array([[[1.5, 2. , 1. ],\n",
            "        [4. , 5. , 6. ]]]), array([[[3., 2., 3.],\n",
            "        [4., 5., 6.]]])]\n",
            "Inciso 15.3\n",
            "[array([[1, 2],\n",
            "       [2, 0],\n",
            "       [3, 1]]), array([[3, 4],\n",
            "       [0, 2],\n",
            "       [1, 0]])]\n"
          ]
        }
      ],
      "source": [
        "# 15.1)\n",
        "print(\"Inciso 15.1\")\n",
        "a_hsplit = np.hsplit(a, 3)\n",
        "print(a_hsplit)\n",
        "\n",
        "# 15.2)\n",
        "print(\"Inciso 15.2\")\n",
        "c_vsplit = np.vsplit(c, 2)\n",
        "print(c_vsplit)\n",
        "\n",
        "# 15.3)\n",
        "print(\"Inciso 15.3\")\n",
        "z = np.array([[1, 2, 3, 4],\n",
        "              [2, 0, 0, 2],\n",
        "              [3, 1, 1, 0]])\n",
        "z_vsplit = np.hsplit(z, 2)\n",
        "print(z_vsplit)\n"
      ]
    },
    {
      "cell_type": "markdown",
      "metadata": {
        "id": "sBolXn9yxIU7"
      },
      "source": [
        "## **Ejercicio 16)** Generando números aleatorios\n",
        "\n",
        "**1)** Use `np.random.random()` para generar un número aleatorio de tipo float64 a partir de la distribución uniforme en $[0,1]$.\n",
        "\n",
        "**2)** Use `np.random.random()` para crear un array de 10 números aleatorios de tipo float64 generados a partir de la distribución uniforme en $[0,1]$.\n",
        "\n",
        "**3)** Use `np.random.random()` para crear un array dos dimensional de dimensiones `(3,4)` conteniendo números aleatorios de tipo float64 generados a partir de la distribución uniforme en $[0,1]$.\n",
        "\n",
        "**4)** Use `np.random.randn()` para generar un número aleatorio de tipo float64 a partir de la distribución normal centrada en $\\mu=0$ y de varianza $\\sigma^2=1$.\n",
        "\n",
        "**5)** Use `np.random.randn()` para generar un número aleatorio de tipo float64 a partir de la distribución normal centrada en $\\mu=5$ y de varianza $\\sigma^2=9$.\n",
        "\n",
        "**6)** Use `np.random.randn()` para generar un array de dimensiones `(3,2,3)` conteniendo números aleatorios de tipo float64 generados a partir de la distribución normal centrada en $\\mu=-1$ y de varianza $\\sigma^2=2$.\n",
        "\n",
        "**7)** Use `np.random.randint()` para generar un número aleatorio de tipo int64 a partir de la distribución uniforme en $\\{0,1,2,3\\}$.\n",
        "\n",
        "**8)** Use `np.random.randint()` para generar un número aleatorio de tipo int64 a partir de la distribución uniforme en $\\{10,11,12,13,14,15\\}$.\n",
        "\n",
        "**9)** Use `np.random.randint()` para generar un array de dimensiones `(3,2,3)` conteniendo números aleatorios de tipo int64 generados a partir de la distribución uniforme en $\\{0,1\\}$.\n",
        "\n",
        "**10)** Use `np.random.choice()` para seleccionar uniformemente al azar un elemento de la lista `[\"perro\",\"gato\",\"loro\",\"caballo\",\"vaca\"]`.\n",
        "\n",
        "**11)** Use `np.random.choice()` para crear un array de dimensiones `(3,3)` con selecciones generadas uniformemente al azar de los elementos de la lista `[\"perro\",\"gato\",\"loro\",\"caballo\",\"vaca\"]`.\n",
        "\n",
        "**12)** Use `np.random.choice()` para crear un array de dimensiones `(3,3,3)` con selecciones generadas al azar de los elementos de la lista `[\"perro\",\"gato\",\"loro\",\"caballo\",\"vaca\"]` de acuerdo a la correspondiente lista de probabilidades `[8/16,4/16,2/16,1/16,1/16]`.\n",
        "\n",
        "**13)** Use `np.random.permutation()` generar una permutación, seleccionada uniformemente al azar una de las `n!` permutaciones que existen de un conjunto de `n` elementos, de una la lista de números entre `0` y `n-1` para `n=10` denominada `lista_n`.\n",
        "\n",
        "**14)** Repita lo anterior usando `np.random.shuffle()` para aleatorizar la lista `lista_n` _in situ_.\n"
      ]
    },
    {
      "cell_type": "code",
      "execution_count": 36,
      "metadata": {
        "id": "UMoFrNm1xEns"
      },
      "outputs": [
        {
          "name": "stdout",
          "output_type": "stream",
          "text": [
            "Inciso 16.1\n",
            "0.33986157083814206\n",
            "Inciso 16.2\n",
            "[0.71425513 0.67864667 0.94205493 0.51871097 0.458701   0.02670849\n",
            " 0.42731833 0.44460245 0.96552907 0.59392678]\n",
            "Inciso 16.3\n",
            "[[0.9865791  0.18415736 0.80622014 0.02291799]\n",
            " [0.65888669 0.59765863 0.89820723 0.02405361]\n",
            " [0.47393152 0.04137283 0.92912839 0.4114331 ]]\n",
            "Inciso 16.4\n",
            "-1.064573408298985\n",
            "Inciso 16.5\n",
            "5.162202282587878\n",
            "Inciso 16.6\n",
            "[[[-2.79858628  0.11929229 -1.63208091]\n",
            "  [-1.27174114 -3.52618433  0.82795904]]\n",
            "\n",
            " [[-1.77701388  0.46270313  0.97722156]\n",
            "  [-1.72428537 -2.4594696  -0.24060781]]\n",
            "\n",
            " [[-1.23541024  0.99424607 -2.27118977]\n",
            "  [-1.36528845 -1.36003217 -2.10277928]]]\n",
            "Inciso 16.7\n",
            "0\n"
          ]
        }
      ],
      "source": [
        "# 16.1)\n",
        "\n",
        "print(\"Inciso 16.1\")\n",
        "print(np.random.random())\n",
        "\n",
        "# 16.2)\n",
        "print(\"Inciso 16.2\")\n",
        "print(np.random.random(10))\n",
        "\n",
        "# 16.3)\n",
        "print(\"Inciso 16.3\")\n",
        "print(np.random.random((3,4)))\n",
        "\n",
        "# 16.4)\n",
        "print(\"Inciso 16.4\")\n",
        "print(np.random.randn())\n",
        "\n",
        "# 16.5)\n",
        "print(\"Inciso 16.5\")\n",
        "print(5 + 3 * np.random.randn())\n",
        "\n",
        "# 16.6)\n",
        "print(\"Inciso 16.6\")\n",
        "print(-1 + np.sqrt(2) * np.random.randn(3,2,3))\n",
        "\n",
        "# 16.7)\n",
        "print(\"Inciso 16.7\")\n",
        "print(np.random.randint(0, 4))\n",
        "\n",
        "\n"
      ]
    },
    {
      "cell_type": "code",
      "execution_count": 40,
      "metadata": {},
      "outputs": [
        {
          "name": "stdout",
          "output_type": "stream",
          "text": [
            "Inciso 16.8\n",
            "12\n",
            "Inciso 16.9\n",
            "[[[1 0 1]\n",
            "  [1 0 0]]\n",
            "\n",
            " [[0 1 1]\n",
            "  [0 1 1]]\n",
            "\n",
            " [[1 0 1]\n",
            "  [1 0 1]]]\n",
            "Inciso 16.10\n",
            "gato\n",
            "Inciso 16.11\n",
            "[['loro' 'perro' 'loro']\n",
            " ['gato' 'vaca' 'caballo']\n",
            " ['gato' 'perro' 'caballo']]\n",
            "Inciso 16.12\n",
            "[[['loro' 'perro' 'vaca']\n",
            "  ['gato' 'gato' 'perro']\n",
            "  ['gato' 'perro' 'gato']]\n",
            "\n",
            " [['perro' 'perro' 'gato']\n",
            "  ['gato' 'gato' 'perro']\n",
            "  ['perro' 'gato' 'perro']]\n",
            "\n",
            " [['gato' 'gato' 'gato']\n",
            "  ['perro' 'loro' 'gato']\n",
            "  ['perro' 'perro' 'perro']]]\n"
          ]
        }
      ],
      "source": [
        "# 16.8)\n",
        "print(\"Inciso 16.8\")\n",
        "print(np.random.randint(10, 16, dtype=np.int64))\n",
        "\n",
        "# 16.9)\n",
        "print(\"Inciso 16.9\")\n",
        "array_3_2_3 = np.random.randint(0, 2, size=(3, 2, 3), dtype=np.int64)\n",
        "print(array_3_2_3)\n",
        "\n",
        "# 16.10)\n",
        "print(\"Inciso 16.10\")\n",
        "animals = [\"perro\",\"gato\",\"loro\",\"caballo\",\"vaca\"]\n",
        "random_animal = np.random.choice(animals)\n",
        "print(random_animal)\n",
        "\n",
        "# 16.11)\n",
        "print(\"Inciso 16.11\")\n",
        "random_animals_array = np.random.choice(animals, size=(3, 3))\n",
        "print(random_animals_array)\n",
        "\n",
        "# 16.12)\n",
        "print(\"Inciso 16.12\")\n",
        "probabilities = [8/16, 4/16, 2/16, 1/16, 1/16]\n",
        "random_weighted_animals_array = np.random.choice(animals, size=(3, 3, 3), p=probabilities)\n",
        "print(random_weighted_animals_array)\n"
      ]
    },
    {
      "cell_type": "code",
      "execution_count": 41,
      "metadata": {},
      "outputs": [
        {
          "name": "stdout",
          "output_type": "stream",
          "text": [
            "Inciso 16.13\n",
            "[9 6 8 7 4 0 2 3 5 1]\n",
            "Inciso 16.14\n",
            "[6 9 5 0 2 3 4 7 8 1]\n"
          ]
        }
      ],
      "source": [
        "# 16.13)\n",
        "print(\"Inciso 16.13\")\n",
        "n = 10\n",
        "lista_n = np.arange(n)\n",
        "permuted_lista_n = np.random.permutation(lista_n)\n",
        "print(permuted_lista_n)\n",
        "\n",
        "# 16.14)\n",
        "print(\"Inciso 16.14\")\n",
        "np.random.shuffle(lista_n)\n",
        "print(lista_n)"
      ]
    }
  ],
  "metadata": {
    "colab": {
      "provenance": []
    },
    "kernelspec": {
      "display_name": "Python 3",
      "name": "python3"
    },
    "language_info": {
      "codemirror_mode": {
        "name": "ipython",
        "version": 3
      },
      "file_extension": ".py",
      "mimetype": "text/x-python",
      "name": "python",
      "nbconvert_exporter": "python",
      "pygments_lexer": "ipython3",
      "version": "3.12.6"
    }
  },
  "nbformat": 4,
  "nbformat_minor": 0
}
