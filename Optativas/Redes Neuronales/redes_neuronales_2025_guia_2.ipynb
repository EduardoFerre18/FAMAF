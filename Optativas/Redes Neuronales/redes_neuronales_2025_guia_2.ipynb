{
  "nbformat": 4,
  "nbformat_minor": 0,
  "metadata": {
    "colab": {
      "provenance": []
    },
    "kernelspec": {
      "name": "python3",
      "display_name": "Python 3"
    },
    "language_info": {
      "name": "python"
    }
  },
  "cells": [
    {
      "cell_type": "markdown",
      "source": [
        "# Familiarizandose con **Numpy**\n",
        "\n",
        "Referencias:\n",
        "* https://www.datacamp.com/cheat-sheet/numpy-cheat-sheet-data-analysis-in-python\n",
        "* https://towardsdatascience.com/a-cheat-sheet-on-generating-random-numbers-in-numpy-5fe95ec2286\n",
        "\n",
        "## **Ejercicio 1)** Importando librerías\n",
        "\n",
        "Importe las librerías `numpy` para operar con arrays, `scipy` para operar con algebra lineal y `matplotlib.pyplot` para graficar."
      ],
      "metadata": {
        "id": "NRYEofSD0xoF"
      }
    },
    {
      "cell_type": "code",
      "source": [
        "import numpy as np\n",
        "import scipy as sp\n",
        "import matplotlib.pyplot as plt"
      ],
      "metadata": {
        "id": "I8N3D_nU1_oT"
      },
      "execution_count": null,
      "outputs": []
    },
    {
      "cell_type": "markdown",
      "source": [
        "## **Ejercicio 2)** Creando arrays\n",
        "\n",
        "**1)** Cree un array de enteros `a` a partir de la lista `[1,2,3]`.\n",
        "\n",
        "**2)** Cree un array bidimensional de flotantes `b` a partir de la lista de listas `[[1.5,2,3],[4,5,6]]`.\n",
        "\n",
        "**3)** Cree un array tridimensional de flotantes `c` a partir de la lista de listas `[[[1.5,2,3],[4,5,6]],[[3,2,1],[4,5,6]]]`."
      ],
      "metadata": {
        "id": "NcaGEHAd10sb"
      }
    },
    {
      "cell_type": "code",
      "source": [
        "# 2.1)\n",
        "a = np.array([1,2,3])"
      ],
      "metadata": {
        "id": "kmcjSK0BCua3"
      },
      "execution_count": null,
      "outputs": []
    },
    {
      "cell_type": "markdown",
      "source": [
        "## **Ejercicio 3)** Inicializando arrays\n",
        "\n",
        "**1)** Utilice `np.zeros` para crear un array bidimensional de flotantes incializados a `0.0`, y de dimensiones de tamaños `(3,4)`.\n",
        "\n",
        "**2)** Utilice `np.ones` para crear un array tridimensional de enteros inicializados a `1`, y de dimensiones `(2,3,4)`.\n",
        "\n",
        "**3)** Utilice `np.arange` para crear un array `d` de valores enteros equiespaciados de a `5` entre `10` y `25`.\n",
        "\n",
        "**4)** Utilice `np.linspace` para crear un array de `9` valores flotantes equiespaciados entre `0.0` y `9.0`.\n",
        "\n",
        "**5)** Utilice `np.full` para crear un array bidimensional llamado `e` de entradas iguales a `7`, y de dimesiones `(2,2)`.\n",
        "\n",
        "**6)** Utilice `np.eye` para crear una matriz identidad llamada `f` de dimensiones 2x2.\n",
        "\n",
        "**7)** Utilice `np.random.random` para crear un array bidimensional de dimensiones 2x2 inicializado con valores aleatorios uniformemente sorteados del intervalo $[0,1]$.\n",
        "\n",
        "**8)** Utilice `np.empty` para crear un array bidimensional sin inicializar y de dimensiones `(3,2)`.\n"
      ],
      "metadata": {
        "id": "qxuzt1pLQAzE"
      }
    },
    {
      "cell_type": "code",
      "source": [
        "# 3.1)"
      ],
      "metadata": {
        "id": "am2dMRPnC0BJ"
      },
      "execution_count": null,
      "outputs": []
    },
    {
      "cell_type": "markdown",
      "source": [
        "## **Ejercicio 4)** Inspeccionando arrays\n",
        "\n",
        "Considere los arrays de los ejercicios 2) y 3).\n",
        "\n",
        "**1)** Utilizando `.shape`, determine cuales son las dimensiones del array `a`.\n",
        "\n",
        "**2)** Utilizando la función `len()`, determine el *largo* del array `a`.\n",
        "\n",
        "**3)** Utilizando `.ndim`, determine el número de dimensiones del array `b`.\n",
        "\n",
        "**4)** Utilizando `.size`, determine el número de entradas que tienen `e`.\n",
        "\n",
        "**5)** Utilizando `.dtype`, determine el tipo de los datos contenidos por el array `b`.\n",
        "\n",
        "**6)** Utilizando `.dtype.name`, determine el nombre del tipo de los datos contenidos por el array `b`.\n",
        "\n",
        "**7)** Utilizando `.astype`, convierta el array `b` a un array de tipo `int`.\n",
        "\n"
      ],
      "metadata": {
        "id": "XYA7TEySCIF6"
      }
    },
    {
      "cell_type": "code",
      "source": [
        "# 4.1)"
      ],
      "metadata": {
        "id": "3w4J3xLLR8J2"
      },
      "execution_count": null,
      "outputs": []
    },
    {
      "cell_type": "markdown",
      "source": [
        "## **Ejercicio 5)** Tipos de datos\n",
        "\n",
        "**1)** Cree un array que contenga elementos de tipo `np.int64`.\n",
        "\n",
        "**2)** Cree un array que contenga elementos de tipo `np.float32`.\n",
        "\n",
        "**3)** Cree un array que contenga elementos de tipo `np.complex128`.\n",
        "\n",
        "**4)** Cree un array que contenga elementos de tipo `np.bool`.\n",
        "\n",
        "**5)** Cree un array que contenga elementos de tipo `np.object`.\n",
        "\n",
        "**6)** Cree un array que contenga elementos de tipo `np.bytes_`.\n",
        "\n",
        "**7)** Cree un array que contenga elementos de tipo `np.str_`."
      ],
      "metadata": {
        "id": "NIvk_fOTpihu"
      }
    },
    {
      "cell_type": "code",
      "source": [
        "# 5.1)"
      ],
      "metadata": {
        "id": "1MHRaUbvpjTl"
      },
      "execution_count": null,
      "outputs": []
    },
    {
      "cell_type": "markdown",
      "source": [
        "## **Ejercicio 6)** Operando sobre arrays\n",
        "\n",
        "Considere los arrays de los ejercicios 2) y 3).\n",
        "\n",
        "**1)** Calcule la resta `a-b` de los arrays `a` y `b` y almacene el resultado en un array `g`.\n",
        "\n",
        "**2)** Notar que `a` y `b` poseen diferentes dimensiones (i.e., `a.shape` es distinto de `b.shape`) y, sin embargo, en el inciso anterior numpy computa la resta `a-b`. Explique lo que ocurre.\n",
        "\n",
        "**3)** Compare el anterior resultado con el uso de `np.substract`.\n",
        "\n",
        "**4)** Calcule la suma `a+b` de los arrays `a` y `b`.\n",
        "\n",
        "**5)** Compare el anterior resultado con el uso de `np.add`.\n",
        "\n",
        "**6)** Calcule la división punto a punto  `a/b` de `a` y `b`.\n",
        "\n",
        "**7)** Compare el anterior resultado con el uso de `np.divide`.\n",
        "\n",
        "**8)** Calcule la multiplicación punto a punto  `a*b` de `a` y `b`.\n",
        "\n",
        "**9)** Compare el anterior resultado con el uso de `np.multiply`.\n",
        "\n",
        "**10)** Calcule la exponencial punto a punto  `np.exp(b)` de `b`.\n",
        "\n",
        "**11)** Calcule la raíz cuadrada punto a punto  `np.sqrt(b)` de `b`.\n",
        "\n",
        "**12)** Calcule el seno punto a punto  `np.sin(a)` de `a`.\n",
        "\n",
        "**13)** Calcule el coseno punto a punto  `np.cos(b)` de `b`.\n",
        "\n",
        "**14)** Calcule el logaritmo natural punto a punto  `np.log(a)` de `a`.\n",
        "\n",
        "**15)** Calcule el producto punto `e.dot(f)` entre `e` y `f`.\n",
        "\n",
        "**16)** Compare el anterior resultado con el uso de `np.dot`.\n",
        "\n",
        "**17)** Explique las diferentes opciones que puede adoptar el producto punto de numpy según el número de dimensiones que tengan sus factores.\n",
        "\n",
        "**Ayuda:** use https://numpy.org/doc/stable/reference/generated/numpy.dot.html"
      ],
      "metadata": {
        "id": "DKT4mjnssUjE"
      }
    },
    {
      "cell_type": "code",
      "source": [
        "\n",
        "# 6.1)"
      ],
      "metadata": {
        "id": "S0j5b3fiSZ1U"
      },
      "execution_count": null,
      "outputs": []
    },
    {
      "cell_type": "markdown",
      "source": [
        "## **Ejercicio 7)** Comparando arrays\n",
        "\n",
        "**1)** Use `==` para realizar una compación punto a punto de los arrays `a` y `b`.\n",
        "\n",
        "**2)** Use `<` para realizar una comparación punto a punto del array `b` con el escalar `2`.\n",
        "\n",
        "**3)** Use `np.array_equal(a,b)` para determinar si `a` y `b` son iguales como arrays."
      ],
      "metadata": {
        "id": "Jo3x-Y7WZBBu"
      }
    },
    {
      "cell_type": "code",
      "source": [
        "# 7.1)"
      ],
      "metadata": {
        "id": "H9n8g9-GZAM6"
      },
      "execution_count": null,
      "outputs": []
    },
    {
      "cell_type": "markdown",
      "source": [
        "## **Ejercicio 8)** *Copiando* arrays\n",
        "\n",
        "**1)** Use `.view()` para crear una vista llamada `h` del array `a`.\n",
        "\n",
        "**2)** Use `.copy()` para crear una copia del array `a`."
      ],
      "metadata": {
        "id": "JUrKqiWLZScG"
      }
    },
    {
      "cell_type": "code",
      "source": [
        "# 8.1)"
      ],
      "metadata": {
        "id": "7bQI_mVoZRoS"
      },
      "execution_count": null,
      "outputs": []
    },
    {
      "cell_type": "markdown",
      "source": [
        "## **Ejercicio 9)** Ordenado\n",
        "\n",
        "**1)** Use `.sort()` para ordenar los elementos de `a`.\n",
        "\n",
        "**2)** Ordene los elementos de `c` a lo largo del eje `0`. Explique."
      ],
      "metadata": {
        "id": "rBJYDjW8ZZNw"
      }
    },
    {
      "cell_type": "code",
      "source": [
        "# 9.1)"
      ],
      "metadata": {
        "id": "NNNzAqsmljKV"
      },
      "execution_count": null,
      "outputs": []
    },
    {
      "cell_type": "markdown",
      "source": [
        "## **Ejercicio 10)** Indexado y *slicing* (rebanado) de arrays\n",
        "\n",
        "**1)** Seleccione el segundo elemento de `a`.\n",
        "\n",
        "**2)** Seleccione el elemento en la fila 1 y columna 2 de `b`.\n",
        "\n",
        "Si `n` y `m` son enteros, luego `[n:m]` indica el rango de índices que van desde `n` hasta `m-1`.\n",
        "\n",
        "**3)** Seleccione el rango `[0:2]` de elementos de `a`.\n",
        "\n",
        "**4)** Seleccione los elementos de `b` en el rango `[0:2]` de filas y la columna `1`.\n",
        "\n",
        "**5)** Seleccione todos los elementos de `b` que esten en el rango de filas `[0:1]` y el rango completo de columnas.\n",
        "\n",
        "**6)** Uso de *elipsis*. Seleccione los elementos de `c` indexados por `[1,...]`. Es esto lo mismo que lo indexado por `[1,:,:]`?\n",
        "\n",
        "Si `n`, `m` y `s` son enteros, luego `[n:m:s]` indica el rango de índices que van desde `n` hasta `m-1` saltando de a `s` elementos.\n",
        "\n",
        "**7)** Utilice lo mencionado anteriormente para acceder a los elementos de `a` de forma invertida.\n",
        "\n",
        "**8)** Seleccione los elementos de `a` que sean menores que dos.\n",
        "\n",
        "**9)** Seleccione los elementos de `b` indicados por la lista de índices `[(1,0),(0,1),(1,2),(0,0)]` utilizando, correspondientemente, una lista de indices fila y una lista de índices columna.\n",
        "\n",
        "**10)** Utilizando una lista de indices fila, seleccione las filas `1,0,1,0` de `b`, y luego, para cada selección anterior, utilice una lista de índices columna para seleccionar las columnas `0,1,2,0`."
      ],
      "metadata": {
        "id": "eLeebs0YZlLK"
      }
    },
    {
      "cell_type": "code",
      "source": [
        "# 10.1)"
      ],
      "metadata": {
        "id": "DKfWU3ABZrO6"
      },
      "execution_count": null,
      "outputs": []
    },
    {
      "cell_type": "markdown",
      "source": [
        "## **Ejercicio 11)** transposición\n",
        "\n",
        "**1)** Use `np.transpose()` para calcular la traspuesta del array `b`, y asignarlo a una variable `i`.\n",
        "\n",
        "**2)** Use `.T` para acceder a `i` de forma traspuesta. Es esta forma traspuesta igual a `b`?"
      ],
      "metadata": {
        "id": "ElU003n_Z21x"
      }
    },
    {
      "cell_type": "code",
      "source": [
        "# 11.1)"
      ],
      "metadata": {
        "id": "PdUyQZaibDQk"
      },
      "execution_count": null,
      "outputs": []
    },
    {
      "cell_type": "markdown",
      "source": [
        "## **Ejercicio 12)** Redimensionado\n",
        "\n",
        "**1)** Use `.ravel()` para *achatar* el array `b`.\n",
        "\n",
        "**2)** Use `.reshape()` para redimensionar el array `g` de manera que adquiera dimensiones especificadas por la tupla `(3,-2)`.\n",
        "\n",
        "**3)** Que indica aquí el signo negativo del segundo índice?"
      ],
      "metadata": {
        "id": "QIaiu19baXiQ"
      }
    },
    {
      "cell_type": "code",
      "source": [
        "# 12.1)"
      ],
      "metadata": {
        "id": "3f1juN38aUiO"
      },
      "execution_count": null,
      "outputs": []
    },
    {
      "cell_type": "markdown",
      "source": [
        "## **Ejercicio 13)** Agregando y quitando elementos\n",
        "\n",
        "**1)** Use `np.resize()` para crear a partir del array `h` un nuevo array de tamaño y dimensiones diferentes indicadas por `(2,6)`.\n",
        "\n",
        "**2)** Use `np.append()` para crear un nuevo array que agrege los elementos de `g` al final de los elementos de `h`. Notar que `h` y `g` tienen diferentes dimensiones. Cómo resuelve `numpy` esta cuestión?\n",
        "\n",
        "**3)** Use `np.insert()` para crear una copia de `a` en donde se inserta el número `5` en la posición indexada por `1`.\n",
        "\n",
        "**4)** Use `np.delete()` para eliminar los elementos de `a` indicados por la lista de índices `[1]`."
      ],
      "metadata": {
        "id": "-NfN6hr4afE9"
      }
    },
    {
      "cell_type": "code",
      "source": [
        "# 13.1)"
      ],
      "metadata": {
        "id": "eHAdt7bUaRN2"
      },
      "execution_count": null,
      "outputs": []
    },
    {
      "cell_type": "markdown",
      "source": [
        "## **Ejercicio 14)** Combinando arrays\n",
        "\n",
        "**a)** Use `np.concatenate()` para concatenar los arrays `a` y `d`.\n",
        "\n",
        "**b)** Use `np.vstack()` para apilar verticalmente los arrays `a` y `b`.\n",
        "\n",
        "**c)** Use `np.hstack()` para apilar horizontalmente los arrays `e` y `f`."
      ],
      "metadata": {
        "id": "qtvq4B1NaRhe"
      }
    },
    {
      "cell_type": "code",
      "source": [
        "# 14.1)"
      ],
      "metadata": {
        "id": "0NqrIYB3bB61"
      },
      "execution_count": null,
      "outputs": []
    },
    {
      "cell_type": "markdown",
      "source": [
        "## **Ejercicio 15)** *Separando* arrays\n",
        "\n",
        "**a)** Use `np.hsplit()` para separar horizontalmente el array `a` en 3 partes.\n",
        "\n",
        "**b)** Use `np.vsplit()` para separar verticalmente el array `c` en 2 partes.\n",
        "\n",
        "**c)** Cree el array `z` dado por\n",
        "\n",
        "    [[1, 2, 3, 4],\n",
        "    [2, 0, 0, 2],\n",
        "    [3, 1, 1, 0]]\n",
        "\n",
        "y sepárelo en dos partes a lo largo del eje `1`."
      ],
      "metadata": {
        "id": "QXtaTV8aazoG"
      }
    },
    {
      "cell_type": "code",
      "source": [
        "# 15.1)"
      ],
      "metadata": {
        "id": "w1zDcFsua-lN"
      },
      "execution_count": null,
      "outputs": []
    },
    {
      "cell_type": "markdown",
      "source": [
        "## **Ejercicio 16)** Generando números aleatorios\n",
        "\n",
        "**1)** Use `np.random.random()` para generar un número aleatorio de tipo float64 a partir de la distribución uniforme en $[0,1]$.\n",
        "\n",
        "**2)** Use `np.random.random()` para crear un array de 10 números aleatorios de tipo float64 generados a partir de la distribución uniforme en $[0,1]$.\n",
        "\n",
        "**3)** Use `np.random.random()` para crear un array dos dimensional de dimensiones `(3,4)` conteniendo números aleatorios de tipo float64 generados a partir de la distribución uniforme en $[0,1]$.\n",
        "\n",
        "**4)** Use `np.random.randn()` para generar un número aleatorio de tipo float64 a partir de la distribución normal centrada en $\\mu=0$ y de varianza $\\sigma^2=1$.\n",
        "\n",
        "**5)** Use `np.random.randn()` para generar un número aleatorio de tipo float64 a partir de la distribución normal centrada en $\\mu=5$ y de varianza $\\sigma^2=9$.\n",
        "\n",
        "**6)** Use `np.random.randn()` para generar un array de dimensiones `(3,2,3)` conteniendo números aleatorios de tipo float64 generados a partir de la distribución normal centrada en $\\mu=-1$ y de varianza $\\sigma^2=2$.\n",
        "\n",
        "**7)** Use `np.random.randint()` para generar un número aleatorio de tipo int64 a partir de la distribución uniforme en $\\{0,1,2,3\\}$.\n",
        "\n",
        "**8)** Use `np.random.randint()` para generar un número aleatorio de tipo int64 a partir de la distribución uniforme en $\\{10,11,12,13,14,15\\}$.\n",
        "\n",
        "**9)** Use `np.random.randint()` para generar un array de dimensiones `(3,2,3)` conteniendo números aleatorios de tipo int64 generados a partir de la distribución uniforme en $\\{0,1\\}$.\n",
        "\n",
        "**10)** Use `np.random.choice()` para seleccionar uniformemente al azar un elemento de la lista `[\"perro\",\"gato\",\"loro\",\"caballo\",\"vaca\"]`.\n",
        "\n",
        "**11)** Use `np.random.choice()` para crear un array de dimensiones `(3,3)` con selecciones generadas uniformemente al azar de los elementos de la lista `[\"perro\",\"gato\",\"loro\",\"caballo\",\"vaca\"]`.\n",
        "\n",
        "**12)** Use `np.random.choice()` para crear un array de dimensiones `(3,3,3)` con selecciones generadas al azar de los elementos de la lista `[\"perro\",\"gato\",\"loro\",\"caballo\",\"vaca\"]` de acuerdo a la correspondiente lista de probabilidades `[8/16,4/16,2/16,1/16,1/16]`.\n",
        "\n",
        "**13)** Use `np.random.permutation()` generar una permutación, seleccionada uniformemente al azar una de las `n!` permutaciones que existen de un conjunto de `n` elementos, de una la lista de números entre `0` y `n-1` para `n=10` denominada `lista_n`.\n",
        "\n",
        "**14)** Repita lo anterior usando `np.random.shuffle()` para aleatorizar la lista `lista_n` *in situ*."
      ],
      "metadata": {
        "id": "sBolXn9yxIU7"
      }
    },
    {
      "cell_type": "code",
      "source": [
        "# 16.1)"
      ],
      "metadata": {
        "id": "UMoFrNm1xEns"
      },
      "execution_count": null,
      "outputs": []
    }
  ]
}